{
  "cells": [
    {
      "cell_type": "markdown",
      "metadata": {
        "id": "xrNIGAi6WvKI"
      },
      "source": [
        "# Image Classification Model "
      ]
    },
    {
      "cell_type": "code",
      "execution_count": 1,
      "metadata": {
        "id": "ydPC7T_WWuAI"
      },
      "outputs": [],
      "source": [
        "import tensorflow as tf\n",
        "from keras.applications.resnet import ResNet50, preprocess_input, decode_predictions\n",
        "import numpy as np"
      ]
    },
    {
      "cell_type": "code",
      "execution_count": 2,
      "metadata": {
        "colab": {
          "base_uri": "https://localhost:8080/"
        },
        "id": "f0b-XsKpW-xC",
        "outputId": "c1bbc027-0190-4a38-ef49-1f55889490a8"
      },
      "outputs": [
        {
          "name": "stdout",
          "output_type": "stream",
          "text": [
            "Downloading data from https://storage.googleapis.com/tensorflow/keras-applications/resnet/resnet50_weights_tf_dim_ordering_tf_kernels.h5\n",
            "102967424/102967424 [==============================] - 1s 0us/step\n"
          ]
        }
      ],
      "source": [
        "# Setup model\n",
        "model = ResNet50(weights='imagenet')"
      ]
    },
    {
      "cell_type": "code",
      "execution_count": 3,
      "metadata": {
        "id": "TigExyIaWubR"
      },
      "outputs": [],
      "source": [
        "def predict_resetnet(image_path):\n",
        "    print(\"Loading image... %s\" % image_path)\n",
        "    img = tf.keras.preprocessing.image.load_img(image_path, target_size=(224, 224))\n",
        "    x = tf.keras.preprocessing.image.img_to_array(img)\n",
        "    x = np.expand_dims(x, axis=0) \n",
        "    x = preprocess_input(x)\n",
        "    preds = model.predict(x)\n",
        "\n",
        "    labels = decode_predictions(preds, top=3)[0]\n",
        "    return labels"
      ]
    },
    {
      "cell_type": "code",
      "execution_count": 4,
      "metadata": {
        "colab": {
          "base_uri": "https://localhost:8080/"
        },
        "id": "z0ZBULgxYcjK",
        "outputId": "89e8f7a5-a8d6-4398-dccb-d3b16637985f"
      },
      "outputs": [
        {
          "name": "stdout",
          "output_type": "stream",
          "text": [
            "Loading image... Aero.jpeg\n",
            "1/1 [==============================] - 9s 9s/step\n",
            "Downloading data from https://storage.googleapis.com/download.tensorflow.org/data/imagenet_class_index.json\n",
            "35363/35363 [==============================] - 0s 0us/step\n"
          ]
        },
        {
          "data": {
            "text/plain": [
              "[('n02690373', 'airliner', 0.98221266),\n",
              " ('n04592741', 'wing', 0.010745294),\n",
              " ('n04552348', 'warplane', 0.0066661495)]"
            ]
          },
          "execution_count": 4,
          "metadata": {},
          "output_type": "execute_result"
        }
      ],
      "source": [
        "predict_resetnet(\"Aero.jpeg\")"
      ]
    },
    {
      "cell_type": "code",
      "execution_count": 5,
      "metadata": {
        "colab": {
          "base_uri": "https://localhost:8080/"
        },
        "id": "h4xzpqnVrvxh",
        "outputId": "6ede5db4-d9c2-4bcc-a54e-d059ec6ad1ab"
      },
      "outputs": [
        {
          "name": "stdout",
          "output_type": "stream",
          "text": [
            "Loading image... Truck.jpeg\n",
            "1/1 [==============================] - 0s 30ms/step\n"
          ]
        },
        {
          "data": {
            "text/plain": [
              "[('n04467665', 'trailer_truck', 0.9960282),\n",
              " ('n03796401', 'moving_van', 0.0036215454),\n",
              " ('n03393912', 'freight_car', 0.00018804525)]"
            ]
          },
          "execution_count": 5,
          "metadata": {},
          "output_type": "execute_result"
        }
      ],
      "source": [
        "predict_resetnet(\"Truck.jpeg\")"
      ]
    },
    {
      "cell_type": "code",
      "execution_count": 6,
      "metadata": {
        "colab": {
          "base_uri": "https://localhost:8080/"
        },
        "id": "S5rwF4LZrwPX",
        "outputId": "d1a129c9-29e7-437b-cd3b-ad06a63ad97a"
      },
      "outputs": [
        {
          "name": "stdout",
          "output_type": "stream",
          "text": [
            "Loading image... Shashank.jpeg\n",
            "1/1 [==============================] - 0s 32ms/step\n"
          ]
        },
        {
          "data": {
            "text/plain": [
              "[('n02408429', 'water_buffalo', 0.8243416),\n",
              " ('n02403003', 'ox', 0.16601503),\n",
              " ('n03868242', 'oxcart', 0.0064453264)]"
            ]
          },
          "execution_count": 6,
          "metadata": {},
          "output_type": "execute_result"
        }
      ],
      "source": [
        "predict_resetnet(\"Shashank.jpeg\")"
      ]
    },
    {
      "cell_type": "markdown",
      "metadata": {
        "id": "cDwM0XqobbeK"
      },
      "source": [
        "# Queue"
      ]
    },
    {
      "cell_type": "code",
      "execution_count": 7,
      "metadata": {
        "colab": {
          "base_uri": "https://localhost:8080/"
        },
        "id": "eTwJgJ2FbdAi",
        "outputId": "dceb55ca-020f-4243-b700-10d1e74cfdbc"
      },
      "outputs": [
        {
          "name": "stdout",
          "output_type": "stream",
          "text": [
            "Looking in indexes: https://pypi.org/simple, https://us-python.pkg.dev/colab-wheels/public/simple/\n",
            "Collecting boto3\n",
            "  Downloading boto3-1.26.84-py3-none-any.whl (134 kB)\n",
            "\u001b[2K     \u001b[90m━━━━━━━━━━━━━━━━━━━━━━━━━━━━━━━━━━━━━━━\u001b[0m \u001b[32m134.7/134.7 KB\u001b[0m \u001b[31m4.1 MB/s\u001b[0m eta \u001b[36m0:00:00\u001b[0m\n",
            "\u001b[?25hCollecting botocore<1.30.0,>=1.29.84\n",
            "  Downloading botocore-1.29.84-py3-none-any.whl (10.5 MB)\n",
            "\u001b[2K     \u001b[90m━━━━━━━━━━━━━━━━━━━━━━━━━━━━━━━━━━━━━━━━\u001b[0m \u001b[32m10.5/10.5 MB\u001b[0m \u001b[31m58.4 MB/s\u001b[0m eta \u001b[36m0:00:00\u001b[0m\n",
            "\u001b[?25hCollecting s3transfer<0.7.0,>=0.6.0\n",
            "  Downloading s3transfer-0.6.0-py3-none-any.whl (79 kB)\n",
            "\u001b[2K     \u001b[90m━━━━━━━━━━━━━━━━━━━━━━━━━━━━━━━━━━━━━━━━\u001b[0m \u001b[32m79.6/79.6 KB\u001b[0m \u001b[31m8.8 MB/s\u001b[0m eta \u001b[36m0:00:00\u001b[0m\n",
            "\u001b[?25hCollecting jmespath<2.0.0,>=0.7.1\n",
            "  Downloading jmespath-1.0.1-py3-none-any.whl (20 kB)\n",
            "Requirement already satisfied: python-dateutil<3.0.0,>=2.1 in /usr/local/lib/python3.8/dist-packages (from botocore<1.30.0,>=1.29.84->boto3) (2.8.2)\n",
            "Requirement already satisfied: urllib3<1.27,>=1.25.4 in /usr/local/lib/python3.8/dist-packages (from botocore<1.30.0,>=1.29.84->boto3) (1.26.14)\n",
            "Requirement already satisfied: six>=1.5 in /usr/local/lib/python3.8/dist-packages (from python-dateutil<3.0.0,>=2.1->botocore<1.30.0,>=1.29.84->boto3) (1.15.0)\n",
            "Installing collected packages: jmespath, botocore, s3transfer, boto3\n",
            "Successfully installed boto3-1.26.84 botocore-1.29.84 jmespath-1.0.1 s3transfer-0.6.0\n"
          ]
        }
      ],
      "source": [
        "!pip install boto3"
      ]
    },
    {
      "cell_type": "code",
      "execution_count": 8,
      "metadata": {
        "id": "fQamTC3fbeeF"
      },
      "outputs": [],
      "source": [
        "import boto3\n",
        "import json"
      ]
    },
    {
      "cell_type": "code",
      "execution_count": 9,
      "metadata": {
        "id": "F1OT4sS7bfVg"
      },
      "outputs": [],
      "source": [
        "aws_access_id = \"NULL\"\n",
        "aws_secret_access_key = \"NULL\"\n",
        "\n",
        "sqs = boto3.client(\"sqs\", region_name='ap-south-1', aws_access_key_id=aws_access_id, \n",
        "                   aws_secret_access_key=aws_secret_access_key)\n",
        "\n",
        "queue_url = 'https://sqs.ap-south-1.amazonaws.com/249376139068/<QUEUE_NAME>.fifo'"
      ]
    },
    {
      "cell_type": "code",
      "execution_count": 24,
      "metadata": {
        "colab": {
          "base_uri": "https://localhost:8080/"
        },
        "id": "w4_GFmyrb378",
        "outputId": "eccc8eca-5ebe-4002-cb3e-e4fd6159c42a"
      },
      "outputs": [
        {
          "name": "stdout",
          "output_type": "stream",
          "text": [
            "Loading image... Aero.jpeg\n",
            "1/1 [==============================] - 0s 28ms/step\n",
            "[('n02690373', 'airliner', 0.98221266), ('n04592741', 'wing', 0.010745294), ('n04552348', 'warplane', 0.0066661495)]\n",
            "new messsage received: {\"path\":\"Aero.jpeg\"}\n",
            "Loading image... Truck.jpeg\n",
            "1/1 [==============================] - 0s 27ms/step\n",
            "[('n04467665', 'trailer_truck', 0.9960282), ('n03796401', 'moving_van', 0.0036215454), ('n03393912', 'freight_car', 0.00018804525)]\n",
            "new messsage received: {\"path\":\"Truck.jpeg\"}\n",
            "Loading image... Shashank.jpeg\n",
            "1/1 [==============================] - 0s 34ms/step\n",
            "[('n02408429', 'water_buffalo', 0.8243416), ('n02403003', 'ox', 0.16601503), ('n03868242', 'oxcart', 0.0064453264)]\n",
            "new messsage received: {\"path\":\"Shashank.jpeg\"}\n",
            "Loading image... Aero.jpeg\n",
            "1/1 [==============================] - 0s 26ms/step\n",
            "[('n02690373', 'airliner', 0.98221266), ('n04592741', 'wing', 0.010745294), ('n04552348', 'warplane', 0.0066661495)]\n",
            "new messsage received: {\"path\":\"Aero.jpeg\"}\n",
            "Loading image... Truck.jpeg\n",
            "1/1 [==============================] - 0s 29ms/step\n",
            "[('n04467665', 'trailer_truck', 0.9960282), ('n03796401', 'moving_van', 0.0036215454), ('n03393912', 'freight_car', 0.00018804525)]\n",
            "new messsage received: {\"path\":\"Truck.jpeg\"}\n"
          ]
        }
      ],
      "source": [
        "import json\n",
        "\n",
        "i = 0\n",
        "while True:\n",
        "    response = sqs.receive_message(\n",
        "        QueueUrl=queue_url,\n",
        "        MaxNumberOfMessages=1,\n",
        "        WaitTimeSeconds=2\n",
        "    )\n",
        "\n",
        "    if 'Messages' in response:\n",
        "        message = response['Messages'][0]\n",
        "        print( predict_resetnet( json.loads(message[\"Body\"])[\"path\"] ) )\n",
        "        print(f\"new messsage received: {message['Body']}\")\n",
        "        i += 1\n",
        "    # else:\n",
        "        # print(\"No Message Received\")\n",
        "        \n",
        "    if i >= 5:\n",
        "        break"
      ]
    },
    {
      "cell_type": "code",
      "execution_count": null,
      "metadata": {
        "colab": {
          "base_uri": "https://localhost:8080/"
        },
        "id": "WVunnHL7cAnO",
        "outputId": "ba48c486-b51b-49ce-e529-049f957b92fd"
      },
      "outputs": [
        {
          "name": "stdout",
          "output_type": "stream",
          "text": [
            "done\n"
          ]
        }
      ],
      "source": [
        "    print(\"done\")"
      ]
    },
    {
      "cell_type": "code",
      "execution_count": null,
      "metadata": {
        "id": "BFyIrzkcdotm"
      },
      "outputs": [],
      "source": []
    },
    {
      "cell_type": "markdown",
      "metadata": {
        "id": "Q2sNhUwSvPss"
      },
      "source": [
        "# S3 operations"
      ]
    },
    {
      "cell_type": "code",
      "execution_count": 11,
      "metadata": {
        "id": "WPvTttIzvRMl"
      },
      "outputs": [],
      "source": [
        "bucket = \"img-service-bucket\""
      ]
    },
    {
      "cell_type": "markdown",
      "metadata": {
        "id": "q_N-_MzqwY0Z"
      },
      "source": [
        "## Upload"
      ]
    },
    {
      "cell_type": "code",
      "execution_count": 12,
      "metadata": {
        "id": "E66Fi0yvvR9F"
      },
      "outputs": [],
      "source": [
        "s3 = boto3.client(\"s3\", region_name='ap-south-1', aws_access_key_id=aws_access_id, \n",
        "                   aws_secret_access_key=aws_secret_access_key)"
      ]
    },
    {
      "cell_type": "code",
      "execution_count": 15,
      "metadata": {
        "id": "CCbzcuupvYZX"
      },
      "outputs": [],
      "source": [
        "file_name = \"Aero.jpeg\""
      ]
    },
    {
      "cell_type": "code",
      "execution_count": 16,
      "metadata": {
        "id": "YIbp2EbRv60y"
      },
      "outputs": [],
      "source": [
        "s3.upload_file(file_name, bucket, \"uploads/\" + file_name)"
      ]
    },
    {
      "cell_type": "markdown",
      "metadata": {
        "id": "BM-fW4rUwdkb"
      },
      "source": [
        "## List"
      ]
    },
    {
      "cell_type": "code",
      "execution_count": 17,
      "metadata": {
        "id": "U-7ecDPtwEO1"
      },
      "outputs": [],
      "source": [
        "s3_resource = boto3.resource(\"s3\", region_name='ap-south-1', aws_access_key_id=aws_access_id, \n",
        "                   aws_secret_access_key=aws_secret_access_key)\n",
        "s3_bucket = s3_resource.Bucket(bucket)"
      ]
    },
    {
      "cell_type": "code",
      "execution_count": 18,
      "metadata": {
        "id": "C154RH2owibY"
      },
      "outputs": [],
      "source": [
        "all_files = s3_bucket.objects.all()"
      ]
    },
    {
      "cell_type": "code",
      "execution_count": 19,
      "metadata": {
        "colab": {
          "base_uri": "https://localhost:8080/"
        },
        "id": "LkNgsa4ywkUy",
        "outputId": "7562c316-79ee-49fd-f0f1-8209bf245c8d"
      },
      "outputs": [
        {
          "name": "stdout",
          "output_type": "stream",
          "text": [
            "uploads/\n",
            "uploads/Aero.jpeg\n",
            "uploads/Shashank.jpeg\n",
            "uploads/Truck.jpeg\n"
          ]
        }
      ],
      "source": [
        "for file in all_files:\n",
        "  print(file.key)"
      ]
    },
    {
      "cell_type": "markdown",
      "metadata": {
        "id": "-4kN5LHewph4"
      },
      "source": [
        "## Download"
      ]
    },
    {
      "cell_type": "code",
      "execution_count": 20,
      "metadata": {
        "id": "qqKzcyzGwmG4"
      },
      "outputs": [],
      "source": [
        "s3_object = s3_resource.Object(bucket, 'uploads/Aero.jpeg')\n",
        "s3_object.download_file('p1_tmp.jpg')"
      ]
    },
    {
      "cell_type": "code",
      "execution_count": null,
      "metadata": {
        "id": "iypVsDJgwvjI"
      },
      "outputs": [],
      "source": []
    }
  ],
  "metadata": {
    "accelerator": "GPU",
    "colab": {
      "provenance": []
    },
    "gpuClass": "standard",
    "kernelspec": {
      "display_name": "pytorch-book",
      "language": "python",
      "name": "python3"
    },
    "language_info": {
      "name": "python",
      "version": "3.11.0"
    },
    "vscode": {
      "interpreter": {
        "hash": "6e88b31e8812fab8a8c3167b74bd89ae6a958182eff846370ba1060052b7892b"
      }
    }
  },
  "nbformat": 4,
  "nbformat_minor": 0
}
