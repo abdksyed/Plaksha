{
  "cells": [
    {
      "cell_type": "markdown",
      "metadata": {
        "id": "fgvWFzN_XwWj"
      },
      "source": [
        "## Q1. Housing Price (SVM/SVC)"
      ]
    },
    {
      "cell_type": "markdown",
      "metadata": {
        "id": "HUdNSpZTX53n"
      },
      "source": [
        "#### Load and Explore the Data\n",
        "\n",
        "*   Think about standardizing the data.\n",
        "\n",
        "*  How would you replace discrete attributes\n"
      ]
    },
    {
      "cell_type": "code",
      "execution_count": 2,
      "metadata": {
        "id": "QVdS9TsxYIi5"
      },
      "outputs": [],
      "source": [
        "import numpy as np\n",
        "import pandas as pd\n",
        "import matplotlib.pyplot as plt\n",
        "import seaborn as sns\n",
        "import stat\n",
        "import math"
      ]
    },
    {
      "cell_type": "code",
      "execution_count": 3,
      "metadata": {
        "colab": {
          "base_uri": "https://localhost:8080/",
          "height": 206
        },
        "id": "uwTRpMApYIi6",
        "outputId": "d361eefb-d0f2-4c27-b5f0-e21f0cdd8eb2"
      },
      "outputs": [
        {
          "data": {
            "text/html": [
              "\n",
              "  <div id=\"df-424f5fe4-ef23-40e2-bf51-0706c001e244\">\n",
              "    <div class=\"colab-df-container\">\n",
              "      <div>\n",
              "<style scoped>\n",
              "    .dataframe tbody tr th:only-of-type {\n",
              "        vertical-align: middle;\n",
              "    }\n",
              "\n",
              "    .dataframe tbody tr th {\n",
              "        vertical-align: top;\n",
              "    }\n",
              "\n",
              "    .dataframe thead th {\n",
              "        text-align: right;\n",
              "    }\n",
              "</style>\n",
              "<table border=\"1\" class=\"dataframe\">\n",
              "  <thead>\n",
              "    <tr style=\"text-align: right;\">\n",
              "      <th></th>\n",
              "      <th>area</th>\n",
              "      <th>land</th>\n",
              "      <th>year</th>\n",
              "      <th>price</th>\n",
              "      <th>bldtype</th>\n",
              "    </tr>\n",
              "  </thead>\n",
              "  <tbody>\n",
              "    <tr>\n",
              "      <th>0</th>\n",
              "      <td>2607</td>\n",
              "      <td>1200</td>\n",
              "      <td>2010</td>\n",
              "      <td>825000.0</td>\n",
              "      <td>0</td>\n",
              "    </tr>\n",
              "    <tr>\n",
              "      <th>1</th>\n",
              "      <td>1950</td>\n",
              "      <td>1783</td>\n",
              "      <td>1899</td>\n",
              "      <td>1685000.0</td>\n",
              "      <td>0</td>\n",
              "    </tr>\n",
              "    <tr>\n",
              "      <th>2</th>\n",
              "      <td>2520</td>\n",
              "      <td>1875</td>\n",
              "      <td>1899</td>\n",
              "      <td>1100000.0</td>\n",
              "      <td>0</td>\n",
              "    </tr>\n",
              "    <tr>\n",
              "      <th>3</th>\n",
              "      <td>3750</td>\n",
              "      <td>3125</td>\n",
              "      <td>1931</td>\n",
              "      <td>1200000.0</td>\n",
              "      <td>1</td>\n",
              "    </tr>\n",
              "    <tr>\n",
              "      <th>4</th>\n",
              "      <td>7812</td>\n",
              "      <td>5021</td>\n",
              "      <td>1908</td>\n",
              "      <td>1900000.0</td>\n",
              "      <td>1</td>\n",
              "    </tr>\n",
              "  </tbody>\n",
              "</table>\n",
              "</div>\n",
              "      <button class=\"colab-df-convert\" onclick=\"convertToInteractive('df-424f5fe4-ef23-40e2-bf51-0706c001e244')\"\n",
              "              title=\"Convert this dataframe to an interactive table.\"\n",
              "              style=\"display:none;\">\n",
              "        \n",
              "  <svg xmlns=\"http://www.w3.org/2000/svg\" height=\"24px\"viewBox=\"0 0 24 24\"\n",
              "       width=\"24px\">\n",
              "    <path d=\"M0 0h24v24H0V0z\" fill=\"none\"/>\n",
              "    <path d=\"M18.56 5.44l.94 2.06.94-2.06 2.06-.94-2.06-.94-.94-2.06-.94 2.06-2.06.94zm-11 1L8.5 8.5l.94-2.06 2.06-.94-2.06-.94L8.5 2.5l-.94 2.06-2.06.94zm10 10l.94 2.06.94-2.06 2.06-.94-2.06-.94-.94-2.06-.94 2.06-2.06.94z\"/><path d=\"M17.41 7.96l-1.37-1.37c-.4-.4-.92-.59-1.43-.59-.52 0-1.04.2-1.43.59L10.3 9.45l-7.72 7.72c-.78.78-.78 2.05 0 2.83L4 21.41c.39.39.9.59 1.41.59.51 0 1.02-.2 1.41-.59l7.78-7.78 2.81-2.81c.8-.78.8-2.07 0-2.86zM5.41 20L4 18.59l7.72-7.72 1.47 1.35L5.41 20z\"/>\n",
              "  </svg>\n",
              "      </button>\n",
              "      \n",
              "  <style>\n",
              "    .colab-df-container {\n",
              "      display:flex;\n",
              "      flex-wrap:wrap;\n",
              "      gap: 12px;\n",
              "    }\n",
              "\n",
              "    .colab-df-convert {\n",
              "      background-color: #E8F0FE;\n",
              "      border: none;\n",
              "      border-radius: 50%;\n",
              "      cursor: pointer;\n",
              "      display: none;\n",
              "      fill: #1967D2;\n",
              "      height: 32px;\n",
              "      padding: 0 0 0 0;\n",
              "      width: 32px;\n",
              "    }\n",
              "\n",
              "    .colab-df-convert:hover {\n",
              "      background-color: #E2EBFA;\n",
              "      box-shadow: 0px 1px 2px rgba(60, 64, 67, 0.3), 0px 1px 3px 1px rgba(60, 64, 67, 0.15);\n",
              "      fill: #174EA6;\n",
              "    }\n",
              "\n",
              "    [theme=dark] .colab-df-convert {\n",
              "      background-color: #3B4455;\n",
              "      fill: #D2E3FC;\n",
              "    }\n",
              "\n",
              "    [theme=dark] .colab-df-convert:hover {\n",
              "      background-color: #434B5C;\n",
              "      box-shadow: 0px 1px 3px 1px rgba(0, 0, 0, 0.15);\n",
              "      filter: drop-shadow(0px 1px 2px rgba(0, 0, 0, 0.3));\n",
              "      fill: #FFFFFF;\n",
              "    }\n",
              "  </style>\n",
              "\n",
              "      <script>\n",
              "        const buttonEl =\n",
              "          document.querySelector('#df-424f5fe4-ef23-40e2-bf51-0706c001e244 button.colab-df-convert');\n",
              "        buttonEl.style.display =\n",
              "          google.colab.kernel.accessAllowed ? 'block' : 'none';\n",
              "\n",
              "        async function convertToInteractive(key) {\n",
              "          const element = document.querySelector('#df-424f5fe4-ef23-40e2-bf51-0706c001e244');\n",
              "          const dataTable =\n",
              "            await google.colab.kernel.invokeFunction('convertToInteractive',\n",
              "                                                     [key], {});\n",
              "          if (!dataTable) return;\n",
              "\n",
              "          const docLinkHtml = 'Like what you see? Visit the ' +\n",
              "            '<a target=\"_blank\" href=https://colab.research.google.com/notebooks/data_table.ipynb>data table notebook</a>'\n",
              "            + ' to learn more about interactive tables.';\n",
              "          element.innerHTML = '';\n",
              "          dataTable['output_type'] = 'display_data';\n",
              "          await google.colab.output.renderOutput(dataTable, element);\n",
              "          const docLink = document.createElement('div');\n",
              "          docLink.innerHTML = docLinkHtml;\n",
              "          element.appendChild(docLink);\n",
              "        }\n",
              "      </script>\n",
              "    </div>\n",
              "  </div>\n",
              "  "
            ],
            "text/plain": [
              "   area  land  year      price  bldtype\n",
              "0  2607  1200  2010   825000.0        0\n",
              "1  1950  1783  1899  1685000.0        0\n",
              "2  2520  1875  1899  1100000.0        0\n",
              "3  3750  3125  1931  1200000.0        1\n",
              "4  7812  5021  1908  1900000.0        1"
            ]
          },
          "execution_count": 3,
          "metadata": {},
          "output_type": "execute_result"
        }
      ],
      "source": [
        "url = \"https://drive.google.com/uc?id=1sEtgeWi0lZHFEBvuTi1DcoeqF7TZ-iE1\"\n",
        "df = pd.read_csv(url)\n",
        "df.head()"
      ]
    },
    {
      "cell_type": "code",
      "execution_count": 4,
      "metadata": {
        "id": "z-2B4kvjYIi7"
      },
      "outputs": [],
      "source": [
        "Y = df['bldtype']\n",
        "X = df.drop(['bldtype'], axis = 1)"
      ]
    },
    {
      "cell_type": "markdown",
      "metadata": {
        "id": "kzx2LSBwXA0Q"
      },
      "source": [
        "#### Corelation Map to check co-relation between independent variables."
      ]
    },
    {
      "cell_type": "code",
      "execution_count": 5,
      "metadata": {
        "colab": {
          "base_uri": "https://localhost:8080/",
          "height": 614
        },
        "id": "cEdtZLLtYIi8",
        "outputId": "cd99cd02-c4c6-47bd-aa82-43598c44c1d6"
      },
      "outputs": [
        {
          "data": {
            "text/plain": [
              "<matplotlib.axes._subplots.AxesSubplot at 0x7faffafb1ca0>"
            ]
          },
          "execution_count": 5,
          "metadata": {},
          "output_type": "execute_result"
        },
        {
          "data": {
            "image/png": "[encoded data removed]",
            "text/plain": [
              "<Figure size 1440x720 with 2 Axes>"
            ]
          },
          "metadata": {
            "needs_background": "light"
          },
          "output_type": "display_data"
        }
      ],
      "source": [
        "plt.figure(figsize=(20,10))\n",
        "sns.heatmap(X.corr(), cmap=\"YlGnBu\", annot=True)"
      ]
    },
    {
      "cell_type": "markdown",
      "metadata": {
        "id": "I0vqLxt0YX1t"
      },
      "source": [
        "#### Train-Test Splot 80/20"
      ]
    },
    {
      "cell_type": "code",
      "execution_count": 6,
      "metadata": {
        "id": "ze5R64pUXfgh"
      },
      "outputs": [],
      "source": [
        "from sklearn.model_selection import train_test_split\n",
        "df = pd.get_dummies(df, columns=[\"year\"])\n",
        "Y = df['bldtype'].to_numpy()\n",
        "X = df.drop(['bldtype'], axis = 1).to_numpy()\n",
        "Xtrain, Xtest, Ytrain, Ytest = train_test_split(X,Y,train_size=0.8, random_state=42)"
      ]
    },
    {
      "cell_type": "code",
      "execution_count": 7,
      "metadata": {
        "id": "gMIWQ_fdYIi9"
      },
      "outputs": [],
      "source": [
        "from sklearn.preprocessing import StandardScaler\n",
        "sc = StandardScaler()\n",
        "Xtrain[:,:3] = sc.fit_transform(Xtrain[:,:3])\n",
        "Xtest[:,:3] = sc.transform(Xtest[:,:3])"
      ]
    },
    {
      "cell_type": "markdown",
      "metadata": {
        "id": "5MC7mAvEYi77"
      },
      "source": [
        "#### Train a linear model with soft margin\n",
        "\n",
        "\n",
        "\n",
        "*   Try with initial value of C=1\n",
        "\n"
      ]
    },
    {
      "cell_type": "code",
      "execution_count": 8,
      "metadata": {
        "id": "g1Y4XOosYw1W"
      },
      "outputs": [],
      "source": [
        "from sklearn.svm import SVC\n",
        "classifier = SVC(kernel = 'linear', C = 1) \n",
        "classifier.fit(Xtrain, Ytrain)\n",
        "Ypred = classifier.predict(Xtest)"
      ]
    },
    {
      "cell_type": "code",
      "execution_count": 9,
      "metadata": {
        "colab": {
          "base_uri": "https://localhost:8080/"
        },
        "id": "MipG7x7GYIi9",
        "outputId": "ed878c5c-cfb6-46e7-ae34-28a838c9c061"
      },
      "outputs": [
        {
          "name": "stdout",
          "output_type": "stream",
          "text": [
            "[[13  0]\n",
            " [ 0  6]]\n",
            "100.0\n",
            "              precision    recall  f1-score   support\n",
            "\n",
            "           0       1.00      1.00      1.00        13\n",
            "           1       1.00      1.00      1.00         6\n",
            "\n",
            "    accuracy                           1.00        19\n",
            "   macro avg       1.00      1.00      1.00        19\n",
            "weighted avg       1.00      1.00      1.00        19\n",
            "\n"
          ]
        }
      ],
      "source": [
        "from sklearn.metrics import confusion_matrix, accuracy_score,classification_report\n",
        "cm = confusion_matrix(Ytest, Ypred)\n",
        "print(cm)\n",
        "print(accuracy_score(Ytest, Ypred)*100)\n",
        "print(classification_report(Ytest,Ypred))"
      ]
    },
    {
      "cell_type": "markdown",
      "metadata": {
        "id": "n4Crsr5tYxgZ"
      },
      "source": [
        "#### Use cross validation to find best value of C\n",
        "\n",
        "\n",
        "\n",
        "*   Can do it manually or use GridSearchCV\n",
        "\n",
        "*   Divide the training set into train+validation\n",
        "\n"
      ]
    },
    {
      "cell_type": "code",
      "execution_count": 10,
      "metadata": {
        "id": "GKy2D06pYIi-"
      },
      "outputs": [],
      "source": [
        "from sklearn.model_selection import GridSearchCV"
      ]
    },
    {
      "cell_type": "code",
      "execution_count": 11,
      "metadata": {
        "colab": {
          "base_uri": "https://localhost:8080/"
        },
        "id": "ffjBwjFjYIi-",
        "outputId": "eb5de9cb-ffd8-4431-ed10-1197d0702b0f"
      },
      "outputs": [
        {
          "name": "stdout",
          "output_type": "stream",
          "text": [
            "{'C': 2.848035868435799, 'kernel': 'linear'}\n",
            "100.0\n"
          ]
        }
      ],
      "source": [
        "param_grid = {'C': list(np.logspace(-5,5, num=100)),'kernel':['linear']}  \n",
        "\n",
        "gridSVM = GridSearchCV(SVC(), param_grid, return_train_score=False, cv=5) \n",
        "   \n",
        "# fitting the model for grid search \n",
        "gridSVM.fit(Xtrain, Ytrain) \n",
        "\n",
        "# print best parameter after tuning \n",
        "print(gridSVM.best_params_) \n",
        "Ypred = gridSVM.predict(Xtest) \n",
        "print(accuracy_score(Ytest,Ypred)*100)"
      ]
    },
    {
      "cell_type": "code",
      "execution_count": 12,
      "metadata": {
        "colab": {
          "base_uri": "https://localhost:8080/",
          "height": 645
        },
        "id": "XLyIvaXQ5qTz",
        "outputId": "419e76f8-fdcd-4347-bbc8-d66b99959dfe"
      },
      "outputs": [
        {
          "data": {
            "text/html": [
              "\n",
              "  <div id=\"df-a363a8c3-b721-4c4e-9b5d-dc8f67a1d4cc\">\n",
              "    <div class=\"colab-df-container\">\n",
              "      <div>\n",
              "<style scoped>\n",
              "    .dataframe tbody tr th:only-of-type {\n",
              "        vertical-align: middle;\n",
              "    }\n",
              "\n",
              "    .dataframe tbody tr th {\n",
              "        vertical-align: top;\n",
              "    }\n",
              "\n",
              "    .dataframe thead th {\n",
              "        text-align: right;\n",
              "    }\n",
              "</style>\n",
              "<table border=\"1\" class=\"dataframe\">\n",
              "  <thead>\n",
              "    <tr style=\"text-align: right;\">\n",
              "      <th></th>\n",
              "      <th>GroundTruth</th>\n",
              "      <th>Predict</th>\n",
              "    </tr>\n",
              "  </thead>\n",
              "  <tbody>\n",
              "    <tr>\n",
              "      <th>0</th>\n",
              "      <td>0</td>\n",
              "      <td>0</td>\n",
              "    </tr>\n",
              "    <tr>\n",
              "      <th>1</th>\n",
              "      <td>0</td>\n",
              "      <td>0</td>\n",
              "    </tr>\n",
              "    <tr>\n",
              "      <th>2</th>\n",
              "      <td>0</td>\n",
              "      <td>0</td>\n",
              "    </tr>\n",
              "    <tr>\n",
              "      <th>3</th>\n",
              "      <td>0</td>\n",
              "      <td>0</td>\n",
              "    </tr>\n",
              "    <tr>\n",
              "      <th>4</th>\n",
              "      <td>0</td>\n",
              "      <td>0</td>\n",
              "    </tr>\n",
              "    <tr>\n",
              "      <th>5</th>\n",
              "      <td>0</td>\n",
              "      <td>0</td>\n",
              "    </tr>\n",
              "    <tr>\n",
              "      <th>6</th>\n",
              "      <td>0</td>\n",
              "      <td>0</td>\n",
              "    </tr>\n",
              "    <tr>\n",
              "      <th>7</th>\n",
              "      <td>1</td>\n",
              "      <td>1</td>\n",
              "    </tr>\n",
              "    <tr>\n",
              "      <th>8</th>\n",
              "      <td>0</td>\n",
              "      <td>0</td>\n",
              "    </tr>\n",
              "    <tr>\n",
              "      <th>9</th>\n",
              "      <td>1</td>\n",
              "      <td>1</td>\n",
              "    </tr>\n",
              "    <tr>\n",
              "      <th>10</th>\n",
              "      <td>0</td>\n",
              "      <td>0</td>\n",
              "    </tr>\n",
              "    <tr>\n",
              "      <th>11</th>\n",
              "      <td>1</td>\n",
              "      <td>1</td>\n",
              "    </tr>\n",
              "    <tr>\n",
              "      <th>12</th>\n",
              "      <td>1</td>\n",
              "      <td>1</td>\n",
              "    </tr>\n",
              "    <tr>\n",
              "      <th>13</th>\n",
              "      <td>1</td>\n",
              "      <td>1</td>\n",
              "    </tr>\n",
              "    <tr>\n",
              "      <th>14</th>\n",
              "      <td>0</td>\n",
              "      <td>0</td>\n",
              "    </tr>\n",
              "    <tr>\n",
              "      <th>15</th>\n",
              "      <td>1</td>\n",
              "      <td>1</td>\n",
              "    </tr>\n",
              "    <tr>\n",
              "      <th>16</th>\n",
              "      <td>0</td>\n",
              "      <td>0</td>\n",
              "    </tr>\n",
              "    <tr>\n",
              "      <th>17</th>\n",
              "      <td>0</td>\n",
              "      <td>0</td>\n",
              "    </tr>\n",
              "    <tr>\n",
              "      <th>18</th>\n",
              "      <td>0</td>\n",
              "      <td>0</td>\n",
              "    </tr>\n",
              "  </tbody>\n",
              "</table>\n",
              "</div>\n",
              "      <button class=\"colab-df-convert\" onclick=\"convertToInteractive('df-a363a8c3-b721-4c4e-9b5d-dc8f67a1d4cc')\"\n",
              "              title=\"Convert this dataframe to an interactive table.\"\n",
              "              style=\"display:none;\">\n",
              "        \n",
              "  <svg xmlns=\"http://www.w3.org/2000/svg\" height=\"24px\"viewBox=\"0 0 24 24\"\n",
              "       width=\"24px\">\n",
              "    <path d=\"M0 0h24v24H0V0z\" fill=\"none\"/>\n",
              "    <path d=\"M18.56 5.44l.94 2.06.94-2.06 2.06-.94-2.06-.94-.94-2.06-.94 2.06-2.06.94zm-11 1L8.5 8.5l.94-2.06 2.06-.94-2.06-.94L8.5 2.5l-.94 2.06-2.06.94zm10 10l.94 2.06.94-2.06 2.06-.94-2.06-.94-.94-2.06-.94 2.06-2.06.94z\"/><path d=\"M17.41 7.96l-1.37-1.37c-.4-.4-.92-.59-1.43-.59-.52 0-1.04.2-1.43.59L10.3 9.45l-7.72 7.72c-.78.78-.78 2.05 0 2.83L4 21.41c.39.39.9.59 1.41.59.51 0 1.02-.2 1.41-.59l7.78-7.78 2.81-2.81c.8-.78.8-2.07 0-2.86zM5.41 20L4 18.59l7.72-7.72 1.47 1.35L5.41 20z\"/>\n",
              "  </svg>\n",
              "      </button>\n",
              "      \n",
              "  <style>\n",
              "    .colab-df-container {\n",
              "      display:flex;\n",
              "      flex-wrap:wrap;\n",
              "      gap: 12px;\n",
              "    }\n",
              "\n",
              "    .colab-df-convert {\n",
              "      background-color: #E8F0FE;\n",
              "      border: none;\n",
              "      border-radius: 50%;\n",
              "      cursor: pointer;\n",
              "      display: none;\n",
              "      fill: #1967D2;\n",
              "      height: 32px;\n",
              "      padding: 0 0 0 0;\n",
              "      width: 32px;\n",
              "    }\n",
              "\n",
              "    .colab-df-convert:hover {\n",
              "      background-color: #E2EBFA;\n",
              "      box-shadow: 0px 1px 2px rgba(60, 64, 67, 0.3), 0px 1px 3px 1px rgba(60, 64, 67, 0.15);\n",
              "      fill: #174EA6;\n",
              "    }\n",
              "\n",
              "    [theme=dark] .colab-df-convert {\n",
              "      background-color: #3B4455;\n",
              "      fill: #D2E3FC;\n",
              "    }\n",
              "\n",
              "    [theme=dark] .colab-df-convert:hover {\n",
              "      background-color: #434B5C;\n",
              "      box-shadow: 0px 1px 3px 1px rgba(0, 0, 0, 0.15);\n",
              "      filter: drop-shadow(0px 1px 2px rgba(0, 0, 0, 0.3));\n",
              "      fill: #FFFFFF;\n",
              "    }\n",
              "  </style>\n",
              "\n",
              "      <script>\n",
              "        const buttonEl =\n",
              "          document.querySelector('#df-a363a8c3-b721-4c4e-9b5d-dc8f67a1d4cc button.colab-df-convert');\n",
              "        buttonEl.style.display =\n",
              "          google.colab.kernel.accessAllowed ? 'block' : 'none';\n",
              "\n",
              "        async function convertToInteractive(key) {\n",
              "          const element = document.querySelector('#df-a363a8c3-b721-4c4e-9b5d-dc8f67a1d4cc');\n",
              "          const dataTable =\n",
              "            await google.colab.kernel.invokeFunction('convertToInteractive',\n",
              "                                                     [key], {});\n",
              "          if (!dataTable) return;\n",
              "\n",
              "          const docLinkHtml = 'Like what you see? Visit the ' +\n",
              "            '<a target=\"_blank\" href=https://colab.research.google.com/notebooks/data_table.ipynb>data table notebook</a>'\n",
              "            + ' to learn more about interactive tables.';\n",
              "          element.innerHTML = '';\n",
              "          dataTable['output_type'] = 'display_data';\n",
              "          await google.colab.output.renderOutput(dataTable, element);\n",
              "          const docLink = document.createElement('div');\n",
              "          docLink.innerHTML = docLinkHtml;\n",
              "          element.appendChild(docLink);\n",
              "        }\n",
              "      </script>\n",
              "    </div>\n",
              "  </div>\n",
              "  "
            ],
            "text/plain": [
              "    GroundTruth  Predict\n",
              "0             0        0\n",
              "1             0        0\n",
              "2             0        0\n",
              "3             0        0\n",
              "4             0        0\n",
              "5             0        0\n",
              "6             0        0\n",
              "7             1        1\n",
              "8             0        0\n",
              "9             1        1\n",
              "10            0        0\n",
              "11            1        1\n",
              "12            1        1\n",
              "13            1        1\n",
              "14            0        0\n",
              "15            1        1\n",
              "16            0        0\n",
              "17            0        0\n",
              "18            0        0"
            ]
          },
          "execution_count": 12,
          "metadata": {},
          "output_type": "execute_result"
        }
      ],
      "source": [
        "df = pd.DataFrame({\"GroundTruth\": Ytest, \"Predict\": Ypred})\n",
        "df"
      ]
    },
    {
      "cell_type": "markdown",
      "metadata": {
        "id": "QnoFPiELZH95"
      },
      "source": [
        "#### Analyse accuracy basis the new values you have computed"
      ]
    },
    {
      "cell_type": "markdown",
      "metadata": {
        "id": "mPBBO1eQfSZG"
      },
      "source": [
        "We see that we acheived 100% accuracy in the first attempt with C=1 and Linear Kernel. Even using GridSearch CV to find the hyperparameters gave same test accuracy"
      ]
    },
    {
      "cell_type": "markdown",
      "metadata": {
        "id": "Rv6fi6bzZOfk"
      },
      "source": [
        "## Q2. DT and RF"
      ]
    },
    {
      "cell_type": "markdown",
      "metadata": {
        "id": "vckl9zaSaFkr"
      },
      "source": [
        "Consider the Wisconsin Breast Cancer dataset available from\n",
        "http://archive.ics.uci.edu/ml/datasets/Breast+Cancer+Wisconsin+\n",
        "(Diagnostic)\n",
        "\n",
        "The dataset has 32 attributes that predict malignancy. There are a\n",
        "total of 569 data patterns. Use 5-fold cross-validation. \n",
        "\n",
        "\n",
        "1.   Use Keras or any other framework to construct a decision tree from the training data and obtain the performance on the test data\n",
        "\n",
        "2.   Construct a random forest (of say, 100 trees) from the training data and use the random forest to obtain the performance on the test data\n",
        "\n",
        "3. Compare the performance you obtain in 1 and 2\n"
      ]
    },
    {
      "cell_type": "code",
      "execution_count": 40,
      "metadata": {
        "colab": {
          "base_uri": "https://localhost:8080/",
          "height": 317
        },
        "id": "aIti5UQnZRA5",
        "outputId": "661d3613-f5f7-4cbf-8a2a-9e1e01966310"
      },
      "outputs": [
        {
          "data": {
            "text/html": [
              "\n",
              "  <div id=\"df-065eb0d3-5217-4502-b455-9b0447cd57bf\">\n",
              "    <div class=\"colab-df-container\">\n",
              "      <div>\n",
              "<style scoped>\n",
              "    .dataframe tbody tr th:only-of-type {\n",
              "        vertical-align: middle;\n",
              "    }\n",
              "\n",
              "    .dataframe tbody tr th {\n",
              "        vertical-align: top;\n",
              "    }\n",
              "\n",
              "    .dataframe thead th {\n",
              "        text-align: right;\n",
              "    }\n",
              "</style>\n",
              "<table border=\"1\" class=\"dataframe\">\n",
              "  <thead>\n",
              "    <tr style=\"text-align: right;\">\n",
              "      <th></th>\n",
              "      <th>id</th>\n",
              "      <th>diagnosis</th>\n",
              "      <th>radius_mean</th>\n",
              "      <th>texture_mean</th>\n",
              "      <th>perimeter_mean</th>\n",
              "      <th>area_mean</th>\n",
              "      <th>smoothness_mean</th>\n",
              "      <th>compactness_mean</th>\n",
              "      <th>concavity_mean</th>\n",
              "      <th>concave points_mean</th>\n",
              "      <th>...</th>\n",
              "      <th>radius_worst</th>\n",
              "      <th>texture_worst</th>\n",
              "      <th>perimeter_worst</th>\n",
              "      <th>area_worst</th>\n",
              "      <th>smoothness_worst</th>\n",
              "      <th>compactness_worst</th>\n",
              "      <th>concavity_worst</th>\n",
              "      <th>concave points_worst</th>\n",
              "      <th>symmetry_worst</th>\n",
              "      <th>fractal_dimension_worst</th>\n",
              "    </tr>\n",
              "  </thead>\n",
              "  <tbody>\n",
              "    <tr>\n",
              "      <th>0</th>\n",
              "      <td>842302</td>\n",
              "      <td>M</td>\n",
              "      <td>17.99</td>\n",
              "      <td>10.38</td>\n",
              "      <td>122.80</td>\n",
              "      <td>1001.0</td>\n",
              "      <td>0.11840</td>\n",
              "      <td>0.27760</td>\n",
              "      <td>0.3001</td>\n",
              "      <td>0.14710</td>\n",
              "      <td>...</td>\n",
              "      <td>25.38</td>\n",
              "      <td>17.33</td>\n",
              "      <td>184.60</td>\n",
              "      <td>2019.0</td>\n",
              "      <td>0.1622</td>\n",
              "      <td>0.6656</td>\n",
              "      <td>0.7119</td>\n",
              "      <td>0.2654</td>\n",
              "      <td>0.4601</td>\n",
              "      <td>0.11890</td>\n",
              "    </tr>\n",
              "    <tr>\n",
              "      <th>1</th>\n",
              "      <td>842517</td>\n",
              "      <td>M</td>\n",
              "      <td>20.57</td>\n",
              "      <td>17.77</td>\n",
              "      <td>132.90</td>\n",
              "      <td>1326.0</td>\n",
              "      <td>0.08474</td>\n",
              "      <td>0.07864</td>\n",
              "      <td>0.0869</td>\n",
              "      <td>0.07017</td>\n",
              "      <td>...</td>\n",
              "      <td>24.99</td>\n",
              "      <td>23.41</td>\n",
              "      <td>158.80</td>\n",
              "      <td>1956.0</td>\n",
              "      <td>0.1238</td>\n",
              "      <td>0.1866</td>\n",
              "      <td>0.2416</td>\n",
              "      <td>0.1860</td>\n",
              "      <td>0.2750</td>\n",
              "      <td>0.08902</td>\n",
              "    </tr>\n",
              "    <tr>\n",
              "      <th>2</th>\n",
              "      <td>84300903</td>\n",
              "      <td>M</td>\n",
              "      <td>19.69</td>\n",
              "      <td>21.25</td>\n",
              "      <td>130.00</td>\n",
              "      <td>1203.0</td>\n",
              "      <td>0.10960</td>\n",
              "      <td>0.15990</td>\n",
              "      <td>0.1974</td>\n",
              "      <td>0.12790</td>\n",
              "      <td>...</td>\n",
              "      <td>23.57</td>\n",
              "      <td>25.53</td>\n",
              "      <td>152.50</td>\n",
              "      <td>1709.0</td>\n",
              "      <td>0.1444</td>\n",
              "      <td>0.4245</td>\n",
              "      <td>0.4504</td>\n",
              "      <td>0.2430</td>\n",
              "      <td>0.3613</td>\n",
              "      <td>0.08758</td>\n",
              "    </tr>\n",
              "    <tr>\n",
              "      <th>3</th>\n",
              "      <td>84348301</td>\n",
              "      <td>M</td>\n",
              "      <td>11.42</td>\n",
              "      <td>20.38</td>\n",
              "      <td>77.58</td>\n",
              "      <td>386.1</td>\n",
              "      <td>0.14250</td>\n",
              "      <td>0.28390</td>\n",
              "      <td>0.2414</td>\n",
              "      <td>0.10520</td>\n",
              "      <td>...</td>\n",
              "      <td>14.91</td>\n",
              "      <td>26.50</td>\n",
              "      <td>98.87</td>\n",
              "      <td>567.7</td>\n",
              "      <td>0.2098</td>\n",
              "      <td>0.8663</td>\n",
              "      <td>0.6869</td>\n",
              "      <td>0.2575</td>\n",
              "      <td>0.6638</td>\n",
              "      <td>0.17300</td>\n",
              "    </tr>\n",
              "    <tr>\n",
              "      <th>4</th>\n",
              "      <td>84358402</td>\n",
              "      <td>M</td>\n",
              "      <td>20.29</td>\n",
              "      <td>14.34</td>\n",
              "      <td>135.10</td>\n",
              "      <td>1297.0</td>\n",
              "      <td>0.10030</td>\n",
              "      <td>0.13280</td>\n",
              "      <td>0.1980</td>\n",
              "      <td>0.10430</td>\n",
              "      <td>...</td>\n",
              "      <td>22.54</td>\n",
              "      <td>16.67</td>\n",
              "      <td>152.20</td>\n",
              "      <td>1575.0</td>\n",
              "      <td>0.1374</td>\n",
              "      <td>0.2050</td>\n",
              "      <td>0.4000</td>\n",
              "      <td>0.1625</td>\n",
              "      <td>0.2364</td>\n",
              "      <td>0.07678</td>\n",
              "    </tr>\n",
              "  </tbody>\n",
              "</table>\n",
              "<p>5 rows × 32 columns</p>\n",
              "</div>\n",
              "      <button class=\"colab-df-convert\" onclick=\"convertToInteractive('df-065eb0d3-5217-4502-b455-9b0447cd57bf')\"\n",
              "              title=\"Convert this dataframe to an interactive table.\"\n",
              "              style=\"display:none;\">\n",
              "        \n",
              "  <svg xmlns=\"http://www.w3.org/2000/svg\" height=\"24px\"viewBox=\"0 0 24 24\"\n",
              "       width=\"24px\">\n",
              "    <path d=\"M0 0h24v24H0V0z\" fill=\"none\"/>\n",
              "    <path d=\"M18.56 5.44l.94 2.06.94-2.06 2.06-.94-2.06-.94-.94-2.06-.94 2.06-2.06.94zm-11 1L8.5 8.5l.94-2.06 2.06-.94-2.06-.94L8.5 2.5l-.94 2.06-2.06.94zm10 10l.94 2.06.94-2.06 2.06-.94-2.06-.94-.94-2.06-.94 2.06-2.06.94z\"/><path d=\"M17.41 7.96l-1.37-1.37c-.4-.4-.92-.59-1.43-.59-.52 0-1.04.2-1.43.59L10.3 9.45l-7.72 7.72c-.78.78-.78 2.05 0 2.83L4 21.41c.39.39.9.59 1.41.59.51 0 1.02-.2 1.41-.59l7.78-7.78 2.81-2.81c.8-.78.8-2.07 0-2.86zM5.41 20L4 18.59l7.72-7.72 1.47 1.35L5.41 20z\"/>\n",
              "  </svg>\n",
              "      </button>\n",
              "      \n",
              "  <style>\n",
              "    .colab-df-container {\n",
              "      display:flex;\n",
              "      flex-wrap:wrap;\n",
              "      gap: 12px;\n",
              "    }\n",
              "\n",
              "    .colab-df-convert {\n",
              "      background-color: #E8F0FE;\n",
              "      border: none;\n",
              "      border-radius: 50%;\n",
              "      cursor: pointer;\n",
              "      display: none;\n",
              "      fill: #1967D2;\n",
              "      height: 32px;\n",
              "      padding: 0 0 0 0;\n",
              "      width: 32px;\n",
              "    }\n",
              "\n",
              "    .colab-df-convert:hover {\n",
              "      background-color: #E2EBFA;\n",
              "      box-shadow: 0px 1px 2px rgba(60, 64, 67, 0.3), 0px 1px 3px 1px rgba(60, 64, 67, 0.15);\n",
              "      fill: #174EA6;\n",
              "    }\n",
              "\n",
              "    [theme=dark] .colab-df-convert {\n",
              "      background-color: #3B4455;\n",
              "      fill: #D2E3FC;\n",
              "    }\n",
              "\n",
              "    [theme=dark] .colab-df-convert:hover {\n",
              "      background-color: #434B5C;\n",
              "      box-shadow: 0px 1px 3px 1px rgba(0, 0, 0, 0.15);\n",
              "      filter: drop-shadow(0px 1px 2px rgba(0, 0, 0, 0.3));\n",
              "      fill: #FFFFFF;\n",
              "    }\n",
              "  </style>\n",
              "\n",
              "      <script>\n",
              "        const buttonEl =\n",
              "          document.querySelector('#df-065eb0d3-5217-4502-b455-9b0447cd57bf button.colab-df-convert');\n",
              "        buttonEl.style.display =\n",
              "          google.colab.kernel.accessAllowed ? 'block' : 'none';\n",
              "\n",
              "        async function convertToInteractive(key) {\n",
              "          const element = document.querySelector('#df-065eb0d3-5217-4502-b455-9b0447cd57bf');\n",
              "          const dataTable =\n",
              "            await google.colab.kernel.invokeFunction('convertToInteractive',\n",
              "                                                     [key], {});\n",
              "          if (!dataTable) return;\n",
              "\n",
              "          const docLinkHtml = 'Like what you see? Visit the ' +\n",
              "            '<a target=\"_blank\" href=https://colab.research.google.com/notebooks/data_table.ipynb>data table notebook</a>'\n",
              "            + ' to learn more about interactive tables.';\n",
              "          element.innerHTML = '';\n",
              "          dataTable['output_type'] = 'display_data';\n",
              "          await google.colab.output.renderOutput(dataTable, element);\n",
              "          const docLink = document.createElement('div');\n",
              "          docLink.innerHTML = docLinkHtml;\n",
              "          element.appendChild(docLink);\n",
              "        }\n",
              "      </script>\n",
              "    </div>\n",
              "  </div>\n",
              "  "
            ],
            "text/plain": [
              "         id diagnosis  radius_mean  texture_mean  perimeter_mean  area_mean  \\\n",
              "0    842302         M        17.99         10.38          122.80     1001.0   \n",
              "1    842517         M        20.57         17.77          132.90     1326.0   \n",
              "2  84300903         M        19.69         21.25          130.00     1203.0   \n",
              "3  84348301         M        11.42         20.38           77.58      386.1   \n",
              "4  84358402         M        20.29         14.34          135.10     1297.0   \n",
              "\n",
              "   smoothness_mean  compactness_mean  concavity_mean  concave points_mean  \\\n",
              "0          0.11840           0.27760          0.3001              0.14710   \n",
              "1          0.08474           0.07864          0.0869              0.07017   \n",
              "2          0.10960           0.15990          0.1974              0.12790   \n",
              "3          0.14250           0.28390          0.2414              0.10520   \n",
              "4          0.10030           0.13280          0.1980              0.10430   \n",
              "\n",
              "   ...  radius_worst  texture_worst  perimeter_worst  area_worst  \\\n",
              "0  ...         25.38          17.33           184.60      2019.0   \n",
              "1  ...         24.99          23.41           158.80      1956.0   \n",
              "2  ...         23.57          25.53           152.50      1709.0   \n",
              "3  ...         14.91          26.50            98.87       567.7   \n",
              "4  ...         22.54          16.67           152.20      1575.0   \n",
              "\n",
              "   smoothness_worst  compactness_worst  concavity_worst  concave points_worst  \\\n",
              "0            0.1622             0.6656           0.7119                0.2654   \n",
              "1            0.1238             0.1866           0.2416                0.1860   \n",
              "2            0.1444             0.4245           0.4504                0.2430   \n",
              "3            0.2098             0.8663           0.6869                0.2575   \n",
              "4            0.1374             0.2050           0.4000                0.1625   \n",
              "\n",
              "   symmetry_worst  fractal_dimension_worst  \n",
              "0          0.4601                  0.11890  \n",
              "1          0.2750                  0.08902  \n",
              "2          0.3613                  0.08758  \n",
              "3          0.6638                  0.17300  \n",
              "4          0.2364                  0.07678  \n",
              "\n",
              "[5 rows x 32 columns]"
            ]
          },
          "execution_count": 40,
          "metadata": {},
          "output_type": "execute_result"
        }
      ],
      "source": [
        "HEADER = ['id','diagnosis','radius_mean','texture_mean','perimeter_mean','area_mean','smoothness_mean','compactness_mean',\n",
        "          'concavity_mean','concave points_mean','symmetry_mean','fractal_dimension_mean','radius_se','texture_se',\n",
        "          'perimeter_se','area_se','smoothness_se','compactness_se','concavity_se','concave points_se','symmetry_se',\n",
        "          'fractal_dimension_se','radius_worst','texture_worst','perimeter_worst','area_worst','smoothness_worst',\n",
        "          'compactness_worst','concavity_worst','concave points_worst','symmetry_worst','fractal_dimension_worst']\n",
        "\n",
        "df = pd.read_csv('https://archive.ics.uci.edu/ml/machine-learning-databases/breast-cancer-wisconsin/wdbc.data', names=HEADER)\n",
        "df.head()"
      ]
    },
    {
      "cell_type": "code",
      "execution_count": 14,
      "metadata": {
        "id": "ks_8AEa7Vk8F"
      },
      "outputs": [],
      "source": [
        "Xc = df.drop(labels=['id', 'diagnosis'], axis=1)\n",
        "Yc = df['diagnosis']"
      ]
    },
    {
      "cell_type": "code",
      "execution_count": 15,
      "metadata": {
        "id": "6BaXr2HtVk8F"
      },
      "outputs": [],
      "source": [
        "from sklearn.model_selection import train_test_split\n",
        "Xtrain, Xtest, Ytrain, Ytest = train_test_split(Xc, Yc, test_size = 0.2, random_state = 42)"
      ]
    },
    {
      "cell_type": "code",
      "execution_count": 16,
      "metadata": {
        "colab": {
          "base_uri": "https://localhost:8080/"
        },
        "id": "IW0hsstnVk8F",
        "outputId": "b768ddd7-1c02-4115-fc1e-bef342cb7172"
      },
      "outputs": [
        {
          "name": "stdout",
          "output_type": "stream",
          "text": [
            "Accuracy for Random State 42: 94.73684210526315%\n",
            "Accuracy for Random State 7: 94.73684210526315%\n",
            "Accuracy for Random State 99: 94.73684210526315%\n",
            "Accuracy for Random State 111: 94.73684210526315%\n",
            "Accuracy for Random State 0: 95.6140350877193%\n",
            "\n",
            "Average Accuracy:  94.91228070175438\n"
          ]
        }
      ],
      "source": [
        "from sklearn.tree import DecisionTreeClassifier\n",
        "# Practically, we would limit the size of Tree. But the data is small, so going\n",
        "# untill we find pure leafs, or leafs with less than minimum number of samples.\n",
        "\n",
        "# Since we don't have any hyper parameters, no Grid Search is being performed.\n",
        "\n",
        "# To get better accuracy we will average the accuracy over 5 random states\n",
        "accuracy_sum = 0\n",
        "for i in [42,7,99,111,0]:\n",
        "    classifier = DecisionTreeClassifier(criterion = 'entropy', random_state = i) \n",
        "    classifier.fit(Xtrain, Ytrain)\n",
        "    y_pred = classifier.predict(Xtest)\n",
        "    accuracy_sum += accuracy_score(Ytest.values,y_pred)\n",
        "    print(f\"Accuracy for Random State {i}: {accuracy_score(Ytest.values,y_pred)*100}%\")\n",
        "print(\"\\nAverage Accuracy: \", accuracy_sum/5 * 100)"
      ]
    },
    {
      "cell_type": "markdown",
      "metadata": {
        "id": "S6YjnLtAVk8F"
      },
      "source": [
        "Random Trees"
      ]
    },
    {
      "cell_type": "code",
      "execution_count": 17,
      "metadata": {
        "colab": {
          "base_uri": "https://localhost:8080/"
        },
        "id": "6KMwe-E7Vk8F",
        "outputId": "9c6096ec-917e-44ee-f313-6eb55e47dfea"
      },
      "outputs": [
        {
          "name": "stdout",
          "output_type": "stream",
          "text": [
            "Accuracy Score:  96.49122807017544\n"
          ]
        }
      ],
      "source": [
        "from sklearn.ensemble import RandomForestClassifier\n",
        "classifierRF = RandomForestClassifier(n_estimators = 100, criterion = 'entropy', random_state = 42) \n",
        "classifierRF.fit(Xtrain, Ytrain)\n",
        "y_pred = classifierRF.predict(Xtest)\n",
        "\n",
        "print(\"Accuracy Score: \",accuracy_score(Ytest.values,y_pred)*100)"
      ]
    },
    {
      "cell_type": "code",
      "execution_count": 18,
      "metadata": {
        "colab": {
          "base_uri": "https://localhost:8080/"
        },
        "id": "1rXPks-BVk8G",
        "outputId": "8a2c78c9-5858-4742-c2df-7555fd6b0381"
      },
      "outputs": [
        {
          "name": "stdout",
          "output_type": "stream",
          "text": [
            "The Best Number of Estimator based on CV Search is:  91\n",
            "The Final Test Accuracy with using 91 estimators is 96.49122807017544%\n"
          ]
        }
      ],
      "source": [
        "param_grid = {'n_estimators': [i for i in range(50,150)]}  \n",
        "   \n",
        "gridRF = GridSearchCV(RandomForestClassifier(criterion='entropy', random_state= 42), param_grid, return_train_score=False, cv=5) \n",
        "   \n",
        "# fitting the model for grid search \n",
        "gridRF.fit(Xtrain, Ytrain) \n",
        "\n",
        "\n",
        "# print best parameter after tuning \n",
        "print(\"The Best Number of Estimator based on CV Search is: \",gridRF.best_params_['n_estimators']) \n",
        "Ypred = gridRF.predict(Xtest)\n",
        "print(f\"The Final Test Accuracy with using {gridRF.best_params_['n_estimators']} estimators is {accuracy_score(Ytest.values,Ypred)*100}%\")"
      ]
    },
    {
      "cell_type": "markdown",
      "metadata": {
        "id": "4k4nskDtafj_"
      },
      "source": [
        "####  Repeat the exercise but add ±10% noise to 25% of the data (Optional)"
      ]
    },
    {
      "cell_type": "markdown",
      "metadata": {
        "id": "Qy9n-nOFrJIC"
      },
      "source": [
        "### Boosting\n",
        "\n",
        "Implement a boosting classifier algorithm for the same dataset as above (sample without noise)\n",
        "\n",
        "Feel free to use any boosting algorithm you want\n",
        "\n",
        "However only run the code for the eventual algorithm you choose and comment out every other algorithm\n",
        "\n",
        "Briefly explain why you chose a particular algorithm"
      ]
    },
    {
      "cell_type": "code",
      "execution_count": 19,
      "metadata": {
        "colab": {
          "base_uri": "https://localhost:8080/"
        },
        "id": "HosJICK1Vk8G",
        "outputId": "c5cb8fa1-f1d1-4e9e-9a0d-30b0c3551f8b"
      },
      "outputs": [
        {
          "name": "stdout",
          "output_type": "stream",
          "text": [
            "AdaBoosted Accuracy:  97.36842105263158\n"
          ]
        }
      ],
      "source": [
        "from sklearn.ensemble import AdaBoostClassifier\n",
        "\n",
        "ab_classifier = AdaBoostClassifier(n_estimators=100, learning_rate=1)\n",
        "Ypred = ab_classifier.fit(Xtrain,Ytrain).predict(Xtest)\n",
        "\n",
        "print(\"AdaBoosted Accuracy: \", accuracy_score(Ytest, Ypred)*100)"
      ]
    },
    {
      "cell_type": "markdown",
      "metadata": {
        "id": "i4iVGoxXVk8G"
      },
      "source": [
        "### Using different base learners"
      ]
    },
    {
      "cell_type": "code",
      "execution_count": 20,
      "metadata": {
        "colab": {
          "base_uri": "https://localhost:8080/"
        },
        "id": "13a0f2biVk8G",
        "outputId": "08fb0969-0dfe-4802-806f-a2561959e385"
      },
      "outputs": [
        {
          "name": "stdout",
          "output_type": "stream",
          "text": [
            "Using Decision Tree Classifier as Base Learner for Boosting, Accuracy:  94.73684210526315\n"
          ]
        }
      ],
      "source": [
        "# Base Learner - Vanilla Decision Tree\n",
        "ab_classifier = AdaBoostClassifier(n_estimators=100, base_estimator=classifier, learning_rate=1)\n",
        "Ypred = ab_classifier.fit(Xtrain,Ytrain).predict(Xtest)\n",
        "\n",
        "print(\"Using Decision Tree Classifier as Base Learner for Boosting, Accuracy: \", accuracy_score(Ytest, Ypred)*100)"
      ]
    },
    {
      "cell_type": "code",
      "execution_count": 21,
      "metadata": {
        "colab": {
          "base_uri": "https://localhost:8080/"
        },
        "id": "qkC1mcJiFOkM",
        "outputId": "57a55c66-a1b0-4aca-a023-714008975965"
      },
      "outputs": [
        {
          "name": "stdout",
          "output_type": "stream",
          "text": [
            "Using Decision Tree Classifier as Base Learner for Boosting, Accuracy:  96.49122807017544\n"
          ]
        }
      ],
      "source": [
        "# Base Learner - Random Forest\n",
        "ab_classifier = AdaBoostClassifier(n_estimators=100, base_estimator=classifierRF, learning_rate=1)\n",
        "Ypred = ab_classifier.fit(Xtrain,Ytrain).predict(Xtest)\n",
        "\n",
        "print(\"Using Decision Tree Classifier as Base Learner for Boosting, Accuracy: \", accuracy_score(Ytest, Ypred)*100)"
      ]
    },
    {
      "cell_type": "markdown",
      "metadata": {
        "id": "_qQccDxwFxXQ"
      },
      "source": [
        "##### AdaBoost gave the better results, due to it's focus on giving more weights to the data points which are mis-classified in the initial stages and increasing it's probability. Also in Ada Boost when using trees, we never go for the feature with highest information gain, rather we have a subset of which we select the best, focusing more on generalization rather than just overfitting on training data."
      ]
    },
    {
      "cell_type": "markdown",
      "metadata": {
        "id": "hsEMVq_wyqJO"
      },
      "source": [
        "### Bagging\n",
        "\n",
        "Implement a bagging classifier on the RF you created above\n",
        "\n",
        "\n",
        "> from sklearn.ensemble import BaggingClassifier\n",
        "\n",
        "You will have to pass the DT into the Bagging Classifier\n",
        "\n",
        "Once you have the y_pred for Bagging and RF, accurately compute the accuracy by computing the numpy sum where pred(bagging) == pred(RF) and divide by len(pred(bagging))\n",
        "\n",
        "Please provide rationale behind why this is done.\n",
        "\n"
      ]
    },
    {
      "cell_type": "code",
      "execution_count": 37,
      "metadata": {
        "colab": {
          "base_uri": "https://localhost:8080/"
        },
        "id": "AFwD6cjpzupM",
        "outputId": "39ecb180-5825-4035-a471-0ef03d96ce80"
      },
      "outputs": [
        {
          "name": "stdout",
          "output_type": "stream",
          "text": [
            "Accuracy of Bagging Classifier with Base Estimator as Decision Tree:  96.49122807017544\n"
          ]
        }
      ],
      "source": [
        "from sklearn.ensemble import BaggingClassifier\n",
        "\n",
        "classifierBag = BaggingClassifier(base_estimator=classifierRF, n_estimators=100)\n",
        "classifierBag.fit(Xtrain,Ytrain)\n",
        "bag_pred = classifierBag.predict(Xtest)\n",
        "print(\"Accuracy of Bagging Classifier with Base Estimator as Decision Tree: \", accuracy_score(Ytest,bag_pred)*100)"
      ]
    },
    {
      "cell_type": "code",
      "execution_count": 44,
      "metadata": {
        "colab": {
          "base_uri": "https://localhost:8080/"
        },
        "id": "TXnkQckDG-g9",
        "outputId": "c872c94a-5399-4842-e2ca-876c1173b014"
      },
      "outputs": [
        {
          "name": "stdout",
          "output_type": "stream",
          "text": [
            "Number of Prediction which both the models predicted same:  113\n",
            "Matching Percentage:  99.12280701754386\n"
          ]
        }
      ],
      "source": [
        "dt_result = classifier.predict(Xtest)\n",
        "bagging_result = classifierBag.predict(Xtest)\n",
        "matching = np.sum(dt_result == bagging_result)\n",
        "print(\"Number of Prediction which both the models predicted same: \", matching)\n",
        "print(\"Matching Percentage: \", matching/len(dt_result)*100)"
      ]
    },
    {
      "cell_type": "markdown",
      "metadata": {
        "id": "4wGfaP_kIWHl"
      },
      "source": [
        "##### We are doing this to see how many data points more did the bagging was able to classify differently from vanilla decision tree. Since Bagging technique involved repeatedly executing the algortihm with different set of the dataset, it has more robustness."
      ]
    },
    {
      "cell_type": "markdown",
      "metadata": {
        "id": "OJj8c79e0JUr"
      },
      "source": [
        "Bonus : While you are looking at ensemble models, explore VotingClassifier"
      ]
    },
    {
      "cell_type": "code",
      "execution_count": 46,
      "metadata": {
        "colab": {
          "base_uri": "https://localhost:8080/"
        },
        "id": "iM0zcFYw0OXd",
        "outputId": "5fff862e-6c5d-45d6-fd8d-26247e8082c6"
      },
      "outputs": [
        {
          "name": "stdout",
          "output_type": "stream",
          "text": [
            "Accuracy of Ensemble Model with Hard Voting:  96.49122807017544\n"
          ]
        }
      ],
      "source": [
        "from sklearn.ensemble import VotingClassifier\n",
        "from sklearn.linear_model import LogisticRegression\n",
        "\n",
        "estimator = []\n",
        "estimator.append(('LR', LogisticRegression(solver ='lbfgs', max_iter = 10_000)))\n",
        "estimator.append(('SVC', SVC(gamma ='auto', probability = True)))\n",
        "estimator.append(('DTC', DecisionTreeClassifier()))\n",
        "\n",
        "classifiedHard = VotingClassifier(estimators = estimator, voting ='hard')\n",
        "Ypred = classifiedHard.fit(Xtrain, Ytrain).predict(Xtest)\n",
        "\n",
        "print(\"Accuracy of Ensemble Model with Hard Voting: \", accuracy_score(Ytest,Ypred)*100)"
      ]
    },
    {
      "cell_type": "markdown",
      "metadata": {
        "id": "O6zuq2oTVk8H"
      },
      "source": [
        "In hard voting, the predicted output class is a class with the highest majority of votes i.e the class which had the highest probability of being predicted by each of the classifiers."
      ]
    },
    {
      "cell_type": "markdown",
      "metadata": {
        "id": "jPFZpJshVk8H"
      },
      "source": [
        "In soft voting, the output class is the prediction based on the average of probability given to that class."
      ]
    },
    {
      "cell_type": "code",
      "execution_count": 47,
      "metadata": {
        "colab": {
          "base_uri": "https://localhost:8080/"
        },
        "id": "k7YfQQ4xVk8H",
        "outputId": "bb245def-b30e-41b8-e782-bdc4e7a99a98"
      },
      "outputs": [
        {
          "name": "stdout",
          "output_type": "stream",
          "text": [
            "Accuracy of Ensemble Model with Hard Voting:  97.36842105263158\n"
          ]
        }
      ],
      "source": [
        "classifiedSoft = VotingClassifier(estimators = estimator, voting ='soft')\n",
        "Ypred = classifiedSoft.fit(Xtrain, Ytrain).predict(Xtest)\n",
        "\n",
        "print(\"Accuracy of Ensemble Model with Hard Voting: \", accuracy_score(Ytest,Ypred)*100)"
      ]
    }
  ],
  "metadata": {
    "colab": {
      "provenance": []
    },
    "gpuClass": "standard",
    "kernelspec": {
      "display_name": "venv",
      "language": "python",
      "name": "python3"
    },
    "language_info": {
      "codemirror_mode": {
        "name": "ipython",
        "version": 3
      },
      "file_extension": ".py",
      "mimetype": "text/x-python",
      "name": "python",
      "nbconvert_exporter": "python",
      "pygments_lexer": "ipython3",
      "version": "3.10.5 (main, Jul 16 2022, 07:05:41) [Clang 13.0.0 (clang-1300.0.27.3)]"
    },
    "vscode": {
      "interpreter": {
        "hash": "8d519ce160da629244c5fa84cf02a853bdfbd2d6722f9390c675e535dc1f1a96"
      }
    }
  },
  "nbformat": 4,
  "nbformat_minor": 0
}
