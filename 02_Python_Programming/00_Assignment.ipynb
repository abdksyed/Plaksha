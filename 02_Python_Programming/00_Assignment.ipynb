{
 "cells": [
  {
   "cell_type": "raw",
   "metadata": {},
   "source": [
    "---\n",
    "title: \"01 Programming Assignment\"\n",
    "desciption: \"Python Programming Assignments\"\n",
    "author: Abdul Khader, Syed\n",
    "format:\n",
    "  html:\n",
    "    code-fold: false\n",
    "execute: \n",
    "  enabled: true\n",
    "---"
   ]
  },
  {
   "cell_type": "code",
   "execution_count": 1,
   "metadata": {},
   "outputs": [],
   "source": [
    "import math\n",
    "from typing import List\n",
    "import random\n",
    "import numpy as np"
   ]
  },
  {
   "cell_type": "markdown",
   "metadata": {},
   "source": [
    "## Chapter 01"
   ]
  },
  {
   "cell_type": "markdown",
   "metadata": {},
   "source": [
    "**Question 1**\n",
    "```\n",
    "Print the following using four print statements:\n",
    "*\n",
    "**\n",
    "***\n",
    "****\n",
    "```"
   ]
  },
  {
   "cell_type": "code",
   "execution_count": 2,
   "metadata": {},
   "outputs": [
    {
     "name": "stdout",
     "output_type": "stream",
     "text": [
      "*\n",
      "**\n",
      "***\n",
      "****\n"
     ]
    }
   ],
   "source": [
    "print(\"*\")\n",
    "print(\"**\")\n",
    "print(\"***\")\n",
    "print(\"****\")"
   ]
  },
  {
   "cell_type": "markdown",
   "metadata": {},
   "source": [
    "**Quesiton 2:**\n",
    "\n",
    "Figure out how to input a number and display it using print statement.\n"
   ]
  },
  {
   "cell_type": "code",
   "execution_count": 3,
   "metadata": {},
   "outputs": [
    {
     "name": "stdout",
     "output_type": "stream",
     "text": [
      "*\n",
      "**\n",
      "***\n",
      "****\n",
      "*****\n"
     ]
    }
   ],
   "source": [
    "n = 5 #int(input(\"Enter the Number of Lines to be printed\"))\n",
    "for i in range(1,n+1):\n",
    "    print(\"*\"*i)"
   ]
  },
  {
   "cell_type": "markdown",
   "metadata": {},
   "source": [
    "**Question 3** \n",
    "\n",
    "Understand how to use a `if loop` in python. Ask the user to enter a number and check if the number is even or odd."
   ]
  },
  {
   "cell_type": "code",
   "execution_count": 4,
   "metadata": {},
   "outputs": [
    {
     "name": "stdout",
     "output_type": "stream",
     "text": [
      "Odd\n"
     ]
    }
   ],
   "source": [
    "num = 15 # int(input(\"Enter the Number\"))\n",
    "if num % 2 == 0 : print(\"Even\")\n",
    "else: print(\"Odd\")"
   ]
  },
  {
   "cell_type": "markdown",
   "metadata": {},
   "source": [
    "**Question 4:**\n",
    "\n",
    "Print a sequence of numbers starting from the number a with common difference d. Go on till you reach the number b.  \n",
    "```\n",
    "Enter a value for a: 10\n",
    "Enter a value for d: 3\n",
    "Enter a value for b: 20\n",
    "Output: 10 13 16 19\n",
    "```"
   ]
  },
  {
   "cell_type": "code",
   "execution_count": 5,
   "metadata": {},
   "outputs": [
    {
     "name": "stdout",
     "output_type": "stream",
     "text": [
      "10\n",
      "13\n",
      "16\n",
      "19\n"
     ]
    }
   ],
   "source": [
    "a = 10 # int(input(\"Enter value for a:\"))\n",
    "d = 3 # int(input(\"Enter value for d:\"))\n",
    "b = 20 # int(input(\"Enter value for b:\"))\n",
    "\n",
    "for i in range(a,b,d):\n",
    "    print(i)"
   ]
  },
  {
   "cell_type": "markdown",
   "metadata": {},
   "source": [
    "**Question 5:**\n",
    "\n",
    "Input integers i and j and create a list comprising of all prime numbers between them."
   ]
  },
  {
   "cell_type": "code",
   "execution_count": 6,
   "metadata": {},
   "outputs": [
    {
     "name": "stdout",
     "output_type": "stream",
     "text": [
      "[13, 17, 19, 23, 29, 31, 37, 41, 43, 47, 53, 59, 61, 67, 71, 73, 79, 83]\n"
     ]
    }
   ],
   "source": [
    "m = 12 # int(input('Enter the First Number'))\n",
    "n = 88 # int(input('Enter the Second Number'))\n",
    "\n",
    "primeList = []\n",
    "for i in range(m,n+1):\n",
    "    if i in [0,1]:\n",
    "        break\n",
    "    prime = True\n",
    "    for j in range(2,int(math.sqrt(i))+1):\n",
    "        if i%j == 0:\n",
    "            prime = False\n",
    "            break\n",
    "    if prime: primeList.append(i)\n",
    "\n",
    "print(primeList)"
   ]
  },
  {
   "cell_type": "markdown",
   "metadata": {},
   "source": [
    "**Question 6:**\n",
    "\n",
    "Observe the following code :  \n",
    "What does the following code do:\n",
    "```\n",
    "print(\"Enter a number\")\n",
    "k=input()\n",
    "k=int(k)\n",
    "for i in range(k):\n",
    "   for j in range(i):\n",
    "   print(\"*\",end=' ')\n",
    "print(\"\")\n",
    "```\n",
    "Something is wrong in this code. Fix it!"
   ]
  },
  {
   "cell_type": "code",
   "execution_count": 7,
   "metadata": {},
   "outputs": [
    {
     "name": "stdout",
     "output_type": "stream",
     "text": [
      "Enter a number\n",
      "* * * * * * * * * * * * * * * * * * * * * * * * * * * * \n"
     ]
    }
   ],
   "source": [
    "print(\"Enter a number\")\n",
    "k= 8 # input()\n",
    "k=int(k)\n",
    "for i in range(k):\n",
    "   for j in range(i):\n",
    "    print(\"*\",end=' ')\n",
    "print(\"\")"
   ]
  },
  {
   "cell_type": "markdown",
   "metadata": {},
   "source": [
    "**Question 7:**\n",
    "\n",
    "Write a script to print the following:\n",
    "```\n",
    "Input a number: 5\n",
    "Output: \n",
    "    *\n",
    "   ***\n",
    "  *****\n",
    " *******\n",
    "*********\n",
    "```"
   ]
  },
  {
   "cell_type": "code",
   "execution_count": 8,
   "metadata": {},
   "outputs": [
    {
     "name": "stdout",
     "output_type": "stream",
     "text": [
      "    *\n",
      "   ***\n",
      "  *****\n",
      " *******\n",
      "*********\n"
     ]
    }
   ],
   "source": [
    "n = 5 # int(input(\"Enter the Number of Lines\"))\n",
    "\n",
    "for i in range(1,n+1):\n",
    "    m = (n-i) \n",
    "    print(\" \"*m + \"*\"*(2*i - 1))# + \" \"*m)"
   ]
  },
  {
   "cell_type": "markdown",
   "metadata": {},
   "source": [
    "**Question 8:**\n",
    "\n",
    "Write a script to print the following zig zag:\n",
    "```\n",
    "*\n",
    " *\n",
    "  *\n",
    "   *\n",
    "    *\n",
    "```\n",
    "Input parameters: `number of lines`, `inclination`  \n",
    "Note: Input parameters are self-explanatory, inclination is a value between 0 and 1. Lesser the inclination, more vertical the stick."
   ]
  },
  {
   "cell_type": "code",
   "execution_count": 9,
   "metadata": {},
   "outputs": [
    {
     "name": "stdout",
     "output_type": "stream",
     "text": [
      "*\n",
      "  *\n",
      "    *\n",
      "      *\n",
      "        *\n",
      "          *\n",
      "            *\n",
      "              *\n",
      "                *\n"
     ]
    }
   ],
   "source": [
    "numLines = 8 # int(input(\"Enter Number of Lines\"))\n",
    "inclination = 0.2 # float(input(\"Inclination of Line\"))\n",
    "\n",
    "if inclination == 1:\n",
    "    print(\"*\"*numLines)\n",
    "else:\n",
    "    for i in range(numLines+1):\n",
    "        print(\" \"*int(10*inclination*i) + \"*\")"
   ]
  },
  {
   "cell_type": "markdown",
   "metadata": {},
   "source": [
    "### Assignment 01\n",
    "\n",
    "Implement the following patter as in [this video](https://www.youtube.com/watch?v=JA_70M-ma-k)"
   ]
  },
  {
   "cell_type": "code",
   "execution_count": 10,
   "metadata": {},
   "outputs": [
    {
     "name": "stdout",
     "output_type": "stream",
     "text": [
      "*\n",
      "                *\n",
      "                             *\n",
      "                                         *\n",
      "                                                    *\n",
      "                                                            *\n",
      "                                                                    *\n",
      "                                                                         *\n",
      "                                                                             *\n",
      "                                                                                *\n",
      "                                                                                *\n",
      "                                                                                *\n",
      "                                                                             *\n",
      "                                                                         *\n",
      "                                                                    *\n",
      "                                                            *\n",
      "                                                    *\n",
      "                                         *\n",
      "                             *\n",
      "                *\n"
     ]
    }
   ],
   "source": [
    "x = 20\n",
    "a = -0.2\n",
    "\n",
    "for i in range(-x//2, x//2):\n",
    "        spaces = int(4*i*i*a)\n",
    "        if a > 0:\n",
    "            print(\" \"*spaces + \"*\")\n",
    "        if a < 0:\n",
    "            max_spaces = int( 4 * (x//2)**2 * abs(a) )\n",
    "            spaces = -1 * spaces\n",
    "            print(\" \" * ( max_spaces - spaces) + \"*\")\n"
   ]
  },
  {
   "cell_type": "markdown",
   "metadata": {},
   "source": [
    "**Extra Question**\n",
    "\n",
    "Find the Square Root of a Number, using an approach of guessing and moving towards the answer."
   ]
  },
  {
   "cell_type": "markdown",
   "metadata": {},
   "source": [
    "* Using Binary Search"
   ]
  },
  {
   "cell_type": "code",
   "execution_count": 11,
   "metadata": {},
   "outputs": [],
   "source": [
    "def sqrtBinary(number, start, end, numDecimal):\n",
    "    mid = (start+end)/2\n",
    "    midSq = mid**2\n",
    "    if math.isclose(number, midSq, abs_tol=10e-100):\n",
    "        return mid\n",
    "    elif number - midSq > 0:\n",
    "        return sqrtBinary(number, mid, end, numDecimal)\n",
    "    else:\n",
    "        return sqrtBinary(number, start, mid, numDecimal)\n"
   ]
  },
  {
   "cell_type": "markdown",
   "metadata": {},
   "source": [
    "```python\n",
    "def sqrtBinary(number, start, end, numDecimal):\n",
    "    mid = (start+end)/2\n",
    "    midSq = mid**2\n",
    "    if math.isclose(number, midSq, abs_tol=10e-100):\n",
    "        return mid\n",
    "    elif number - midSq > 0:\n",
    "        return sqrtBinary(number, mid, end, numDecimal)\n",
    "    else:\n",
    "        return sqrtBinary(number, start, mid, numDecimal)\n",
    "```"
   ]
  },
  {
   "cell_type": "code",
   "execution_count": 12,
   "metadata": {},
   "outputs": [
    {
     "name": "stdout",
     "output_type": "stream",
     "text": [
      "Square Root using our function: 3.162277659866959\n",
      "Square Root using math.sqrt: 3.1622776601683795\n"
     ]
    }
   ],
   "source": [
    "num = 10\n",
    "start = 0\n",
    "end = num//2\n",
    "numDecimal = 5\n",
    "print(\"Square Root using our function:\", sqrtBinary(num, start, end, numDecimal))\n",
    "print(\"Square Root using math.sqrt:\", math.sqrt(num))\n",
    "\n",
    "# test_close(sqrtBinary(num, start, end, numDecimal), math.sqrt(num), eps = 0.000_000_001)"
   ]
  },
  {
   "cell_type": "markdown",
   "metadata": {},
   "source": [
    "## Chapter 02"
   ]
  },
  {
   "cell_type": "markdown",
   "metadata": {},
   "source": [
    "## Bubble Sort"
   ]
  },
  {
   "cell_type": "code",
   "execution_count": 13,
   "metadata": {},
   "outputs": [],
   "source": [
    "def bubbleSort(array: List):\n",
    "    length = len(array)\n",
    "    for i in range(length, 0, -1):\n",
    "        noSwap = True\n",
    "        for j in range(i-1):\n",
    "            if array[j] > array[j+1]:\n",
    "                array[j], array[j+1] = array[j+1], array[j]\n",
    "                noSwap = False\n",
    "    if noSwap:\n",
    "        return array\n",
    "    return array"
   ]
  },
  {
   "cell_type": "markdown",
   "metadata": {},
   "source": [
    "```python\n",
    "def bubbleSort(array: List):\n",
    "    length = len(array)\n",
    "    for i in range(length, 0, -1):\n",
    "        noSwap = True\n",
    "        for j in range(i-1):\n",
    "            if array[j] > array[j+1]:\n",
    "                array[j], array[j+1] = array[j+1], array[j]\n",
    "                noSwap = False\n",
    "    if noSwap:\n",
    "        return array\n",
    "    return array\n",
    "```"
   ]
  },
  {
   "cell_type": "code",
   "execution_count": 14,
   "metadata": {},
   "outputs": [],
   "source": [
    "randomArray = list(range(34, 1225))\n",
    "random.shuffle(randomArray)\n",
    "\n",
    "# test_eq(sorted(randomArray), bubbleSort(randomArray))"
   ]
  },
  {
   "cell_type": "code",
   "execution_count": 15,
   "metadata": {},
   "outputs": [],
   "source": [
    "def findKth(array:List, k: int):\n",
    "    return bubbleSort(array)[k-1]   "
   ]
  },
  {
   "cell_type": "code",
   "execution_count": 16,
   "metadata": {},
   "outputs": [
    {
     "data": {
      "text/plain": [
       "40"
      ]
     },
     "execution_count": 16,
     "metadata": {},
     "output_type": "execute_result"
    }
   ],
   "source": [
    "randomArray = list(range(34, 1225))\n",
    "random.shuffle(randomArray)\n",
    "findKth(randomArray, 7)"
   ]
  }
 ],
 "metadata": {
  "kernelspec": {
   "display_name": "Python 3.10.5 ('venv': venv)",
   "language": "python",
   "name": "python3"
  },
  "language_info": {
   "codemirror_mode": {
    "name": "ipython",
    "version": 3
   },
   "file_extension": ".py",
   "mimetype": "text/x-python",
   "name": "python",
   "nbconvert_exporter": "python",
   "pygments_lexer": "ipython3",
   "version": "3.10.5"
  },
  "vscode": {
   "interpreter": {
    "hash": "8d519ce160da629244c5fa84cf02a853bdfbd2d6722f9390c675e535dc1f1a96"
   }
  }
 },
 "nbformat": 4,
 "nbformat_minor": 2
}
