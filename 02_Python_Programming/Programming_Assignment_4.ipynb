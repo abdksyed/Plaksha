{
 "cells": [
  {
   "cell_type": "raw",
   "metadata": {},
   "source": [
    "---\n",
    "title: \"03 Programming Assignment 4 - File Handling\"\n",
    "desciption: \"File Handling and Sorting Assignment\"\n",
    "author: Abdul Khader, Syed\n",
    "format:\n",
    "  html:\n",
    "    code-fold: false\n",
    "execute: \n",
    "  enabled: true\n",
    "---"
   ]
  },
  {
   "cell_type": "code",
   "execution_count": 1,
   "metadata": {},
   "outputs": [],
   "source": [
    "import random\n",
    "import matplotlib.pyplot as plt\n",
    "from QuickSort import quickSort"
   ]
  },
  {
   "cell_type": "markdown",
   "metadata": {},
   "source": [
    "**Question**\n",
    "\n",
    "All possible English words are available to download here. Save this to a file and read from this file, randomzize the order and write it back to the file.\n",
    "\n",
    "Tip: use `wget http://www.mieliestronk.com/corncob_lowercase.txt` to download"
   ]
  },
  {
   "cell_type": "code",
   "execution_count": 2,
   "metadata": {},
   "outputs": [],
   "source": [
    "with open('./data/corncob_lowercase.txt', 'r') as english_file:\n",
    "    all_words = english_file.read()\n",
    "\n",
    "all_words = all_words.split('\\n')\n",
    "\n",
    "assert not '' in all_words"
   ]
  },
  {
   "cell_type": "code",
   "execution_count": 3,
   "metadata": {},
   "outputs": [],
   "source": [
    "random.shuffle(all_words)\n",
    "\n",
    "randomized_string = '\\n'.join(all_words)\n",
    "with open('./data/corncob_lowercase.txt', 'w') as randomized_file:\n",
    "    randomized_file.write(randomized_string)\n"
   ]
  },
  {
   "cell_type": "markdown",
   "metadata": {},
   "source": [
    "**Question**\n",
    "\n",
    "Consider the list of randomized words as created in the previous program, sort it and write it back to the file."
   ]
  },
  {
   "cell_type": "code",
   "execution_count": 4,
   "metadata": {},
   "outputs": [],
   "source": [
    "with open('./data/corncob_lowercase.txt', 'r') as randomized_file:\n",
    "    toSort = randomized_file.read().split('\\n')"
   ]
  },
  {
   "cell_type": "code",
   "execution_count": 5,
   "metadata": {},
   "outputs": [],
   "source": [
    "toSort = quickSort(toSort, 0, len(toSort)-1)"
   ]
  },
  {
   "cell_type": "code",
   "execution_count": 6,
   "metadata": {},
   "outputs": [],
   "source": [
    "sorted_words = '\\n'.join(toSort)\n",
    "with open('./data/corncob_lowercase.txt', 'w') as sorted_file:\n",
    "    sorted_file.write(sorted_words)"
   ]
  },
  {
   "cell_type": "markdown",
   "metadata": {},
   "source": [
    "### Assignment"
   ]
  },
  {
   "cell_type": "markdown",
   "metadata": {},
   "source": [
    "Download this to your hard-disk and sort it. (Note: Any complicated sorting technique will not help. You are not allowed to browse the internet for the code or for any other hint. You cannot discuss with your neighbors. Solve this from first principles.)\n",
    "\n",
    "this file: `DONT OPEN` https://sudarshansudarshan.github.io/plakshaprog/files/tosort.txt  \n",
    "The file has 10 Million rows, freezing the computer.\n",
    "\n",
    "Tip: download using wget or request.get(). \n"
   ]
  },
  {
   "cell_type": "code",
   "execution_count": 7,
   "metadata": {},
   "outputs": [],
   "source": [
    "# !wget https://sudarshansudarshan.github.io/plakshaprog/files/tosort.txt"
   ]
  },
  {
   "cell_type": "code",
   "execution_count": 8,
   "metadata": {},
   "outputs": [
    {
     "data": {
      "text/plain": [
       "10000000"
      ]
     },
     "execution_count": 8,
     "metadata": {},
     "output_type": "execute_result"
    }
   ],
   "source": [
    "with open('./data/tosort.txt', 'r') as largeLargeFile:\n",
    "    largeText = largeLargeFile.read().split('\\n')\n",
    "# To remove empty line at end\n",
    "largeText.pop()\n",
    "len(largeText)"
   ]
  },
  {
   "cell_type": "code",
   "execution_count": 9,
   "metadata": {},
   "outputs": [],
   "source": [
    "# largeText = quickSort(largeText, 0, len(largeText)-1)"
   ]
  },
  {
   "cell_type": "markdown",
   "metadata": {},
   "source": [
    "Since sorting it gives recursion, error. Let's usefirst principles.\n",
    "\n",
    "Let's count the number of character present in the file, and since we know the inherent ordering of english alphabets. We can than just write to the file the same number of alphabet characters in order."
   ]
  },
  {
   "cell_type": "code",
   "execution_count": 10,
   "metadata": {},
   "outputs": [],
   "source": [
    "alphabet_dict = {}\n",
    "for alpha in largeText:\n",
    "    alphabet_dict[alpha] = alphabet_dict.get(alpha, 0) + 1"
   ]
  },
  {
   "cell_type": "code",
   "execution_count": 11,
   "metadata": {},
   "outputs": [
    {
     "data": {
      "text/plain": [
       "[('a', 385058),\n",
       " ('b', 385520),\n",
       " ('c', 385394),\n",
       " ('d', 384992),\n",
       " ('e', 383359),\n",
       " ('f', 384207),\n",
       " ('g', 385701),\n",
       " ('h', 384611),\n",
       " ('i', 383741),\n",
       " ('j', 384317),\n",
       " ('k', 383037),\n",
       " ('l', 384399),\n",
       " ('m', 385140),\n",
       " ('n', 383715),\n",
       " ('o', 384455),\n",
       " ('p', 385395),\n",
       " ('q', 385536),\n",
       " ('r', 385217),\n",
       " ('s', 384427),\n",
       " ('t', 385128),\n",
       " ('u', 383785),\n",
       " ('v', 384986),\n",
       " ('w', 384205),\n",
       " ('x', 384219),\n",
       " ('y', 384845),\n",
       " ('z', 384611)]"
      ]
     },
     "execution_count": 11,
     "metadata": {},
     "output_type": "execute_result"
    }
   ],
   "source": [
    "alphabet_dict = sorted(alphabet_dict.items(), key=lambda item: item[0])\n",
    "alphabet_dict"
   ]
  },
  {
   "cell_type": "code",
   "execution_count": 12,
   "metadata": {},
   "outputs": [
    {
     "data": {
      "text/plain": [
       "10000000"
      ]
     },
     "execution_count": 12,
     "metadata": {},
     "output_type": "execute_result"
    }
   ],
   "source": [
    "# Runs the first loop, and gets alpha,it's count value\n",
    "# Than run the second loop for each alpha,value pair of first loop\n",
    "# In second loop it runs for value times, and add alpha each time to list\n",
    "sortedList = [alpha for alpha,value in alphabet_dict for _ in range(value)]\n",
    "len(sortedList)"
   ]
  },
  {
   "cell_type": "code",
   "execution_count": 13,
   "metadata": {},
   "outputs": [],
   "source": [
    "sorted_words = '\\n'.join(sortedList)\n",
    "with open('./data/sorted.txt', 'w') as sortedFile:\n",
    "    sortedFile.write(sorted_words)"
   ]
  }
 ],
 "metadata": {
  "kernelspec": {
   "display_name": "Python 3.10.5 ('venv': venv)",
   "language": "python",
   "name": "python3"
  },
  "language_info": {
   "codemirror_mode": {
    "name": "ipython",
    "version": 3
   },
   "file_extension": ".py",
   "mimetype": "text/x-python",
   "name": "python",
   "nbconvert_exporter": "python",
   "pygments_lexer": "ipython3",
   "version": "3.10.5"
  },
  "vscode": {
   "interpreter": {
    "hash": "ebc38b623ef32a07c0c3705cbfbfef9961b3b8ffa45410c134cd0a6baefbc95c"
   }
  }
 },
 "nbformat": 4,
 "nbformat_minor": 2
}
