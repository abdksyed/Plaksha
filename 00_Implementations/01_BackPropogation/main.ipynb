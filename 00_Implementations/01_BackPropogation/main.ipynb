{
 "cells": [
  {
   "cell_type": "code",
   "execution_count": 7,
   "metadata": {},
   "outputs": [],
   "source": [
    "from typing import List, Union\n",
    "import math\n",
    "import numpy as np\n"
   ]
  },
  {
   "cell_type": "code",
   "execution_count": 48,
   "metadata": {},
   "outputs": [],
   "source": [
    "class Network():\n",
    "    def __init__(self,\n",
    "                    input_size: int,\n",
    "                    num_layers: int, \n",
    "                    units: Union[int, List[int]],\n",
    "                    output_size: int\n",
    "                    ):\n",
    "        '''\n",
    "        The class creates a Feed Forward Fully connected Network\n",
    "\n",
    "        Arguments:\n",
    "            input_size: int -> The number of neurons in the input layer\n",
    "            num_layers: int -> The number of hidden layers in the network\n",
    "            units: Union[int, List[int]] -> If it's `int`, all layers have same size\n",
    "                                            If it's list of ints, length should be \n",
    "                                            equal to number of layers\n",
    "            output_size: int -> The number of neurons in the output layer\n",
    "        '''\n",
    "        self.num_layers = num_layers\n",
    "        units = [units]*num_layers if type(units) == int else units\n",
    "        self.units = [input_size] + units + [output_size]\n",
    "\n",
    "        self.layers = []\n",
    "        for i in range(self.num_layers + 1):\n",
    "            # Weight Matrix Transpose\n",
    "            self.layers.append( [ [0]*self.units[i] ]*self.units[i+1] )\n",
    "    \n",
    "    def _sigmoid(self, input: List[float]):\n",
    "        output = []\n",
    "        for val in input:\n",
    "            output.append( 1/(1+math.e**(-val)) )\n",
    "        return output\n",
    "\n",
    "    def forward(self, input: List):\n",
    "        x = input.copy()\n",
    "        for layer in self.layers:\n",
    "            new_x = []\n",
    "            for weights in layer:\n",
    "                val = 0\n",
    "                for idx in range(len(weights)):\n",
    "                    val += x[idx]*weights[idx]\n",
    "                new_x.append(val)\n",
    "            x = self._sigmoid(new_x)\n",
    "        \n",
    "        return x\n",
    "\n",
    "    def backward(self):\n",
    "        "
   ]
  },
  {
   "cell_type": "code",
   "execution_count": 49,
   "metadata": {},
   "outputs": [],
   "source": [
    "net = Network(5, 4, 3, 1)"
   ]
  },
  {
   "cell_type": "code",
   "execution_count": 50,
   "metadata": {},
   "outputs": [
    {
     "data": {
      "text/plain": [
       "[[[0, 0, 0, 0, 0], [0, 0, 0, 0, 0], [0, 0, 0, 0, 0]],\n",
       " [[0, 0, 0], [0, 0, 0], [0, 0, 0]],\n",
       " [[0, 0, 0], [0, 0, 0], [0, 0, 0]],\n",
       " [[0, 0, 0], [0, 0, 0], [0, 0, 0]],\n",
       " [[0, 0, 0]]]"
      ]
     },
     "execution_count": 50,
     "metadata": {},
     "output_type": "execute_result"
    }
   ],
   "source": [
    "net.layers"
   ]
  },
  {
   "cell_type": "code",
   "execution_count": 51,
   "metadata": {},
   "outputs": [
    {
     "data": {
      "text/plain": [
       "[0.5]"
      ]
     },
     "execution_count": 51,
     "metadata": {},
     "output_type": "execute_result"
    }
   ],
   "source": [
    "net.forward([1,1,1,1,1])"
   ]
  },
  {
   "cell_type": "code",
   "execution_count": null,
   "metadata": {},
   "outputs": [],
   "source": []
  },
  {
   "cell_type": "code",
   "execution_count": 4,
   "metadata": {},
   "outputs": [],
   "source": []
  },
  {
   "cell_type": "code",
   "execution_count": 52,
   "metadata": {},
   "outputs": [],
   "source": [
    "import torch.nn as nn\n",
    "import torch.nn.functional as F\n",
    "import torch\n",
    "\n",
    "class pyNet(nn.Module):\n",
    "    \n",
    "    def __init__(self):\n",
    "        super(pyNet, self).__init__()\n",
    "        self.linear1 = nn.Linear(5,3,bias=False)\n",
    "        self.linear1.weight.data.fill_(0.0)\n",
    "\n",
    "        self.linear2 = nn.Linear(3,3,bias=False)\n",
    "        self.linear2.weight.data.fill_(0.0)\n",
    "\n",
    "        self.linear3 = nn.Linear(3,3,bias=False)\n",
    "        self.linear3.weight.data.fill_(0.0)\n",
    "\n",
    "        self.linear4 = nn.Linear(3,1,bias=False)\n",
    "        self.linear4.weight.data.fill_(0.0)\n",
    "\n",
    "\n",
    "    def forward(self, x):\n",
    "\n",
    "        x = torch.sigmoid(self.linear1(x))\n",
    "        x = torch.sigmoid(self.linear2(x))\n",
    "        x = torch.sigmoid(self.linear3(x))\n",
    "        x = torch.sigmoid(self.linear4(x))\n",
    "        \n",
    "        return x"
   ]
  },
  {
   "cell_type": "code",
   "execution_count": 53,
   "metadata": {},
   "outputs": [
    {
     "name": "stdout",
     "output_type": "stream",
     "text": [
      "tensor([0.5000], grad_fn=<SigmoidBackward0>)\n"
     ]
    }
   ],
   "source": [
    "torchNet = pyNet()\n",
    "print(torchNet(torch.tensor([1.,1.,1.,1.,1.])))"
   ]
  },
  {
   "cell_type": "code",
   "execution_count": null,
   "metadata": {},
   "outputs": [],
   "source": []
  }
 ],
 "metadata": {
  "kernelspec": {
   "display_name": "Python 3.10.5 ('venv': venv)",
   "language": "python",
   "name": "python3"
  },
  "language_info": {
   "codemirror_mode": {
    "name": "ipython",
    "version": 3
   },
   "file_extension": ".py",
   "mimetype": "text/x-python",
   "name": "python",
   "nbconvert_exporter": "python",
   "pygments_lexer": "ipython3",
   "version": "3.10.5"
  },
  "orig_nbformat": 4,
  "vscode": {
   "interpreter": {
    "hash": "8d519ce160da629244c5fa84cf02a853bdfbd2d6722f9390c675e535dc1f1a96"
   }
  }
 },
 "nbformat": 4,
 "nbformat_minor": 2
}
