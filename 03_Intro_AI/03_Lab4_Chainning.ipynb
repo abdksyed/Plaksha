{
 "cells": [
  {
   "cell_type": "raw",
   "metadata": {},
   "source": [
    "---\n",
    "title: \"Rule Based Knowledge Assignment\"\n",
    "desciption: \"Backward and Forward Chainnign for Rule Based Knowledge System\"\n",
    "author: Abdul Khader, Syed\n",
    "format:\n",
    "    html:\n",
    "        code-fold: false\n",
    "        page-layout: article\n",
    "    pdf: \n",
    "        documentclass: report\n",
    "        date: 30 October 2022\n",
    "        geometry:\n",
    "          - top=20mm\n",
    "          - left=10mm\n",
    "          - heightrounded\n",
    "        highlight-style: github\n",
    "execute: \n",
    "  enabled: true\n",
    "  warning: false\n",
    "---"
   ]
  },
  {
   "cell_type": "code",
   "execution_count": 1,
   "metadata": {},
   "outputs": [
    {
     "name": "stdout",
     "output_type": "stream",
     "text": [
      "{'c', 'k', 'd', 'h', 'e', 'a', 'g'}\n",
      "q\n",
      "{'i': [{'k', 'l', 'm'}], 'q': [{'j', 'l', 'i'}, {'b', 'a'}, {'o', 'l', 'n', 'p'}], 'b': [{'c', 'e', 'd'}, {'h', 'f'}], 'r': [{'h', 'c'}], 's': [{'j', 'm', 'r'}], 'f': [{'g'}]}\n"
     ]
    }
   ],
   "source": [
    "with open(\"./data/file.txt\") as f:\n",
    "    observations = set(f.readline().strip().split(\",\"))\n",
    "    # Empty Line\n",
    "    f.readline()\n",
    "    rules = {}\n",
    "    # Loop over the remaining lines\n",
    "    for line in f.readlines():\n",
    "        # For rules\n",
    "        if \"=>\" in line:\n",
    "            # Split with \"=>\"\n",
    "            rule, goal = line.strip().split(\"=>\")\n",
    "            # If the goal is already present in dictionary, append the\n",
    "            # new rule_line as a set to the list\n",
    "            # If goal not present, create an empty list and than\n",
    "            # append the rule set\n",
    "            rules.setdefault(goal, []).append(set(rule.split(\"+\")))\n",
    "        # For Final Goal\n",
    "        elif line.isalpha():\n",
    "            finalgoal = line\n",
    "\n",
    "print(observations)\n",
    "print(finalgoal)\n",
    "print(rules)\n",
    "    "
   ]
  },
  {
   "cell_type": "markdown",
   "metadata": {},
   "source": [
    "# Backward Chainning"
   ]
  },
  {
   "cell_type": "markdown",
   "metadata": {},
   "source": [
    "Given a `Final Goal` and a set of `observations`, determine if that set of observations leads to the final goal or not."
   ]
  },
  {
   "cell_type": "code",
   "execution_count": 2,
   "metadata": {},
   "outputs": [],
   "source": [
    "def backwardChainning(rules_set: dict, observation_set: set, final_goal: str) -> bool:\n",
    "    \"\"\"\n",
    "    Predict the given Final Goal is reachable or not from the given observations.\n",
    "    \"\"\"\n",
    "    # Base Cases\n",
    "    # If final_goal in observation, return True\n",
    "    if final_goal in observation_set:\n",
    "        return True\n",
    "    # If Goal/Final Goal not in observation\n",
    "    # Not even in knowledge base, we can't reach it.\n",
    "    # Return False\n",
    "    elif final_goal not in rules_set:\n",
    "        return False\n",
    "\n",
    "    for rule_set in rules_set[final_goal]:\n",
    "        for rule in rule_set:\n",
    "            # Recursion with Depth First Search\n",
    "            temp_result = backwardChainning(rules_set, observation_set, rule)\n",
    "            if temp_result == False:\n",
    "                break # Go to next rule_set\n",
    "        # If there was no break, which means all rule in the set\n",
    "        # was present, return True.\n",
    "        if temp_result: return temp_result\n",
    "        \n",
    "    return temp_result"
   ]
  },
  {
   "cell_type": "code",
   "execution_count": 3,
   "metadata": {},
   "outputs": [
    {
     "data": {
      "text/plain": [
       "True"
      ]
     },
     "execution_count": 3,
     "metadata": {},
     "output_type": "execute_result"
    }
   ],
   "source": [
    "backwardChainning(rules, observations, finalgoal)"
   ]
  },
  {
   "cell_type": "markdown",
   "metadata": {},
   "source": [
    "# Forward Chainning"
   ]
  },
  {
   "cell_type": "markdown",
   "metadata": {},
   "source": [
    "Given a set of `observations` and `knowledge base`, identify the most deep goal possible "
   ]
  },
  {
   "cell_type": "code",
   "execution_count": 4,
   "metadata": {},
   "outputs": [],
   "source": [
    "def forwardChainning(rules_set: dict, observation_set: set) -> str|None:\n",
    "    reached_goals = []\n",
    "    addition = True\n",
    "\n",
    "    while addition:\n",
    "        # Loop until there is no addition to observation\n",
    "        addition = False\n",
    "        # Go through each goal in the rules\n",
    "        for goal, rule_list in rules_set.items():\n",
    "            # Loop through all the set of rules(paths) to reach\n",
    "            # the goal\n",
    "            if goal in observation_set:\n",
    "                continue\n",
    "            # Check for each observation in the rule list(each line in txt file)\n",
    "            for rule_set in rule_list:\n",
    "                for rule in rule_set:\n",
    "                    # If observation is not present, skip the list\n",
    "                    if rule not in observation_set:\n",
    "                        break\n",
    "                else:\n",
    "                    # All rule of rule_set is present in observation\n",
    "                    # So goal acheived, add to observation set\n",
    "                    observation_set.add(goal)\n",
    "                    \n",
    "                    # Add the goal to listr of goals reached.\n",
    "                    reached_goals.append(goal)\n",
    "\n",
    "                    # Since there was an addition, we have to do one more run\n",
    "                    addition = True\n",
    "\n",
    "                    # Since goal is reached no need to check for further in that list.\n",
    "                    break\n",
    "    \n",
    "    return reached_goals"
   ]
  },
  {
   "cell_type": "code",
   "execution_count": 5,
   "metadata": {},
   "outputs": [
    {
     "data": {
      "text/plain": [
       "['b', 'r', 'f', 'q']"
      ]
     },
     "execution_count": 5,
     "metadata": {},
     "output_type": "execute_result"
    }
   ],
   "source": [
    "obs_copy = observations.copy()\n",
    "forwardChainning(rules, obs_copy)"
   ]
  }
 ],
 "metadata": {
  "kernelspec": {
   "display_name": "Python 3.10.5 ('venv': venv)",
   "language": "python",
   "name": "python3"
  },
  "language_info": {
   "codemirror_mode": {
    "name": "ipython",
    "version": 3
   },
   "file_extension": ".py",
   "mimetype": "text/x-python",
   "name": "python",
   "nbconvert_exporter": "python",
   "pygments_lexer": "ipython3",
   "version": "3.10.5"
  },
  "vscode": {
   "interpreter": {
    "hash": "8d519ce160da629244c5fa84cf02a853bdfbd2d6722f9390c675e535dc1f1a96"
   }
  }
 },
 "nbformat": 4,
 "nbformat_minor": 2
}
