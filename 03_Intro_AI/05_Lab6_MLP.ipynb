{
  "cells": [
    {
      "cell_type": "raw",
      "metadata": {},
      "source": [
        "---\n",
        "title: \"Multi Perceptron Layer\"\n",
        "desciption: \"Single Layer and Multi Layer Perceptron Models\"\n",
        "author: Abdul Khader, Syed\n",
        "format:\n",
        "    html:\n",
        "        code-fold: false\n",
        "        page-layout: article\n",
        "execute: \n",
        "  enabled: false\n",
        "  warning: false\n",
        "---"
      ]
    },
    {
      "cell_type": "code",
      "execution_count": 42,
      "metadata": {
        "id": "fJNYVdxmsm8F"
      },
      "outputs": [],
      "source": [
        "# Imports\n",
        "import math\n",
        "import torch\n",
        "import numpy as np\n",
        "import pandas as pd\n",
        "import matplotlib.pyplot as plt"
      ]
    },
    {
      "cell_type": "markdown",
      "metadata": {
        "id": "ZxYOhSDgTJ5z"
      },
      "source": [
        "### Task 1: Creating the single layer perceptron (3 points)\n",
        "\n",
        "In this lab we will focus on the perceptron, and how it can be used to model logic gates. Further, this same idea can be extended further due to perceptrons being a universal function approximator"
      ]
    },
    {
      "cell_type": "markdown",
      "metadata": {
        "id": "fgU5WY3TV-GM"
      },
      "source": [
        "**Implement the `sigmoid` function** *(1 point)*\n",
        "\n",
        "$𝑆(x) = \\frac{1}{1 + e^{-x}}$\n",
        "\n"
      ]
    },
    {
      "cell_type": "code",
      "execution_count": 43,
      "metadata": {
        "id": "44NvwA86iYS5"
      },
      "outputs": [],
      "source": [
        "def sigmoid(x):\n",
        "  '''\n",
        "    Applies the sigmoid function to the given input\n",
        "\n",
        "    Parameters\n",
        "    ----------\n",
        "    x: torch.Tensor\n",
        "        Input array/tensor\n",
        "\n",
        "    Returns\n",
        "    -------\n",
        "    out: torch.Tensor\n",
        "        Tensor after applying sigmoid function to it\n",
        "  '''\n",
        "  return 1/(1+torch.exp(-x))"
      ]
    },
    {
      "cell_type": "code",
      "execution_count": 44,
      "metadata": {
        "colab": {
          "base_uri": "https://localhost:8080/"
        },
        "id": "Fu3JDjSPzv-L",
        "outputId": "7d8b1e1c-d879-49c2-877e-e2da4d2ecdf6"
      },
      "outputs": [
        {
          "data": {
            "text/plain": [
              "tensor([0.6225, 0.6225, 0.5000, 0.7311, 0.2689, 1.0000, 0.0000])"
            ]
          },
          "execution_count": 44,
          "metadata": {},
          "output_type": "execute_result"
        }
      ],
      "source": [
        "# Testing sigmoid\n",
        "sigmoid(torch.tensor([0.5, 0.5, 0, 1, -1, 10e8, -10e8]))"
      ]
    },
    {
      "cell_type": "markdown",
      "metadata": {
        "id": "J-Tunf1PWDRG"
      },
      "source": [
        "**Implement the `perceptron` function** *(1 point)*\n",
        "\n",
        "$y' = x \\bullet W^t + b$"
      ]
    },
    {
      "cell_type": "code",
      "execution_count": 45,
      "metadata": {
        "id": "8wzx5Zt-haY8"
      },
      "outputs": [],
      "source": [
        "def perceptron(inputs, weights, bias):\n",
        "  '''\n",
        "    Defines the single layer perceptron model\n",
        "  '''\n",
        "  return torch.matmul(inputs, weights.T) + bias"
      ]
    },
    {
      "cell_type": "code",
      "execution_count": 46,
      "metadata": {
        "colab": {
          "base_uri": "https://localhost:8080/"
        },
        "id": "irwuJo7W0BX_",
        "outputId": "12044a72-0fb6-47a7-82e4-537c9cf47326"
      },
      "outputs": [
        {
          "data": {
            "text/plain": [
              "tensor([0.7984, 0.6330, 1.4080, 1.6012])"
            ]
          },
          "execution_count": 46,
          "metadata": {},
          "output_type": "execute_result"
        }
      ],
      "source": [
        "# Input size of 1x2\n",
        "inputs = torch.tensor([1., 0.])\n",
        "\n",
        "# A weight matrix of size 2x4\n",
        "weights = torch.rand((2,4))\n",
        "\n",
        "# Biases for each output neuron, size 1x4\n",
        "biases = torch.rand(4)\n",
        "\n",
        "# Testing Perceptron\n",
        "perceptron(inputs, weights.T, biases)"
      ]
    },
    {
      "cell_type": "markdown",
      "metadata": {
        "id": "STk3yf2tWFM3"
      },
      "source": [
        "**Implement the `binary_cross_entropy` function** *(1 point)*\n",
        "\n",
        "$\\mathrm{Loss} = - \\frac{1}{\\mathrm{N}} \\sum_{i=1}^{\\mathrm{N}} y_i \\cdot \\mathrm{log}\\; {\\hat{y}}_i + (1-y_i) \\cdot \\mathrm{log}\\; (1-{\\hat{y}}_i)$"
      ]
    },
    {
      "cell_type": "code",
      "execution_count": 47,
      "metadata": {
        "id": "lAg5YyfPiL9i"
      },
      "outputs": [],
      "source": [
        "def binary_cross_entropy(preds, targets):\n",
        "  '''\n",
        "    Applies binary cross entropy given predictions and ground truth\n",
        "  '''\n",
        "  return -torch.mean( (targets*torch.log(preds)) + ((1-targets)*torch.log(1-preds)) )"
      ]
    },
    {
      "cell_type": "markdown",
      "metadata": {
        "id": "PitABqssebNz"
      },
      "source": [
        "## AND Gate"
      ]
    },
    {
      "cell_type": "code",
      "execution_count": 48,
      "metadata": {
        "id": "9pVPVp6WeJfu"
      },
      "outputs": [],
      "source": [
        "and_data = np.array([[0,0,0],\n",
        "                     [0,1,0],\n",
        "                     [1,0,0],\n",
        "                     [1,1,1]])\n",
        "\n",
        "# Creating a PyTorch tensor\n",
        "and_data = torch.Tensor(and_data)"
      ]
    },
    {
      "cell_type": "code",
      "execution_count": 49,
      "metadata": {
        "id": "miB9u_0yfGWf"
      },
      "outputs": [],
      "source": [
        "# Same slicing as np arrays\n",
        "X = and_data[:,:-1]\n",
        "y = and_data[:,-1:]"
      ]
    },
    {
      "cell_type": "code",
      "execution_count": 50,
      "metadata": {
        "id": "zt5YcThwf_3f"
      },
      "outputs": [],
      "source": [
        "W = torch.randn((1,2), requires_grad=True)\n",
        "b = torch.randn((1,1), requires_grad=True)"
      ]
    },
    {
      "cell_type": "markdown",
      "metadata": {
        "id": "thpCI3K1WID_"
      },
      "source": [
        "**Create the training loop** *(1 point)*"
      ]
    },
    {
      "cell_type": "code",
      "execution_count": 51,
      "metadata": {
        "id": "Htp_t7erfnY-"
      },
      "outputs": [],
      "source": [
        "n_epochs = 100\n",
        "lr = 5e-1\n",
        "losses = []\n",
        "for _ in range(n_epochs):\n",
        "    # Define the Training Loop here\n",
        "\n",
        "    # Get predictions\n",
        "    output = sigmoid(perceptron(X, W, b))\n",
        "\n",
        "    # Calculate Loss\n",
        "    loss = binary_cross_entropy(output, y)\n",
        "\n",
        "    # Do a backward step (to calculate gradients)\n",
        "    loss.backward()\n",
        "\n",
        "    # Update Weights\n",
        "    with torch.no_grad():\n",
        "        W = W - lr*W.grad\n",
        "        b = b - lr*b.grad\n",
        "    W.requires_grad = True\n",
        "    b.requires_grad = True\n",
        "\n",
        "    # Append Loss\n",
        "    losses.append(loss.item())"
      ]
    },
    {
      "cell_type": "code",
      "execution_count": 52,
      "metadata": {
        "colab": {
          "base_uri": "https://localhost:8080/",
          "height": 283
        },
        "id": "ZhGdWNaNkIJK",
        "outputId": "b6feccdf-8a84-47cf-fa6f-eeefca421c50"
      },
      "outputs": [
        {
          "data": {
            "text/plain": [
              "[<matplotlib.lines.Line2D at 0x7fac2aa81bd0>]"
            ]
          },
          "execution_count": 52,
          "metadata": {},
          "output_type": "execute_result"
        },
        {
          "data": {
            "image/png": "[encoded data removed]",
            "text/plain": [
              "<Figure size 432x288 with 1 Axes>"
            ]
          },
          "metadata": {
            "needs_background": "light"
          },
          "output_type": "display_data"
        }
      ],
      "source": [
        "plt.plot(losses)"
      ]
    },
    {
      "cell_type": "code",
      "execution_count": 53,
      "metadata": {
        "colab": {
          "base_uri": "https://localhost:8080/"
        },
        "id": "_AFaaDwkkbWK",
        "outputId": "79f7776d-d94a-4dd3-9c36-7646327f8242"
      },
      "outputs": [
        {
          "name": "stdout",
          "output_type": "stream",
          "text": [
            "tensor([[0],\n",
            "        [0],\n",
            "        [0],\n",
            "        [1]], dtype=torch.int32)\n"
          ]
        }
      ],
      "source": [
        "with torch.no_grad():\n",
        "  print((perceptron(X, W, b) > 0.5).int())"
      ]
    },
    {
      "cell_type": "markdown",
      "metadata": {
        "id": "nxayZJ1UlLhR"
      },
      "source": [
        "## OR Gate"
      ]
    },
    {
      "cell_type": "code",
      "execution_count": 54,
      "metadata": {
        "id": "O-C34mEjlFmj"
      },
      "outputs": [],
      "source": [
        "or_data = np.array([[0,0,0],\n",
        "                     [0,1,1],\n",
        "                     [1,0,1],\n",
        "                     [1,1,1]])\n",
        "\n",
        "# Creating a PyTorch tensor\n",
        "or_data = torch.Tensor(or_data)"
      ]
    },
    {
      "cell_type": "code",
      "execution_count": 55,
      "metadata": {
        "id": "vxOYpywhlVMm"
      },
      "outputs": [],
      "source": [
        "# Same slicing as np arrays\n",
        "X = or_data[:,:-1]\n",
        "y = or_data[:,-1:]"
      ]
    },
    {
      "cell_type": "code",
      "execution_count": 56,
      "metadata": {
        "id": "unqZ4I0vlVPB"
      },
      "outputs": [],
      "source": [
        "W = torch.randn((1,2), requires_grad=True)\n",
        "b = torch.randn((1,1), requires_grad=True)"
      ]
    },
    {
      "cell_type": "markdown",
      "metadata": {
        "id": "Nh9u6mxAWNhn"
      },
      "source": [
        "**Reuse the training loop**"
      ]
    },
    {
      "cell_type": "code",
      "execution_count": 57,
      "metadata": {
        "id": "L0KkuJdhlVRV"
      },
      "outputs": [],
      "source": [
        "n_epochs = 100\n",
        "lr = 5e-1\n",
        "losses = []\n",
        "\n",
        "for _ in range(n_epochs):\n",
        "    # Get predictions\n",
        "    output = sigmoid(perceptron(X, W, b))\n",
        "\n",
        "    # Calculate Loss\n",
        "    loss = binary_cross_entropy(output, y)\n",
        "\n",
        "    # Do a backward step (to calculate gradients)\n",
        "    loss.backward()\n",
        "\n",
        "    # Update Weights\n",
        "    with torch.no_grad():\n",
        "        W = W - lr*W.grad\n",
        "        b = b - lr*b.grad\n",
        "    W.requires_grad = True\n",
        "    b.requires_grad = True\n",
        "\n",
        "    # Append Loss\n",
        "    losses.append(loss.item())"
      ]
    },
    {
      "cell_type": "code",
      "execution_count": 58,
      "metadata": {
        "colab": {
          "base_uri": "https://localhost:8080/",
          "height": 283
        },
        "id": "mNDDOtiblVTt",
        "outputId": "ff41eafe-a870-4385-a2e2-e680e40390da"
      },
      "outputs": [
        {
          "data": {
            "text/plain": [
              "[<matplotlib.lines.Line2D at 0x7fac2a9f18d0>]"
            ]
          },
          "execution_count": 58,
          "metadata": {},
          "output_type": "execute_result"
        },
        {
          "data": {
            "image/png": "[encoded data removed]",
            "text/plain": [
              "<Figure size 432x288 with 1 Axes>"
            ]
          },
          "metadata": {
            "needs_background": "light"
          },
          "output_type": "display_data"
        }
      ],
      "source": [
        "plt.plot(losses)"
      ]
    },
    {
      "cell_type": "code",
      "execution_count": 59,
      "metadata": {
        "colab": {
          "base_uri": "https://localhost:8080/"
        },
        "id": "X3UCWJUXlVV5",
        "outputId": "cd2bb31c-69f7-4e3d-a5f2-663f81136e40"
      },
      "outputs": [
        {
          "name": "stdout",
          "output_type": "stream",
          "text": [
            "tensor([[0],\n",
            "        [1],\n",
            "        [1],\n",
            "        [1]], dtype=torch.int32)\n"
          ]
        }
      ],
      "source": [
        "with torch.no_grad():\n",
        "  print((perceptron(X, W, b) > 0.5).int())"
      ]
    },
    {
      "cell_type": "markdown",
      "metadata": {
        "id": "wiDm-OVLmPbJ"
      },
      "source": [
        "## XOR Gate"
      ]
    },
    {
      "cell_type": "code",
      "execution_count": 60,
      "metadata": {
        "id": "OKEcg3LhmO96"
      },
      "outputs": [],
      "source": [
        "xor_data = np.array([[0,0,0],\n",
        "                     [0,1,1],\n",
        "                     [1,0,1],\n",
        "                     [1,1,0]])\n",
        "\n",
        "# Creating a PyTorch tensor\n",
        "xor_data = torch.Tensor(xor_data)"
      ]
    },
    {
      "cell_type": "code",
      "execution_count": 61,
      "metadata": {
        "id": "zKIahsfhmdlZ"
      },
      "outputs": [],
      "source": [
        "# Same slicing as np arrays\n",
        "X = xor_data[:,:-1]\n",
        "y = xor_data[:,-1:]"
      ]
    },
    {
      "cell_type": "code",
      "execution_count": 62,
      "metadata": {
        "id": "OoSEcw4_mgX_"
      },
      "outputs": [],
      "source": [
        "W = torch.randn((1,2), requires_grad=True)\n",
        "b = torch.randn((1,1), requires_grad=True)"
      ]
    },
    {
      "cell_type": "markdown",
      "metadata": {
        "id": "pnwosFetWV0g"
      },
      "source": [
        "**Reuse the training loop**"
      ]
    },
    {
      "cell_type": "code",
      "execution_count": 63,
      "metadata": {
        "id": "wSqYPKw1miXl"
      },
      "outputs": [],
      "source": [
        "n_epochs = 100\n",
        "lr = 5e-1\n",
        "losses = []\n",
        "\n",
        "for _ in range(n_epochs):\n",
        "    # Get predictions\n",
        "    output = sigmoid(perceptron(X, W, b))\n",
        "\n",
        "    # Calculate Loss\n",
        "    loss = binary_cross_entropy(output, y)\n",
        "\n",
        "    # Do a backward step (to calculate gradients)\n",
        "    loss.backward()\n",
        "\n",
        "    # Update Weights\n",
        "    with torch.no_grad():\n",
        "        W = W - lr*W.grad\n",
        "        b = b - lr*b.grad\n",
        "    W.requires_grad = True\n",
        "    b.requires_grad = True\n",
        "\n",
        "    # Append Loss\n",
        "    losses.append(loss.item())"
      ]
    },
    {
      "cell_type": "code",
      "execution_count": 64,
      "metadata": {
        "colab": {
          "base_uri": "https://localhost:8080/",
          "height": 283
        },
        "id": "yxOtiWiamnvE",
        "outputId": "76206987-1837-4395-f3d4-ed957ee05708"
      },
      "outputs": [
        {
          "data": {
            "text/plain": [
              "[<matplotlib.lines.Line2D at 0x7fac2a9664d0>]"
            ]
          },
          "execution_count": 64,
          "metadata": {},
          "output_type": "execute_result"
        },
        {
          "data": {
            "image/png": "[encoded data removed]",
            "text/plain": [
              "<Figure size 432x288 with 1 Axes>"
            ]
          },
          "metadata": {
            "needs_background": "light"
          },
          "output_type": "display_data"
        }
      ],
      "source": [
        "plt.plot(losses)"
      ]
    },
    {
      "cell_type": "code",
      "execution_count": 65,
      "metadata": {
        "colab": {
          "base_uri": "https://localhost:8080/"
        },
        "id": "cG7JSCcKmpHq",
        "outputId": "1f26992d-0aeb-4a14-a3c8-ebbd874ea456"
      },
      "outputs": [
        {
          "name": "stdout",
          "output_type": "stream",
          "text": [
            "tensor([[0],\n",
            "        [0],\n",
            "        [0],\n",
            "        [0]], dtype=torch.int32)\n"
          ]
        }
      ],
      "source": [
        "with torch.no_grad():\n",
        "  print((perceptron(X, W, b) > 0.5).int())"
      ]
    },
    {
      "cell_type": "markdown",
      "metadata": {
        "id": "likiWP34nI7w"
      },
      "source": [
        "## Need for MLP\n",
        "\n",
        "As seen above, we are unable to model the XOR gate using a single layer perceptron, so we need to add a hidden layer."
      ]
    },
    {
      "cell_type": "code",
      "execution_count": 129,
      "metadata": {
        "id": "5EAfHk5EmrWx"
      },
      "outputs": [],
      "source": [
        "W1 = torch.randn((10,2), requires_grad=True)\n",
        "W2 = torch.randn((1,10), requires_grad=True)\n",
        "b1 = torch.randn((1,10), requires_grad=True)\n",
        "b2 = torch.randn((1,1), requires_grad=True)"
      ]
    },
    {
      "cell_type": "markdown",
      "metadata": {
        "id": "IgLcqBZvWiBB"
      },
      "source": [
        "**Implement the `mlp` function** *(1 point)*"
      ]
    },
    {
      "cell_type": "code",
      "execution_count": 130,
      "metadata": {
        "id": "HPkqgXl0nTOu"
      },
      "outputs": [],
      "source": [
        "def mlp(inputs, W1, W2, b1, b2):\n",
        "    '''\n",
        "    Defines the multi-layer perceptron model\n",
        "\n",
        "    Note: Only 1 hidden layer\n",
        "    '''\n",
        "    output = sigmoid(perceptron(inputs, W1, b1))\n",
        "    output = sigmoid(perceptron(output, W2, b2))\n",
        "\n",
        "    return output"
      ]
    },
    {
      "cell_type": "code",
      "execution_count": 131,
      "metadata": {
        "id": "7YJ7MkrVDuRS"
      },
      "outputs": [],
      "source": [
        "def weights_update(weights_list, bias_list):\n",
        "    # Update Weights\n",
        "    updated_w = []\n",
        "    updated_b = []\n",
        "    for w,b in zip(weights_list, bias_list):\n",
        "        with torch.no_grad():\n",
        "                w = w - lr*w.grad\n",
        "                b = b - lr*b.grad\n",
        "        w.requires_grad = True\n",
        "        b.requires_grad = True\n",
        "        updated_w.append(w)\n",
        "        updated_b.append(b)\n",
        "    \n",
        "    return updated_w, updated_b"
      ]
    },
    {
      "cell_type": "markdown",
      "metadata": {
        "id": "WSYnvKmHWXwx"
      },
      "source": [
        "**Reuse the training loop**\n",
        "\n",
        "NOTE: It will require slight modification due to the hidden layer"
      ]
    },
    {
      "cell_type": "code",
      "execution_count": 132,
      "metadata": {
        "id": "CGNWK3rvn4YA"
      },
      "outputs": [],
      "source": [
        "n_epochs = 1000\n",
        "lr = 5e-1\n",
        "losses = []\n",
        "for _ in range(n_epochs):\n",
        "     # Get predictions\n",
        "    output = mlp(X, W1, W2, b1, b2)\n",
        "\n",
        "    # Calculate Loss\n",
        "    loss = binary_cross_entropy(output, y)\n",
        "\n",
        "    # Do a backward step (to calculate gradients)\n",
        "    loss.backward()\n",
        "\n",
        "    # Update Weights\n",
        "    (W1,W2),(b1,b2) = weights_update([W1,W2], [b1,b2])\n",
        "\n",
        "    # Append Loss\n",
        "    losses.append(loss.item())"
      ]
    },
    {
      "cell_type": "code",
      "execution_count": 133,
      "metadata": {
        "colab": {
          "base_uri": "https://localhost:8080/",
          "height": 283
        },
        "id": "aCQ1ytUQn7rR",
        "outputId": "17427ddf-a598-4ef2-9cf1-0059124322f1"
      },
      "outputs": [
        {
          "data": {
            "text/plain": [
              "[<matplotlib.lines.Line2D at 0x7fac2a35cf10>]"
            ]
          },
          "execution_count": 133,
          "metadata": {},
          "output_type": "execute_result"
        },
        {
          "data": {
            "image/png": "[encoded data removed]",
            "text/plain": [
              "<Figure size 432x288 with 1 Axes>"
            ]
          },
          "metadata": {
            "needs_background": "light"
          },
          "output_type": "display_data"
        }
      ],
      "source": [
        "plt.plot(losses)"
      ]
    },
    {
      "cell_type": "code",
      "execution_count": 134,
      "metadata": {
        "colab": {
          "base_uri": "https://localhost:8080/"
        },
        "id": "f79jOcDZoXwl",
        "outputId": "a4d7f791-864c-41f5-be38-9c243d81bb94"
      },
      "outputs": [
        {
          "name": "stdout",
          "output_type": "stream",
          "text": [
            "tensor([[0],\n",
            "        [1],\n",
            "        [1],\n",
            "        [0]], dtype=torch.int32)\n"
          ]
        }
      ],
      "source": [
        "with torch.no_grad():\n",
        "  print((mlp(X, W1, W2, b1, b2) > 0.5).int())"
      ]
    }
  ],
  "metadata": {
    "colab": {
      "collapsed_sections": [],
      "provenance": []
    },
    "kernelspec": {
      "display_name": "Python 3.11.0rc2 64-bit ('3.11.0rc2')",
      "language": "python",
      "name": "python3"
    },
    "language_info": {
      "name": "python",
      "version": "3.11.0"
    },
    "vscode": {
      "interpreter": {
        "hash": "755ac7c017ae20c917e50190f4f1131cbe55d807c0999df3b2ac2e31e1b50e4d"
      }
    }
  },
  "nbformat": 4,
  "nbformat_minor": 0
}
