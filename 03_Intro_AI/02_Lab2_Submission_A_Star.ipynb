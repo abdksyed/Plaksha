{
 "cells": [
  {
   "cell_type": "raw",
   "metadata": {},
   "source": [
    "---\n",
    "title: \"01 Programming Assignment\"\n",
    "desciption: \"Python Programming Assignments\"\n",
    "author: Abdul Khader, Syed\n",
    "format:\n",
    "    html:\n",
    "        code-fold: false\n",
    "execute: \n",
    "  enabled: false\n",
    "---"
   ]
  },
  {
   "cell_type": "code",
   "execution_count": 1,
   "metadata": {
    "id": "-Xj3sjW0oPRg"
   },
   "outputs": [],
   "source": [
    "from collections import deque\n",
    "\n",
    "class Graph:\n",
    "    # example of adjacency list (or rather map) containing node: (neigbhor node, weight of edge)\n",
    "    # adjacency_list = {\n",
    "    # 'A': [('B', 1), ('C', 3), ('D', 7)],\n",
    "    # 'B': [('D', 5)],\n",
    "    # 'C': [('D', 12)]\n",
    "    # }\n",
    "\n",
    "    # initialises object with the given node: neighbor list\n",
    "    def __init__(self, adjacency_list: dict):\n",
    "        self.adjacency_list = adjacency_list\n",
    "\n",
    "    # gets the neighbor of a given node v from the list\n",
    "    def get_neighbors(self, v: str):\n",
    "        \"\"\"\n",
    "        Returns the List of nodes connected to the node v.\n",
    "        \"\"\"\n",
    "        try:\n",
    "            return self.adjacency_list[v]\n",
    "        except KeyError:\n",
    "            return []\n",
    "\n",
    "    # heuristic function with values for all nodes\n",
    "    def h(self, n):\n",
    "        \"\"\"\n",
    "        Heuristic Function, denoting the cost value from n to the goal state.\n",
    "        \"\"\"\n",
    "        H_dist = {\n",
    "            'A': 11,\n",
    "            'B': 6,\n",
    "            'C': 99,\n",
    "            'D': 1,\n",
    "            'E': 7,\n",
    "            'G': 0,    \n",
    "        }\n",
    "        return H_dist[n]\n",
    "    \n",
    "    def back_track(self,start_node, goal_state, back_track_dict):\n",
    "        \"\"\"\n",
    "        Returns the Path from goal_state to start_node\n",
    "        It traces the dictionary, starting from goal_state\n",
    "        and check it's parent, than again check parent's parent\n",
    "        and so on, till the parent node is initial node while adding\n",
    "        each parent node to a string.\n",
    "\n",
    "        Return the reverse of string to get path.\n",
    "        \"\"\"\n",
    "        curr_node = goal_state\n",
    "        path = goal_state\n",
    "        while start_node != curr_node:\n",
    "            curr_node = back_track_dict[curr_node]\n",
    "            path += curr_node\n",
    "\n",
    "        return path[::-1]\n",
    "\n",
    "    def a_star(self, start_node, stop_node):\n",
    "        # store visited nodes with uninspected neighbors in open_list, starting with the start node\n",
    "        # store visited nodes with inspected neighbors in closed_list\n",
    "        open_list = set([start_node])\n",
    "        closed_list = set([])\n",
    "\n",
    "        # g contains current distances from start_node to all other nodes\n",
    "        # the default value (if it's not found in the map) is +infinity\n",
    "        # It is the priority queue to select the next node for exploration\n",
    "        # node: (heuristic_cost to each here(h), cost to go to node(c), total_cost (h+c))\n",
    "        g = {}\n",
    "\n",
    "        g[start_node] = self.h(start_node), 0, self.h(start_node)+0\n",
    "\n",
    "        # Parents: dictionary where key is a node and it's value \n",
    "        # is the parent of that node.\n",
    "        parents = {}\n",
    "        parents[start_node] = start_node\n",
    "        current_node = start_node\n",
    "\n",
    "        while len(g) > 0:\n",
    "\n",
    "            # if current node is the goal state, return the path.\n",
    "            if current_node == stop_node:\n",
    "                return self.back_track(start_node, current_node, parents)\n",
    "\n",
    "            closed_list.add(current_node)\n",
    "            # Traversing the Graph\n",
    "            for (child, cost) in self.get_neighbors(current_node):\n",
    "                # if node is not in frontier and explored sets\n",
    "                if (child not in g) and (child not in closed_list):\n",
    "                    # Add the new node to frontier as key, and it's value\n",
    "                    # as a tuple of 3 values.\n",
    "                    g[child] = (self.h(child) , cost, self.h(child) + cost)\n",
    "                    parents[child] = current_node\n",
    "                \n",
    "                # if the child is present in frontier\n",
    "                elif child in g:\n",
    "                    # if the new path to the node is cheaper than already present\n",
    "                    # in frontier, replace the new cost\n",
    "                    if g[child][-1] > g[current_node][1] + cost + self.h(child):\n",
    "                        g[child] = (g[current_node][1] + cost, \n",
    "                                    self.h(child), \n",
    "                                    g[current_node][1] + self.h(child) + cost)\n",
    "                        # Also replace the parent of node\n",
    "                        parents[child] = current_node\n",
    "            \n",
    "            # Remove from frontier the explored node.\n",
    "            del g[current_node]\n",
    "            # Select new node to be explored based on minimum cost value.\n",
    "            current_node = min(g.items(), key=lambda item: item[1][-1])[0]\n",
    "            \n",
    "            \n",
    "        return None"
   ]
  },
  {
   "cell_type": "code",
   "execution_count": 2,
   "metadata": {
    "colab": {
     "base_uri": "https://localhost:8080/",
     "height": 35
    },
    "id": "nKO-FFgL8YUA",
    "outputId": "32cf04bd-ce03-4512-bb3f-980dba3516b1"
   },
   "outputs": [
    {
     "data": {
      "text/plain": [
       "'ABD'"
      ]
     },
     "execution_count": 2,
     "metadata": {},
     "output_type": "execute_result"
    }
   ],
   "source": [
    "adjacency_list = {\n",
    "    'A': [('B', 1), ('C', 3), ('D', 7)],\n",
    "    'B': [('D', 5)],\n",
    "    'C': [('D', 12)]\n",
    "}\n",
    "\n",
    "# Driver code for the given graph\n",
    "graph = Graph(adjacency_list)\n",
    "graph.a_star('A', 'D')"
   ]
  }
 ],
 "metadata": {
  "colab": {
   "collapsed_sections": [],
   "provenance": []
  },
  "kernelspec": {
   "display_name": "Python 3.10.5 64-bit ('3.10.5')",
   "language": "python",
   "name": "python3"
  },
  "language_info": {
   "codemirror_mode": {
    "name": "ipython",
    "version": 3
   },
   "file_extension": ".py",
   "mimetype": "text/x-python",
   "name": "python",
   "nbconvert_exporter": "python",
   "pygments_lexer": "ipython3",
   "version": "3.10.5"
  },
  "vscode": {
   "interpreter": {
    "hash": "3a4c71d7c1cb28120cedc413b481e2dc617e74acbabbc215c3307f7695fffff1"
   }
  }
 },
 "nbformat": 4,
 "nbformat_minor": 0
}
