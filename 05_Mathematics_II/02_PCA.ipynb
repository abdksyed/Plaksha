{
 "cells": [
  {
   "cell_type": "raw",
   "metadata": {},
   "source": [
    "---\n",
    "title: \"Principal Component Analysis\"\n",
    "desciption: \"Principal Component Analysis by Scratch\"\n",
    "author: Abdul Khader, Syed\n",
    "format:\n",
    "    html:\n",
    "        code-fold: false\n",
    "        page-layout: article\n",
    "execute: \n",
    "  enabled: false\n",
    "  warning: false\n",
    "---"
   ]
  },
  {
   "cell_type": "code",
   "execution_count": 30,
   "metadata": {},
   "outputs": [],
   "source": [
    "import numpy as np\n",
    "import pandas as pd\n",
    "import seaborn as sb\n",
    "import matplotlib.pyplot as plt"
   ]
  },
  {
   "cell_type": "markdown",
   "metadata": {},
   "source": [
    "# Exercise 1"
   ]
  },
  {
   "cell_type": "markdown",
   "metadata": {},
   "source": [
    "### Determine PCA of a 3x2 matrix "
   ]
  },
  {
   "cell_type": "markdown",
   "metadata": {},
   "source": [
    "#### define a matrix"
   ]
  },
  {
   "cell_type": "code",
   "execution_count": 31,
   "metadata": {},
   "outputs": [
    {
     "name": "stdout",
     "output_type": "stream",
     "text": [
      "[[1 2]\n",
      " [3 4]\n",
      " [5 6]]\n"
     ]
    }
   ],
   "source": [
    "A = np.array([[1, 2], [3, 4], [5, 6]])\n",
    "print(A)"
   ]
  },
  {
   "cell_type": "markdown",
   "metadata": {},
   "source": [
    "#### First do it manually!"
   ]
  },
  {
   "cell_type": "code",
   "execution_count": 32,
   "metadata": {},
   "outputs": [
    {
     "name": "stdout",
     "output_type": "stream",
     "text": [
      "[1 3 5] [2 4 6]\n"
     ]
    }
   ],
   "source": [
    "X = A[:,0]\n",
    "Y = A[:,1]\n",
    "print(X, Y)"
   ]
  },
  {
   "cell_type": "markdown",
   "metadata": {},
   "source": [
    "#### 1. Subtract the mean of each variable"
   ]
  },
  {
   "cell_type": "code",
   "execution_count": 33,
   "metadata": {},
   "outputs": [
    {
     "name": "stdout",
     "output_type": "stream",
     "text": [
      "[-2.  0.  2.] [-2.  0.  2.]\n",
      "[[-2. -2.]\n",
      " [ 0.  0.]\n",
      " [ 2.  2.]]\n"
     ]
    }
   ],
   "source": [
    "mean_sub_X = X - np.mean(X)\n",
    "mean_sub_Y = Y - np.mean(Y)\n",
    "\n",
    "mean_matrix = A - np.mean(A, axis=0)\n",
    "print(mean_sub_X, mean_sub_Y)\n",
    "print(mean_matrix)"
   ]
  },
  {
   "cell_type": "markdown",
   "metadata": {},
   "source": [
    "#### 2. Calculate the Covariance Matrix"
   ]
  },
  {
   "cell_type": "code",
   "execution_count": 34,
   "metadata": {},
   "outputs": [
    {
     "name": "stdout",
     "output_type": "stream",
     "text": [
      "[[4. 4.]\n",
      " [4. 4.]]\n"
     ]
    }
   ],
   "source": [
    "var_X = np.sum(mean_sub_X**2)/(len(X)-1)\n",
    "var_Y = np.sum(mean_sub_Y**2)/(len(Y)-1)\n",
    "cov_XY = np.sum(mean_sub_X * mean_sub_Y)/(len(X)-1)\n",
    "\n",
    "cov_matrix = np.array([\n",
    "    [var_X, cov_XY],\n",
    "    [cov_XY, var_Y]\n",
    "])\n",
    "print(cov_matrix)"
   ]
  },
  {
   "cell_type": "markdown",
   "metadata": {},
   "source": [
    "#### 3. Compute the Eigenvalues and Eigenvectors"
   ]
  },
  {
   "cell_type": "code",
   "execution_count": 35,
   "metadata": {},
   "outputs": [
    {
     "name": "stdout",
     "output_type": "stream",
     "text": [
      "[8. 0.]\n",
      "[[ 0.70710678 -0.70710678]\n",
      " [ 0.70710678  0.70710678]]\n"
     ]
    }
   ],
   "source": [
    "eig_values, eig_vectors = np.linalg.eig(cov_matrix)\n",
    "\n",
    "print(eig_values)\n",
    "print(eig_vectors)"
   ]
  },
  {
   "cell_type": "markdown",
   "metadata": {},
   "source": [
    "#### 4. project data of the original matrix to the new basis"
   ]
  },
  {
   "cell_type": "code",
   "execution_count": 36,
   "metadata": {},
   "outputs": [
    {
     "name": "stdout",
     "output_type": "stream",
     "text": [
      "[[-2.82842712]\n",
      " [ 0.        ]\n",
      " [ 2.82842712]]\n"
     ]
    }
   ],
   "source": [
    "prin_eig_vector = eig_vectors[:,0].reshape(-1,1)\n",
    "projected_A = np.matmul(mean_matrix, prin_eig_vector)\n",
    "\n",
    "print(projected_A)"
   ]
  },
  {
   "cell_type": "code",
   "execution_count": 37,
   "metadata": {},
   "outputs": [
    {
     "name": "stdout",
     "output_type": "stream",
     "text": [
      "[[-2.82842712  0.        ]\n",
      " [ 0.          0.        ]\n",
      " [ 2.82842712  0.        ]]\n"
     ]
    }
   ],
   "source": [
    "projected_matrix = np.matmul(mean_matrix, eig_vectors)\n",
    "\n",
    "print(projected_matrix)"
   ]
  },
  {
   "cell_type": "markdown",
   "metadata": {},
   "source": [
    "#### conclusion?"
   ]
  },
  {
   "cell_type": "markdown",
   "metadata": {},
   "source": [
    "The Eigen values are 8 and 0 for two columns respectively, since the second eigen value is 0, there is no extra information in the second column aftert transformation, and hence can be dropped after performing the PCA transformation. And can consider only the first column."
   ]
  },
  {
   "cell_type": "markdown",
   "metadata": {},
   "source": [
    "# Exercise 2"
   ]
  },
  {
   "cell_type": "markdown",
   "metadata": {},
   "source": [
    "### Ok Let's do it again but for a larger matrix 20x5"
   ]
  },
  {
   "cell_type": "markdown",
   "metadata": {},
   "source": [
    "#### Generate a dummy dataset."
   ]
  },
  {
   "cell_type": "code",
   "execution_count": 38,
   "metadata": {},
   "outputs": [
    {
     "name": "stdout",
     "output_type": "stream",
     "text": [
      "[[42 21 35 14 10]\n",
      " [20 41 26 46 31]\n",
      " [36 37 19 24 20]\n",
      " [37 14 14 17 12]\n",
      " [42 14 38 17 29]\n",
      " [46 35 27 42 35]\n",
      " [19 34 32 12 49]\n",
      " [37 19 30 22 39]\n",
      " [14 46 34 40 43]\n",
      " [13 10 44 25 33]\n",
      " [30 48 27 24 36]\n",
      " [12 39 45 49 24]\n",
      " [11 36 34 10 14]\n",
      " [14 36 15 38 44]\n",
      " [40 29 13 15 42]\n",
      " [44 39 17 21 26]\n",
      " [17 20 26 14 48]\n",
      " [38 34 48 10 40]\n",
      " [39 37 42 48 14]\n",
      " [42 27 28 18 44]]\n"
     ]
    }
   ],
   "source": [
    "X = np.random.randint(10,50,100).reshape(20,5)\n",
    "print(X)"
   ]
  },
  {
   "cell_type": "markdown",
   "metadata": {},
   "source": [
    "#### 1. Subtract the mean of each variable"
   ]
  },
  {
   "cell_type": "markdown",
   "metadata": {},
   "source": [
    "Subtract the mean of each variable from the dataset so that the dataset should be centered on the origin. Doing this proves to be very helpful when calculating the covariance matrix."
   ]
  },
  {
   "cell_type": "code",
   "execution_count": 39,
   "metadata": {},
   "outputs": [],
   "source": [
    "central_X = X - np.mean(X, axis = 0)"
   ]
  },
  {
   "cell_type": "markdown",
   "metadata": {},
   "source": [
    "#### 2. Calculate the Covariance Matrix"
   ]
  },
  {
   "cell_type": "markdown",
   "metadata": {},
   "source": [
    "Calculate the Covariance Matrix of the mean-centered data. "
   ]
  },
  {
   "cell_type": "code",
   "execution_count": 40,
   "metadata": {},
   "outputs": [
    {
     "name": "stdout",
     "output_type": "stream",
     "text": [
      "[[165.08157895 -26.23157895 -28.11052632 -37.31052632 -33.65526316]\n",
      " [-26.23157895 121.11578947  -7.32631579  66.95789474  13.08421053]\n",
      " [-28.11052632  -7.32631579 111.90526316  16.56842105 -12.26842105]\n",
      " [-37.31052632  66.95789474  16.56842105 178.53684211 -12.99473684]\n",
      " [-33.65526316  13.08421053 -12.26842105 -12.99473684 156.66052632]]\n"
     ]
    }
   ],
   "source": [
    "cov_mat = np.cov(central_X, rowvar= False)\n",
    "print(cov_mat)"
   ]
  },
  {
   "cell_type": "markdown",
   "metadata": {},
   "source": [
    "Note: the matrix is symmetrical"
   ]
  },
  {
   "cell_type": "markdown",
   "metadata": {},
   "source": [
    "#### 3. Compute the Eigenvalues and Eigenvectors"
   ]
  },
  {
   "cell_type": "markdown",
   "metadata": {},
   "source": [
    "Now, compute the Eigenvalues and Eigenvectors for the calculated Covariance matrix. "
   ]
  },
  {
   "cell_type": "code",
   "execution_count": 41,
   "metadata": {},
   "outputs": [
    {
     "name": "stdout",
     "output_type": "stream",
     "text": [
      "[253.01066884 181.35485507 141.1469473   88.82152611  68.96600268]\n",
      "[[-0.52753037  0.45832807  0.15014975  0.68623713  0.13483595]\n",
      " [ 0.43675002  0.09465772  0.05213214  0.41635417 -0.79007644]\n",
      " [-0.49880679 -0.41149083  0.64073475 -0.17512103 -0.37504492]\n",
      " [-0.52633992  0.11431773 -0.66767148 -0.24624489 -0.45108313]\n",
      " [-0.0715486  -0.77368084 -0.34410909  0.51422163  0.11603365]]\n"
     ]
    }
   ],
   "source": [
    "eig_values, eig_vectors = np.linalg.eig(cov_mat)\n",
    "# The above Eigen Vectors is column wise for each eigen value\n",
    "# Converting it to Row wise\n",
    "eig_vectors = eig_vectors.T\n",
    "print(eig_values)\n",
    "print(eig_vectors)"
   ]
  },
  {
   "cell_type": "markdown",
   "metadata": {},
   "source": [
    "Note: The Eigenvectors of the Covariance matrix we get are Orthogonal to each other and each vector represents a principal axis.\n",
    "A Higher Eigenvalue corresponds to a higher variability. Hence the principal axis with the higher Eigenvalue will be an axis capturing higher variability in the data."
   ]
  },
  {
   "cell_type": "markdown",
   "metadata": {},
   "source": [
    "#### 4. Sort Eigenvalues in descending order"
   ]
  },
  {
   "cell_type": "markdown",
   "metadata": {},
   "source": [
    "Sort the Eigenvalues in the descending order along with their corresponding Eigenvector."
   ]
  },
  {
   "cell_type": "code",
   "execution_count": 42,
   "metadata": {},
   "outputs": [
    {
     "name": "stdout",
     "output_type": "stream",
     "text": [
      "[253.01066884 181.35485507 141.1469473   88.82152611  68.96600268]\n",
      "[[-0.52753037  0.45832807  0.15014975  0.68623713  0.13483595]\n",
      " [ 0.43675002  0.09465772  0.05213214  0.41635417 -0.79007644]\n",
      " [-0.49880679 -0.41149083  0.64073475 -0.17512103 -0.37504492]\n",
      " [-0.52633992  0.11431773 -0.66767148 -0.24624489 -0.45108313]\n",
      " [-0.0715486  -0.77368084 -0.34410909  0.51422163  0.11603365]]\n"
     ]
    }
   ],
   "source": [
    "desc_order = np.argsort(eig_values)[::-1]\n",
    "eig_values = eig_values[desc_order]\n",
    "eig_vectors = eig_vectors[desc_order]\n",
    "\n",
    "print(eig_values)\n",
    "print(eig_vectors)"
   ]
  },
  {
   "cell_type": "markdown",
   "metadata": {},
   "source": [
    "Note: Each column in the Eigen vector-matrix corresponds to a principal component, so arranging them in descending order of their Eigenvalue will automatically arrange the principal component in descending order of their variability.\n",
    "Hence the first column in our rearranged Eigen vector-matrix will be a principal component that captures the highest variability."
   ]
  },
  {
   "cell_type": "markdown",
   "metadata": {},
   "source": [
    "#### 5. Select a subset from the rearranged Eigenvalue matrix"
   ]
  },
  {
   "cell_type": "markdown",
   "metadata": {},
   "source": [
    "Select a subset of n first eigenvectors from the rearranged Eigenvector matrix as per our need, n is desired dimension of your final reduced data. i.e. \"n_components=2\" means you selected the first two principal components."
   ]
  },
  {
   "cell_type": "code",
   "execution_count": 43,
   "metadata": {},
   "outputs": [
    {
     "name": "stdout",
     "output_type": "stream",
     "text": [
      "[[-0.52753037  0.45832807  0.15014975  0.68623713  0.13483595]\n",
      " [ 0.43675002  0.09465772  0.05213214  0.41635417 -0.79007644]]\n"
     ]
    }
   ],
   "source": [
    "n_components = 2\n",
    "\n",
    "desired_eig_vectors = eig_vectors[:2]\n",
    "print(desired_eig_vectors)"
   ]
  },
  {
   "cell_type": "markdown",
   "metadata": {},
   "source": [
    "Note: The final dimensions of X_reduced will be ( 20, 2 ) and originally the data was of higher dimensions ( 20, 5 )."
   ]
  },
  {
   "cell_type": "markdown",
   "metadata": {},
   "source": [
    "#### 6. Transform the data"
   ]
  },
  {
   "cell_type": "markdown",
   "metadata": {},
   "source": [
    "Finally, transform the data by having a dot product between the Transpose of the Eigenvector subset and the Transpose of the mean-centered data. By transposing the outcome of the dot product, the result we get is the data reduced to lower dimensions from higher dimensions."
   ]
  },
  {
   "cell_type": "code",
   "execution_count": 44,
   "metadata": {},
   "outputs": [
    {
     "name": "stdout",
     "output_type": "stream",
     "text": [
      "[[-2.08844995e+01  1.71428703e+01]\n",
      " [ 2.33275256e+01  5.69006310e+00]\n",
      " [-4.57773329e+00  1.14655567e+01]\n",
      " [-2.22799056e+01  1.28706507e+01]\n",
      " [-1.90217522e+01  2.87427279e+00]\n",
      " [ 4.80631252e+00  1.17040271e+01]\n",
      " [ 6.42642644e-01 -2.34739157e+01]\n",
      " [-1.05141129e+01 -5.07223941e+00]\n",
      " [ 2.74861549e+01 -8.01913353e+00]\n",
      " [ 1.37345567e+00 -9.68678831e+00]\n",
      " [ 6.98763100e+00 -2.33787436e+00]\n",
      " [ 3.05988175e+01  9.77685579e+00]\n",
      " [-1.18913037e-02  1.45630833e-01]\n",
      " [ 1.88123905e+01 -1.15790063e+01]\n",
      " [-1.44651211e+01 -8.98636706e+00]\n",
      " [-9.43131532e+00  9.05508688e+00]\n",
      " [-4.38214982e+00 -2.43626320e+01]\n",
      " [-9.56403624e+00 -8.06357138e+00]\n",
      " [ 1.29537954e+01  2.87078047e+01]\n",
      " [-1.18562084e+01 -7.85129066e+00]]\n"
     ]
    }
   ],
   "source": [
    "projected_matrix = np.matmul(central_X, desired_eig_vectors.T)\n",
    "\n",
    "print(projected_matrix)"
   ]
  },
  {
   "cell_type": "markdown",
   "metadata": {},
   "source": [
    "# Exercise 3"
   ]
  },
  {
   "cell_type": "markdown",
   "metadata": {},
   "source": [
    "### Now, let’s just combine everything above by making a function and try our Principal Component analysis from scratch on an example."
   ]
  },
  {
   "cell_type": "markdown",
   "metadata": {},
   "source": [
    "#### Create a PCA function accepting data matrix and the number of components as input arguments."
   ]
  },
  {
   "cell_type": "code",
   "execution_count": 53,
   "metadata": {},
   "outputs": [],
   "source": [
    "def PCA(data, num_components):\n",
    "    # Finding the Centralised Matrix (Matrix - Column Mean)\n",
    "    central_X = data - np.mean(data, axis = 0)\n",
    "\n",
    "    # Finding the Co-Variance Matrix\n",
    "    cov_mat = np.cov(central_X, rowvar= False)\n",
    "\n",
    "    # Finding the Eigen Values and Eigen Vectors\n",
    "    eig_values, eig_vectors = np.linalg.eig(cov_mat)\n",
    "    # Eigen vectors are column wise, making them row wise\n",
    "    eig_vectors = eig_vectors.T\n",
    "\n",
    "    # Taking the Descinding order of Eigen Values\n",
    "    # and their corresponding Eigen Vectors\n",
    "    desc_order = np.argsort(eig_values)[::-1]\n",
    "    eig_values = eig_values[desc_order]\n",
    "    eig_vectors = eig_vectors[desc_order]\n",
    "\n",
    "    # Desired Eigen Vectors\n",
    "    desired_eig_vectors = eig_vectors[:num_components]\n",
    "\n",
    "    projected_matrix = np.matmul(central_X, desired_eig_vectors.T)\n",
    "\n",
    "    return projected_matrix, eig_values"
   ]
  },
  {
   "cell_type": "markdown",
   "metadata": {},
   "source": [
    "#### Let's use the IRIS dataset to test our PCA function, and by the same way see if we can classify the dataset in the projected space"
   ]
  },
  {
   "cell_type": "code",
   "execution_count": 54,
   "metadata": {},
   "outputs": [
    {
     "data": {
      "text/html": [
       "<div>\n",
       "<style scoped>\n",
       "    .dataframe tbody tr th:only-of-type {\n",
       "        vertical-align: middle;\n",
       "    }\n",
       "\n",
       "    .dataframe tbody tr th {\n",
       "        vertical-align: top;\n",
       "    }\n",
       "\n",
       "    .dataframe thead th {\n",
       "        text-align: right;\n",
       "    }\n",
       "</style>\n",
       "<table border=\"1\" class=\"dataframe\">\n",
       "  <thead>\n",
       "    <tr style=\"text-align: right;\">\n",
       "      <th></th>\n",
       "      <th>sepal length</th>\n",
       "      <th>sepal width</th>\n",
       "      <th>petal length</th>\n",
       "      <th>petal width</th>\n",
       "      <th>target</th>\n",
       "    </tr>\n",
       "  </thead>\n",
       "  <tbody>\n",
       "    <tr>\n",
       "      <th>0</th>\n",
       "      <td>5.1</td>\n",
       "      <td>3.5</td>\n",
       "      <td>1.4</td>\n",
       "      <td>0.2</td>\n",
       "      <td>Iris-setosa</td>\n",
       "    </tr>\n",
       "    <tr>\n",
       "      <th>1</th>\n",
       "      <td>4.9</td>\n",
       "      <td>3.0</td>\n",
       "      <td>1.4</td>\n",
       "      <td>0.2</td>\n",
       "      <td>Iris-setosa</td>\n",
       "    </tr>\n",
       "    <tr>\n",
       "      <th>2</th>\n",
       "      <td>4.7</td>\n",
       "      <td>3.2</td>\n",
       "      <td>1.3</td>\n",
       "      <td>0.2</td>\n",
       "      <td>Iris-setosa</td>\n",
       "    </tr>\n",
       "    <tr>\n",
       "      <th>3</th>\n",
       "      <td>4.6</td>\n",
       "      <td>3.1</td>\n",
       "      <td>1.5</td>\n",
       "      <td>0.2</td>\n",
       "      <td>Iris-setosa</td>\n",
       "    </tr>\n",
       "    <tr>\n",
       "      <th>4</th>\n",
       "      <td>5.0</td>\n",
       "      <td>3.6</td>\n",
       "      <td>1.4</td>\n",
       "      <td>0.2</td>\n",
       "      <td>Iris-setosa</td>\n",
       "    </tr>\n",
       "  </tbody>\n",
       "</table>\n",
       "</div>"
      ],
      "text/plain": [
       "   sepal length  sepal width  petal length  petal width       target\n",
       "0           5.1          3.5           1.4          0.2  Iris-setosa\n",
       "1           4.9          3.0           1.4          0.2  Iris-setosa\n",
       "2           4.7          3.2           1.3          0.2  Iris-setosa\n",
       "3           4.6          3.1           1.5          0.2  Iris-setosa\n",
       "4           5.0          3.6           1.4          0.2  Iris-setosa"
      ]
     },
     "execution_count": 54,
     "metadata": {},
     "output_type": "execute_result"
    }
   ],
   "source": [
    "#Get the IRIS dataset\n",
    "url = \"https://archive.ics.uci.edu/ml/machine-learning-databases/iris/iris.data\"\n",
    "data = pd.read_csv(url, names=['sepal length','sepal width','petal length','petal width','target'])\n",
    "data.head()"
   ]
  },
  {
   "cell_type": "markdown",
   "metadata": {},
   "source": [
    "#### 1. prepare the dataset & target set for classification"
   ]
  },
  {
   "cell_type": "code",
   "execution_count": 55,
   "metadata": {},
   "outputs": [
    {
     "name": "stdout",
     "output_type": "stream",
     "text": [
      "   sepal length  sepal width  petal length  petal width\n",
      "0           5.1          3.5           1.4          0.2\n",
      "1           4.9          3.0           1.4          0.2\n",
      "2           4.7          3.2           1.3          0.2\n",
      "3           4.6          3.1           1.5          0.2\n",
      "4           5.0          3.6           1.4          0.2\n",
      "0    Iris-setosa\n",
      "1    Iris-setosa\n",
      "2    Iris-setosa\n",
      "3    Iris-setosa\n",
      "4    Iris-setosa\n",
      "Name: target, dtype: object\n"
     ]
    }
   ],
   "source": [
    "target = data.iloc[:,-1]\n",
    "data = data.iloc[:,:-1]\n",
    "print(data.head())\n",
    "print(target.head())"
   ]
  },
  {
   "cell_type": "markdown",
   "metadata": {},
   "source": [
    "#### 2. Apply the PCA function"
   ]
  },
  {
   "cell_type": "code",
   "execution_count": 56,
   "metadata": {},
   "outputs": [],
   "source": [
    "reduced_data_2, eig_val_2 = PCA(data.to_numpy(), 2)\n",
    "reduced_data_1, eig_val_2 = PCA(data.to_numpy(), 1)"
   ]
  },
  {
   "cell_type": "markdown",
   "metadata": {},
   "source": [
    "#### 3. Create a Pandas Dataframe of reduced Dataset with target data"
   ]
  },
  {
   "cell_type": "code",
   "execution_count": 57,
   "metadata": {},
   "outputs": [
    {
     "data": {
      "text/html": [
       "<div>\n",
       "<style scoped>\n",
       "    .dataframe tbody tr th:only-of-type {\n",
       "        vertical-align: middle;\n",
       "    }\n",
       "\n",
       "    .dataframe tbody tr th {\n",
       "        vertical-align: top;\n",
       "    }\n",
       "\n",
       "    .dataframe thead th {\n",
       "        text-align: right;\n",
       "    }\n",
       "</style>\n",
       "<table border=\"1\" class=\"dataframe\">\n",
       "  <thead>\n",
       "    <tr style=\"text-align: right;\">\n",
       "      <th></th>\n",
       "      <th>0</th>\n",
       "      <th>1</th>\n",
       "    </tr>\n",
       "  </thead>\n",
       "  <tbody>\n",
       "    <tr>\n",
       "      <th>0</th>\n",
       "      <td>-2.684207</td>\n",
       "      <td>Iris-setosa</td>\n",
       "    </tr>\n",
       "    <tr>\n",
       "      <th>1</th>\n",
       "      <td>-2.715391</td>\n",
       "      <td>Iris-setosa</td>\n",
       "    </tr>\n",
       "    <tr>\n",
       "      <th>2</th>\n",
       "      <td>-2.88982</td>\n",
       "      <td>Iris-setosa</td>\n",
       "    </tr>\n",
       "    <tr>\n",
       "      <th>3</th>\n",
       "      <td>-2.746437</td>\n",
       "      <td>Iris-setosa</td>\n",
       "    </tr>\n",
       "    <tr>\n",
       "      <th>4</th>\n",
       "      <td>-2.728593</td>\n",
       "      <td>Iris-setosa</td>\n",
       "    </tr>\n",
       "    <tr>\n",
       "      <th>...</th>\n",
       "      <td>...</td>\n",
       "      <td>...</td>\n",
       "    </tr>\n",
       "    <tr>\n",
       "      <th>145</th>\n",
       "      <td>1.944017</td>\n",
       "      <td>Iris-virginica</td>\n",
       "    </tr>\n",
       "    <tr>\n",
       "      <th>146</th>\n",
       "      <td>1.525664</td>\n",
       "      <td>Iris-virginica</td>\n",
       "    </tr>\n",
       "    <tr>\n",
       "      <th>147</th>\n",
       "      <td>1.764046</td>\n",
       "      <td>Iris-virginica</td>\n",
       "    </tr>\n",
       "    <tr>\n",
       "      <th>148</th>\n",
       "      <td>1.901629</td>\n",
       "      <td>Iris-virginica</td>\n",
       "    </tr>\n",
       "    <tr>\n",
       "      <th>149</th>\n",
       "      <td>1.389666</td>\n",
       "      <td>Iris-virginica</td>\n",
       "    </tr>\n",
       "  </tbody>\n",
       "</table>\n",
       "<p>150 rows × 2 columns</p>\n",
       "</div>"
      ],
      "text/plain": [
       "            0               1\n",
       "0   -2.684207     Iris-setosa\n",
       "1   -2.715391     Iris-setosa\n",
       "2    -2.88982     Iris-setosa\n",
       "3   -2.746437     Iris-setosa\n",
       "4   -2.728593     Iris-setosa\n",
       "..        ...             ...\n",
       "145  1.944017  Iris-virginica\n",
       "146  1.525664  Iris-virginica\n",
       "147  1.764046  Iris-virginica\n",
       "148  1.901629  Iris-virginica\n",
       "149  1.389666  Iris-virginica\n",
       "\n",
       "[150 rows x 2 columns]"
      ]
     },
     "execution_count": 57,
     "metadata": {},
     "output_type": "execute_result"
    }
   ],
   "source": [
    "reduced_df1 = np.c_[reduced_data_1, target]\n",
    "reduced_df1 = pd.DataFrame(reduced_df1)\n",
    "reduced_df1"
   ]
  },
  {
   "cell_type": "code",
   "execution_count": 58,
   "metadata": {},
   "outputs": [
    {
     "data": {
      "text/html": [
       "<div>\n",
       "<style scoped>\n",
       "    .dataframe tbody tr th:only-of-type {\n",
       "        vertical-align: middle;\n",
       "    }\n",
       "\n",
       "    .dataframe tbody tr th {\n",
       "        vertical-align: top;\n",
       "    }\n",
       "\n",
       "    .dataframe thead th {\n",
       "        text-align: right;\n",
       "    }\n",
       "</style>\n",
       "<table border=\"1\" class=\"dataframe\">\n",
       "  <thead>\n",
       "    <tr style=\"text-align: right;\">\n",
       "      <th></th>\n",
       "      <th>0</th>\n",
       "      <th>1</th>\n",
       "      <th>2</th>\n",
       "    </tr>\n",
       "  </thead>\n",
       "  <tbody>\n",
       "    <tr>\n",
       "      <th>0</th>\n",
       "      <td>-2.684207</td>\n",
       "      <td>-0.326607</td>\n",
       "      <td>Iris-setosa</td>\n",
       "    </tr>\n",
       "    <tr>\n",
       "      <th>1</th>\n",
       "      <td>-2.715391</td>\n",
       "      <td>0.169557</td>\n",
       "      <td>Iris-setosa</td>\n",
       "    </tr>\n",
       "    <tr>\n",
       "      <th>2</th>\n",
       "      <td>-2.88982</td>\n",
       "      <td>0.137346</td>\n",
       "      <td>Iris-setosa</td>\n",
       "    </tr>\n",
       "    <tr>\n",
       "      <th>3</th>\n",
       "      <td>-2.746437</td>\n",
       "      <td>0.311124</td>\n",
       "      <td>Iris-setosa</td>\n",
       "    </tr>\n",
       "    <tr>\n",
       "      <th>4</th>\n",
       "      <td>-2.728593</td>\n",
       "      <td>-0.333925</td>\n",
       "      <td>Iris-setosa</td>\n",
       "    </tr>\n",
       "    <tr>\n",
       "      <th>...</th>\n",
       "      <td>...</td>\n",
       "      <td>...</td>\n",
       "      <td>...</td>\n",
       "    </tr>\n",
       "    <tr>\n",
       "      <th>145</th>\n",
       "      <td>1.944017</td>\n",
       "      <td>-0.187415</td>\n",
       "      <td>Iris-virginica</td>\n",
       "    </tr>\n",
       "    <tr>\n",
       "      <th>146</th>\n",
       "      <td>1.525664</td>\n",
       "      <td>0.375021</td>\n",
       "      <td>Iris-virginica</td>\n",
       "    </tr>\n",
       "    <tr>\n",
       "      <th>147</th>\n",
       "      <td>1.764046</td>\n",
       "      <td>-0.078519</td>\n",
       "      <td>Iris-virginica</td>\n",
       "    </tr>\n",
       "    <tr>\n",
       "      <th>148</th>\n",
       "      <td>1.901629</td>\n",
       "      <td>-0.115877</td>\n",
       "      <td>Iris-virginica</td>\n",
       "    </tr>\n",
       "    <tr>\n",
       "      <th>149</th>\n",
       "      <td>1.389666</td>\n",
       "      <td>0.282887</td>\n",
       "      <td>Iris-virginica</td>\n",
       "    </tr>\n",
       "  </tbody>\n",
       "</table>\n",
       "<p>150 rows × 3 columns</p>\n",
       "</div>"
      ],
      "text/plain": [
       "            0         1               2\n",
       "0   -2.684207 -0.326607     Iris-setosa\n",
       "1   -2.715391  0.169557     Iris-setosa\n",
       "2    -2.88982  0.137346     Iris-setosa\n",
       "3   -2.746437  0.311124     Iris-setosa\n",
       "4   -2.728593 -0.333925     Iris-setosa\n",
       "..        ...       ...             ...\n",
       "145  1.944017 -0.187415  Iris-virginica\n",
       "146  1.525664  0.375021  Iris-virginica\n",
       "147  1.764046 -0.078519  Iris-virginica\n",
       "148  1.901629 -0.115877  Iris-virginica\n",
       "149  1.389666  0.282887  Iris-virginica\n",
       "\n",
       "[150 rows x 3 columns]"
      ]
     },
     "execution_count": 58,
     "metadata": {},
     "output_type": "execute_result"
    }
   ],
   "source": [
    "reduced_df = np.c_[reduced_data_2, target]\n",
    "reduced_df = pd.DataFrame(reduced_df)\n",
    "reduced_df"
   ]
  },
  {
   "cell_type": "markdown",
   "metadata": {},
   "source": [
    "#### 4. Vizualize the data with one and two principal components"
   ]
  },
  {
   "cell_type": "code",
   "execution_count": 59,
   "metadata": {},
   "outputs": [
    {
     "data": {
      "image/png": "[encoded data removed]",
      "text/plain": [
       "<Figure size 640x480 with 1 Axes>"
      ]
     },
     "metadata": {},
     "output_type": "display_data"
    }
   ],
   "source": [
    "colors = {cat:color for cat,color in zip(target.unique(), ['tab:blue','tab:orange','tab:green','tab:red','tab:purple','tab:brown','tab:pink'])}\n",
    "plt.scatter(reduced_df1[0], reduced_df1[0], c=reduced_df1[1].map(colors))\n",
    "plt.axis('equal')\n",
    "# plt.legend(title='color', handles=handles, bbox_to_anchor=(1.05, 1), loc='upper left')\n",
    "plt.show()"
   ]
  },
  {
   "cell_type": "code",
   "execution_count": 60,
   "metadata": {},
   "outputs": [
    {
     "data": {
      "image/png": "[encoded data removed]",
      "text/plain": [
       "<Figure size 640x480 with 1 Axes>"
      ]
     },
     "metadata": {},
     "output_type": "display_data"
    }
   ],
   "source": [
    "colors = {cat:color for cat,color in zip(target.unique(), ['tab:blue','tab:orange','tab:green','tab:red','tab:purple','tab:brown','tab:pink'])}\n",
    "plt.scatter(reduced_df[0], reduced_df[1], c=reduced_df[2].map(colors))\n",
    "plt.axis('equal')\n",
    "# plt.legend(title='color', handles=handles, bbox_to_anchor=(1.05, 1), loc='upper left')\n",
    "plt.show()"
   ]
  },
  {
   "cell_type": "markdown",
   "metadata": {},
   "source": [
    "#### 5. Conclusion"
   ]
  },
  {
   "cell_type": "code",
   "execution_count": 64,
   "metadata": {},
   "outputs": [
    {
     "name": "stdout",
     "output_type": "stream",
     "text": [
      "[0.92461621 0.97763178 0.99481691 1.        ]\n"
     ]
    }
   ],
   "source": [
    "print(np.cumsum(eig_val_2/eig_val_2.sum()))"
   ]
  },
  {
   "cell_type": "markdown",
   "metadata": {},
   "source": [
    "As we can see, the first column after transformation will have 92.46% of the original data, and if we take the first two component of the eigen vectors set, and use those to generate the data, we can get 97.76% of the original data."
   ]
  },
  {
   "cell_type": "markdown",
   "metadata": {},
   "source": [
    "# More?"
   ]
  },
  {
   "cell_type": "markdown",
   "metadata": {},
   "source": [
    "### Go to: https://jakevdp.github.io/PythonDataScienceHandbook/05.09-principal-component-analysis.html"
   ]
  }
 ],
 "metadata": {
  "kernelspec": {
   "display_name": "Python 3.10.5 ('venv': venv)",
   "language": "python",
   "name": "python3"
  },
  "language_info": {
   "codemirror_mode": {
    "name": "ipython",
    "version": 3
   },
   "file_extension": ".py",
   "mimetype": "text/x-python",
   "name": "python",
   "nbconvert_exporter": "python",
   "pygments_lexer": "ipython3",
   "version": "3.10.5"
  },
  "vscode": {
   "interpreter": {
    "hash": "8d519ce160da629244c5fa84cf02a853bdfbd2d6722f9390c675e535dc1f1a96"
   }
  }
 },
 "nbformat": 4,
 "nbformat_minor": 4
}
