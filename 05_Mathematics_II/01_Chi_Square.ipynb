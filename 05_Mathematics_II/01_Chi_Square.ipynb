{
 "cells": [
  {
   "cell_type": "raw",
   "metadata": {},
   "source": [
    "---\n",
    "title: \"Independence Testing using Chi-Square Test\"\n",
    "desciption: \"Testing for relation between Mail and User signing up rate\"\n",
    "author: Abdul Khader, Syed\n",
    "format:\n",
    "    html:\n",
    "        code-fold: true\n",
    "        page-layout: article\n",
    "    pdf: \n",
    "        documentclass: report\n",
    "        date: 31 October 2022\n",
    "        geometry:\n",
    "          - top=30mm\n",
    "          - left=10mm\n",
    "          - heightrounded\n",
    "        highlight-style: github\n",
    "execute: \n",
    "  enabled: true\n",
    "  warning: false\n",
    "---"
   ]
  },
  {
   "cell_type": "code",
   "execution_count": 1,
   "metadata": {},
   "outputs": [],
   "source": [
    "import numpy as np\n",
    "import pandas as pd\n",
    "import matplotlib.pyplot as plt\n",
    "import math\n",
    "import random\n",
    "\n",
    "from scipy.stats import chi2_contingency, chi2"
   ]
  },
  {
   "cell_type": "code",
   "execution_count": 2,
   "metadata": {},
   "outputs": [
    {
     "name": "stderr",
     "output_type": "stream",
     "text": [
      "/Users/syed/coding/TLP/Plaksha/venv/lib/python3.10/site-packages/IPython/core/formatters.py:343: FutureWarning:\n",
      "\n",
      "In future versions `DataFrame.to_latex` is expected to utilise the base implementation of `Styler.to_latex` for formatting and rendering. The arguments signature may therefore change. It is recommended instead to use `DataFrame.style.to_latex` which also contains additional functionality.\n",
      "\n"
     ]
    },
    {
     "data": {
      "text/html": [
       "<div>\n",
       "<style scoped>\n",
       "    .dataframe tbody tr th:only-of-type {\n",
       "        vertical-align: middle;\n",
       "    }\n",
       "\n",
       "    .dataframe tbody tr th {\n",
       "        vertical-align: top;\n",
       "    }\n",
       "\n",
       "    .dataframe thead th {\n",
       "        text-align: right;\n",
       "    }\n",
       "</style>\n",
       "<table border=\"1\" class=\"dataframe\">\n",
       "  <thead>\n",
       "    <tr style=\"text-align: right;\">\n",
       "      <th></th>\n",
       "      <th>customer_id</th>\n",
       "      <th>campaign_name</th>\n",
       "      <th>campaign_date</th>\n",
       "      <th>mailer_type</th>\n",
       "      <th>signup_flag</th>\n",
       "    </tr>\n",
       "  </thead>\n",
       "  <tbody>\n",
       "    <tr>\n",
       "      <th>0</th>\n",
       "      <td>74</td>\n",
       "      <td>delivery_club</td>\n",
       "      <td>2020-07-01</td>\n",
       "      <td>Mailer1</td>\n",
       "      <td>1</td>\n",
       "    </tr>\n",
       "    <tr>\n",
       "      <th>1</th>\n",
       "      <td>524</td>\n",
       "      <td>delivery_club</td>\n",
       "      <td>2020-07-01</td>\n",
       "      <td>Mailer1</td>\n",
       "      <td>1</td>\n",
       "    </tr>\n",
       "    <tr>\n",
       "      <th>2</th>\n",
       "      <td>607</td>\n",
       "      <td>delivery_club</td>\n",
       "      <td>2020-07-01</td>\n",
       "      <td>Mailer2</td>\n",
       "      <td>1</td>\n",
       "    </tr>\n",
       "    <tr>\n",
       "      <th>3</th>\n",
       "      <td>343</td>\n",
       "      <td>delivery_club</td>\n",
       "      <td>2020-07-01</td>\n",
       "      <td>Mailer1</td>\n",
       "      <td>0</td>\n",
       "    </tr>\n",
       "    <tr>\n",
       "      <th>4</th>\n",
       "      <td>322</td>\n",
       "      <td>delivery_club</td>\n",
       "      <td>2020-07-01</td>\n",
       "      <td>Mailer2</td>\n",
       "      <td>1</td>\n",
       "    </tr>\n",
       "  </tbody>\n",
       "</table>\n",
       "</div>"
      ],
      "text/latex": [
       "\\begin{tabular}{lrlllr}\n",
       "\\toprule\n",
       "{} &  customer\\_id &  campaign\\_name & campaign\\_date & mailer\\_type &  signup\\_flag \\\\\n",
       "\\midrule\n",
       "0 &           74 &  delivery\\_club &    2020-07-01 &     Mailer1 &            1 \\\\\n",
       "1 &          524 &  delivery\\_club &    2020-07-01 &     Mailer1 &            1 \\\\\n",
       "2 &          607 &  delivery\\_club &    2020-07-01 &     Mailer2 &            1 \\\\\n",
       "3 &          343 &  delivery\\_club &    2020-07-01 &     Mailer1 &            0 \\\\\n",
       "4 &          322 &  delivery\\_club &    2020-07-01 &     Mailer2 &            1 \\\\\n",
       "\\bottomrule\n",
       "\\end{tabular}\n"
      ],
      "text/plain": [
       "   customer_id  campaign_name campaign_date mailer_type  signup_flag\n",
       "0           74  delivery_club    2020-07-01     Mailer1            1\n",
       "1          524  delivery_club    2020-07-01     Mailer1            1\n",
       "2          607  delivery_club    2020-07-01     Mailer2            1\n",
       "3          343  delivery_club    2020-07-01     Mailer1            0\n",
       "4          322  delivery_club    2020-07-01     Mailer2            1"
      ]
     },
     "execution_count": 2,
     "metadata": {},
     "output_type": "execute_result"
    }
   ],
   "source": [
    "df = pd.read_excel(\"./data/grocery_database.xlsx\", sheet_name = \"campaign_data\", engine = \"openpyxl\")\n",
    "df = df[df['mailer_type'] != 'Control']\n",
    "df.head()"
   ]
  },
  {
   "cell_type": "code",
   "execution_count": 3,
   "metadata": {},
   "outputs": [
    {
     "data": {
      "text/plain": [
       "(711, 5)"
      ]
     },
     "execution_count": 3,
     "metadata": {},
     "output_type": "execute_result"
    }
   ],
   "source": [
    "df.shape"
   ]
  },
  {
   "cell_type": "code",
   "execution_count": 4,
   "metadata": {},
   "outputs": [
    {
     "name": "stderr",
     "output_type": "stream",
     "text": [
      "/Users/syed/coding/TLP/Plaksha/venv/lib/python3.10/site-packages/IPython/core/formatters.py:343: FutureWarning:\n",
      "\n",
      "In future versions `DataFrame.to_latex` is expected to utilise the base implementation of `Styler.to_latex` for formatting and rendering. The arguments signature may therefore change. It is recommended instead to use `DataFrame.style.to_latex` which also contains additional functionality.\n",
      "\n"
     ]
    },
    {
     "data": {
      "text/latex": [
       "\\begin{tabular}{llr}\n",
       "\\toprule\n",
       "        &   &  signup\\_flag \\\\\n",
       "mailer\\_type & signup\\_flag &              \\\\\n",
       "\\midrule\n",
       "Mailer1 & 0 &     0.672000 \\\\\n",
       "        & 1 &     0.328000 \\\\\n",
       "Mailer2 & 0 &     0.622024 \\\\\n",
       "        & 1 &     0.377976 \\\\\n",
       "\\bottomrule\n",
       "\\end{tabular}\n"
      ],
      "text/plain": [
       "mailer_type  signup_flag\n",
       "Mailer1      0              0.672000\n",
       "             1              0.328000\n",
       "Mailer2      0              0.622024\n",
       "             1              0.377976\n",
       "Name: signup_flag, dtype: float64"
      ]
     },
     "execution_count": 4,
     "metadata": {},
     "output_type": "execute_result"
    }
   ],
   "source": [
    "df.groupby(\"mailer_type\")[\"signup_flag\"].value_counts(normalize=True)"
   ]
  },
  {
   "cell_type": "markdown",
   "metadata": {},
   "source": [
    "# Test of Independence\n",
    "### using Chi-Square Test $\\chi^2$"
   ]
  },
  {
   "cell_type": "markdown",
   "metadata": {},
   "source": [
    "### Null Hypothesis\n",
    "\n",
    "$H_0:$ There is **NO** significance relation between the *Mailer Type* and *User Signing Up* "
   ]
  },
  {
   "cell_type": "markdown",
   "metadata": {},
   "source": [
    "### Alternate Hypothesis\n",
    "\n",
    "$H_1:$ There is a significance relation between the *Mailer Type* and *User Signing Up* "
   ]
  },
  {
   "cell_type": "markdown",
   "metadata": {},
   "source": [
    "#### Creating the Contigency Table"
   ]
  },
  {
   "cell_type": "code",
   "execution_count": 5,
   "metadata": {},
   "outputs": [
    {
     "name": "stderr",
     "output_type": "stream",
     "text": [
      "/Users/syed/coding/TLP/Plaksha/venv/lib/python3.10/site-packages/IPython/core/formatters.py:343: FutureWarning:\n",
      "\n",
      "In future versions `DataFrame.to_latex` is expected to utilise the base implementation of `Styler.to_latex` for formatting and rendering. The arguments signature may therefore change. It is recommended instead to use `DataFrame.style.to_latex` which also contains additional functionality.\n",
      "\n"
     ]
    },
    {
     "data": {
      "text/html": [
       "<div>\n",
       "<style scoped>\n",
       "    .dataframe tbody tr th:only-of-type {\n",
       "        vertical-align: middle;\n",
       "    }\n",
       "\n",
       "    .dataframe tbody tr th {\n",
       "        vertical-align: top;\n",
       "    }\n",
       "\n",
       "    .dataframe thead th {\n",
       "        text-align: right;\n",
       "    }\n",
       "</style>\n",
       "<table border=\"1\" class=\"dataframe\">\n",
       "  <thead>\n",
       "    <tr style=\"text-align: right;\">\n",
       "      <th>signup_flag</th>\n",
       "      <th>0</th>\n",
       "      <th>1</th>\n",
       "    </tr>\n",
       "    <tr>\n",
       "      <th>mailer_type</th>\n",
       "      <th></th>\n",
       "      <th></th>\n",
       "    </tr>\n",
       "  </thead>\n",
       "  <tbody>\n",
       "    <tr>\n",
       "      <th>Mailer1</th>\n",
       "      <td>252</td>\n",
       "      <td>123</td>\n",
       "    </tr>\n",
       "    <tr>\n",
       "      <th>Mailer2</th>\n",
       "      <td>209</td>\n",
       "      <td>127</td>\n",
       "    </tr>\n",
       "  </tbody>\n",
       "</table>\n",
       "</div>"
      ],
      "text/latex": [
       "\\begin{tabular}{lrr}\n",
       "\\toprule\n",
       "signup\\_flag &    0 &    1 \\\\\n",
       "mailer\\_type &      &      \\\\\n",
       "\\midrule\n",
       "Mailer1     &  252 &  123 \\\\\n",
       "Mailer2     &  209 &  127 \\\\\n",
       "\\bottomrule\n",
       "\\end{tabular}\n"
      ],
      "text/plain": [
       "signup_flag    0    1\n",
       "mailer_type          \n",
       "Mailer1      252  123\n",
       "Mailer2      209  127"
      ]
     },
     "execution_count": 5,
     "metadata": {},
     "output_type": "execute_result"
    }
   ],
   "source": [
    "contingency_table = pd.crosstab(df[\"mailer_type\"], df[\"signup_flag\"])\n",
    "contingency_table"
   ]
  },
  {
   "cell_type": "code",
   "execution_count": 6,
   "metadata": {},
   "outputs": [],
   "source": [
    "contingency_mailer = contingency_table[1]\n",
    "\n",
    "d1 = df[df.mailer_type == \"Mailer1\"]\n",
    "mailer1_count = d1.shape[0]\n",
    "\n",
    "d2 = df[df.mailer_type == \"Mailer2\"]\n",
    "mailer2_count = d2.shape[0]"
   ]
  },
  {
   "cell_type": "code",
   "execution_count": 7,
   "metadata": {},
   "outputs": [
    {
     "name": "stdout",
     "output_type": "stream",
     "text": [
      "The signup rate for mailer1 is: 0.328\n",
      "The signup rate for mailer2 is: 0.37797619047619047\n"
     ]
    }
   ],
   "source": [
    "print(\"The signup rate for mailer1 is: \" + str(contingency_mailer[0]/mailer1_count))\n",
    "print(\"The signup rate for mailer2 is: \" +str(contingency_mailer[1]/mailer2_count))"
   ]
  },
  {
   "cell_type": "code",
   "execution_count": 8,
   "metadata": {},
   "outputs": [
    {
     "name": "stdout",
     "output_type": "stream",
     "text": [
      "The chisquare stat is:  1.728\n",
      "chi-square critical value is:  3.841\n",
      "The chisquare p-value is:  0.189\n"
     ]
    }
   ],
   "source": [
    "stat,p,dof = chi2_contingency(contingency_table)[0:3]\n",
    "confidence_level = 0.95\n",
    "\n",
    "print(\"The chisquare stat is: \", round(stat, 3))\n",
    "print(\"chi-square critical value is: \", round(chi2.ppf(confidence_level, df=dof), 3))\n",
    "print(\"The chisquare p-value is: \", round(p,3))"
   ]
  },
  {
   "cell_type": "markdown",
   "metadata": {},
   "source": [
    "## Conclusion"
   ]
  },
  {
   "cell_type": "markdown",
   "metadata": {},
   "source": [
    "The p-value is *greater than 0.05* or *chisquare value is less than critical value*, we **CAN NOT REJECT** the null hypothesis.\n",
    "\n",
    "Therefore, there is no significant relationship between the mailer type used(Fancy or Classical) and the Signing up of User."
   ]
  },
  {
   "cell_type": "markdown",
   "metadata": {},
   "source": [
    "### Why are we using chi-square distribution in this case?"
   ]
  },
  {
   "cell_type": "markdown",
   "metadata": {},
   "source": [
    "Here we have,\n",
    "\n",
    "* Atleast one Categorial Variable(The type of Mail) \n",
    "\n",
    "* Mutually Exculsive values of the Categorial Variable\n",
    "\n",
    "* The observations are independent"
   ]
  },
  {
   "cell_type": "markdown",
   "metadata": {},
   "source": [
    "### How it looks with Guassian Distribution"
   ]
  },
  {
   "cell_type": "markdown",
   "metadata": {},
   "source": [
    "We use guassian distribution when we need to compate an observation variable with a number value like that of mean."
   ]
  }
 ],
 "metadata": {
  "kernelspec": {
   "display_name": "Python 3.10.5 ('venv': venv)",
   "language": "python",
   "name": "python3"
  },
  "language_info": {
   "codemirror_mode": {
    "name": "ipython",
    "version": 3
   },
   "file_extension": ".py",
   "mimetype": "text/x-python",
   "name": "python",
   "nbconvert_exporter": "python",
   "pygments_lexer": "ipython3",
   "version": "3.10.5"
  },
  "vscode": {
   "interpreter": {
    "hash": "8d519ce160da629244c5fa84cf02a853bdfbd2d6722f9390c675e535dc1f1a96"
   }
  }
 },
 "nbformat": 4,
 "nbformat_minor": 2
}
