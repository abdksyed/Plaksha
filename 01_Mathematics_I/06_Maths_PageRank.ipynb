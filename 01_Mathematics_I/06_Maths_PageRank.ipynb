{
 "cells": [
  {
   "cell_type": "markdown",
   "metadata": {},
   "source": [
    "# 08 Assignment - Page Rank"
   ]
  },
  {
   "cell_type": "code",
   "execution_count": null,
   "metadata": {},
   "outputs": [],
   "source": [
    "import random\n",
    "import matplotlib.pyplot as plt\n",
    "import numpy as np"
   ]
  },
  {
   "cell_type": "markdown",
   "metadata": {},
   "source": [
    "**Question 1**\n",
    "\n",
    "Consider any $2×2$ matrix $A$ and apply the matrix on a $2×1$ vector $v$. Keep applying this matrix and notice that the direction converges, while the magnitude may get larger. Keep normalizing $v$ and notice the direction to which it converges. Use Numpy"
   ]
  },
  {
   "cell_type": "code",
   "execution_count": null,
   "metadata": {},
   "outputs": [
    {
     "name": "stdout",
     "output_type": "stream",
     "text": [
      "Shape of Matrix: (2, 2)\n",
      "Shape of Vecotr: (2,)\n"
     ]
    }
   ],
   "source": [
    "someMatrix = np.array([\n",
    "    [1,2],\n",
    "    [3,4]\n",
    "])\n",
    "\n",
    "someVector = np.array([2,3])\n",
    "\n",
    "print(f\"Shape of Matrix: {someMatrix.shape}\")\n",
    "print(f\"Shape of Vecotr: {someVector.shape}\")"
   ]
  },
  {
   "cell_type": "code",
   "execution_count": null,
   "metadata": {},
   "outputs": [],
   "source": [
    "def angleBetween(v1, v2):\n",
    "    unit_v1 = v1/np.linalg.norm(v1)\n",
    "    unit_v2 = v2/np.linalg.norm(v2)\n",
    "    # Finding cos inverse of dot product to get angle in radians\n",
    "    # Convertring to degree\n",
    "    return 360*(np.arccos(np.dot(unit_v1, unit_v2))) / (2*np.pi)"
   ]
  },
  {
   "cell_type": "code",
   "execution_count": null,
   "metadata": {},
   "outputs": [],
   "source": [
    "x_axis = np.array([1,0])\n",
    "someVectorAngle = [angleBetween(someVector, x_axis)]\n",
    "\n",
    "for _ in range(999):\n",
    "    someVector = np.matmul(someMatrix, someVector)\n",
    "    someVector = someVector/np.linalg.norm(someVector)\n",
    "    someVectorAngle.append(angleBetween(someVector, x_axis))"
   ]
  },
  {
   "cell_type": "code",
   "execution_count": null,
   "metadata": {},
   "outputs": [
    {
     "data": {
      "text/plain": [
       "(array([-0.37228132,  5.37228132]),\n",
       " array([[-0.82456484, -0.41597356],\n",
       "        [ 0.56576746, -0.90937671]]))"
      ]
     },
     "execution_count": null,
     "metadata": {},
     "output_type": "execute_result"
    }
   ],
   "source": [
    "np.linalg.eig(someMatrix)"
   ]
  },
  {
   "cell_type": "code",
   "execution_count": null,
   "metadata": {},
   "outputs": [],
   "source": [
    "prin_eig = np.linalg.eig(someMatrix)[1][:,1]"
   ]
  },
  {
   "cell_type": "code",
   "execution_count": null,
   "metadata": {},
   "outputs": [
    {
     "data": {
      "text/plain": [
       "(array([-0.41597356, -0.90937671]), array([0.41597356, 0.90937671]))"
      ]
     },
     "execution_count": null,
     "metadata": {},
     "output_type": "execute_result"
    }
   ],
   "source": [
    "prin_eig, someVector"
   ]
  },
  {
   "cell_type": "code",
   "execution_count": null,
   "metadata": {},
   "outputs": [
    {
     "data": {
      "text/plain": [
       "<matplotlib.legend.Legend>"
      ]
     },
     "execution_count": null,
     "metadata": {},
     "output_type": "execute_result"
    },
    {
     "data": {
      "image/png": "[encoded data removed]",
      "text/plain": [
       "<Figure size 640x480 with 1 Axes>"
      ]
     },
     "metadata": {},
     "output_type": "display_data"
    }
   ],
   "source": [
    "x = list(range(1,1001))\n",
    "y = [angleBetween(prin_eig, x_axis)]*1000\n",
    "plt.plot(np.log(x),someVectorAngle, label=\"Convergence\")\n",
    "plt.legend()"
   ]
  },
  {
   "cell_type": "markdown",
   "metadata": {},
   "source": [
    "**Question 3**\n",
    "\n",
    "<img src=\"https://drive.google.com/uc?export=view&id=189hPbwFcWbEFA82Khxu95HYqVi-nP2Wr\"  width=\"70%\" height=\"70%\">"
   ]
  },
  {
   "cell_type": "code",
   "execution_count": null,
   "metadata": {},
   "outputs": [],
   "source": [
    "ProbabilityMatrix = np.array([\n",
    "        [0,0,0,0.5,0.5,1,1,1],\n",
    "        [0.5,0,0,0,0,0,0,0],\n",
    "        [0.5,0,0,0,0,0,0,0],\n",
    "        [0,0.5,0,0,0,0,0,0],\n",
    "        [0,0.5,0,0,0,0,0,0],\n",
    "        [0,0,0.5,0,0,0,0,0],\n",
    "        [0,0,0.5,0,0,0,0,0],\n",
    "        [0,0,0,0.5,0.5,0,0,0]\n",
    "    ])\n"
   ]
  },
  {
   "cell_type": "code",
   "execution_count": null,
   "metadata": {},
   "outputs": [
    {
     "data": {
      "text/plain": [
       "array([0.74278135+0.j, 0.37139068+0.j, 0.37139068+0.j, 0.18569534+0.j,\n",
       "       0.18569534+0.j, 0.18569534+0.j, 0.18569534+0.j, 0.18569534+0.j])"
      ]
     },
     "execution_count": null,
     "metadata": {},
     "output_type": "execute_result"
    }
   ],
   "source": [
    "np.linalg.eig(ProbabilityMatrix)[1][:,0]/np.linalg.norm(np.linalg.eig(ProbabilityMatrix)[1][:,0])"
   ]
  },
  {
   "cell_type": "code",
   "execution_count": null,
   "metadata": {},
   "outputs": [
    {
     "data": {
      "text/plain": [
       "array([0.7428, 0.3714, 0.3714, 0.1857, 0.1857, 0.1857, 0.1857, 0.1857])"
      ]
     },
     "execution_count": null,
     "metadata": {},
     "output_type": "execute_result"
    }
   ],
   "source": [
    "np.linalg.matrix_power(ProbabilityMatrix, 1000)[:,0]*2.4141"
   ]
  },
  {
   "cell_type": "markdown",
   "metadata": {},
   "source": [
    "**Question 4**\n",
    "\n",
    "Write down the edge list of the above graph and use networkx to run a random walk on it. What is the distribution of visits?"
   ]
  },
  {
   "cell_type": "code",
   "execution_count": null,
   "metadata": {},
   "outputs": [],
   "source": [
    "graph = {\n",
    "    'a': ['b', 'c'],\n",
    "    'b': ['d', 'e'],\n",
    "    'c': ['f', 'g'],\n",
    "    'd': ['a', 'h'],\n",
    "    'e': ['a', 'h'],\n",
    "    'f': ['a'],\n",
    "    'g': ['a'],\n",
    "    'h': ['a']\n",
    "}"
   ]
  },
  {
   "cell_type": "code",
   "execution_count": null,
   "metadata": {},
   "outputs": [],
   "source": [
    "pointer = random.choice(list(graph.keys()))\n",
    "visits = {k:0 for k,v in graph.items()}\n",
    "for _ in range(8000):\n",
    "    pointer = random.choice(graph[pointer])\n",
    "    visits[pointer] += 1"
   ]
  },
  {
   "cell_type": "code",
   "execution_count": null,
   "metadata": {},
   "outputs": [],
   "source": [
    "pointer = random.choice(list(graph.keys()))\n",
    "visits = {k:0 for k,v in graph.items()}\n",
    "for _ in range(10000):\n",
    "    for _ in range(1000):\n",
    "        pointer = random.choice(graph[pointer])\n",
    "    visits[pointer] += 1"
   ]
  },
  {
   "cell_type": "code",
   "execution_count": null,
   "metadata": {},
   "outputs": [
    {
     "data": {
      "text/plain": [
       "[<matplotlib.lines.Line2D>]"
      ]
     },
     "execution_count": null,
     "metadata": {},
     "output_type": "execute_result"
    },
    {
     "data": {
      "image/png": "[encoded data removed]",
      "text/plain": [
       "<Figure size 640x480 with 1 Axes>"
      ]
     },
     "metadata": {},
     "output_type": "display_data"
    }
   ],
   "source": [
    "nodes = list(visits.keys())\n",
    "values = list(visits.values())\n",
    "plt.bar(nodes, values)\n",
    "plt.plot(nodes,values, color='red')"
   ]
  },
  {
   "cell_type": "markdown",
   "metadata": {},
   "source": [
    "**Question 5**\n",
    "\n",
    "Are the following two questions equivalent?:\n",
    "\n",
    "* If I were to give pocket money to two of my daughters: 500 rupees each.\n",
    "\n",
    "* I toss a coin and give my elder daughter 1000 rupees if its heads or the younger daughter 1000 rupees if its tails.\n",
    "\n",
    "* Are these two statements equivalent? In the sense that, by the end of the year, do you think both my daughters would have received, more or less, the same amount of money?"
   ]
  },
  {
   "cell_type": "code",
   "execution_count": null,
   "metadata": {},
   "outputs": [],
   "source": [
    "# Case 1 - Always Rs.500\n",
    "\n",
    "younger_daughter_equal = 0\n",
    "elder_daughter_equal = 0\n",
    "\n",
    "yd_eq_list = []\n",
    "ed_eq_list = []\n",
    "\n",
    "for _ in range(365):\n",
    "    younger_daughter_equal += 500\n",
    "    yd_eq_list.append(younger_daughter_equal)\n",
    "    elder_daughter_equal += 500\n",
    "    ed_eq_list.append(elder_daughter_equal)"
   ]
  },
  {
   "cell_type": "code",
   "execution_count": null,
   "metadata": {},
   "outputs": [],
   "source": [
    "# Case 2 - Giving Rs.1000 based on Toss Coin.\n",
    "\n",
    "younger_daughter_coin = 0\n",
    "elder_daughter_coin = 0\n",
    "\n",
    "yd_coin_list = []\n",
    "ed_coin_list = []\n",
    "\n",
    "for _ in range(365):\n",
    "    if random.choice([0,1]):\n",
    "        younger_daughter_coin += 1000\n",
    "        yd_coin_list.append(younger_daughter_coin)\n",
    "        ed_coin_list.append(elder_daughter_coin)\n",
    "    else:\n",
    "        elder_daughter_coin += 1000\n",
    "        ed_coin_list.append(elder_daughter_coin)\n",
    "        yd_coin_list.append(younger_daughter_coin)"
   ]
  },
  {
   "cell_type": "code",
   "execution_count": null,
   "metadata": {},
   "outputs": [
    {
     "data": {
      "text/plain": [
       "<matplotlib.legend.Legend>"
      ]
     },
     "execution_count": null,
     "metadata": {},
     "output_type": "execute_result"
    },
    {
     "data": {
      "image/png": "[encoded data removed]",
      "text/plain": [
       "<Figure size 640x480 with 1 Axes>"
      ]
     },
     "metadata": {},
     "output_type": "display_data"
    }
   ],
   "source": [
    "plt.plot(list(range(365)), yd_eq_list, label=\"Equal Distribution\")\n",
    "plt.plot(list(range(365)), yd_coin_list, label=\"Coin Toss Distribution\")\n",
    "plt.legend()"
   ]
  },
  {
   "cell_type": "markdown",
   "metadata": {},
   "source": [
    "**Question 6**\n",
    "Consider the adjacency matrix of the above graph, tweak it and observe that the principal eigen vector is same as the answer to the previous question. (Principal Eigen Vector is defined as the eigen vector corresponding to the highest eigen value)\n",
    "--- INCORRECT QUESTION ---\n",
    "\n",
    "**New Question 6**\n",
    "Solve for Two Simultaneous Equations"
   ]
  },
  {
   "cell_type": "code",
   "execution_count": null,
   "metadata": {},
   "outputs": [],
   "source": [
    "def findIntersection(slope1, intercept1, slope2, intercept2):\n",
    "    if slope1 == slope2:\n",
    "        return -1\n",
    "    x = (intercept1-intercept2)/(slope2-slope1)\n",
    "    return (x, slope1*x+intercept1)"
   ]
  },
  {
   "cell_type": "code",
   "execution_count": null,
   "metadata": {},
   "outputs": [
    {
     "data": {
      "text/plain": [
       "(0.0, 0.0)"
      ]
     },
     "execution_count": null,
     "metadata": {},
     "output_type": "execute_result"
    }
   ],
   "source": [
    "findIntersection(0,0,1,0)"
   ]
  },
  {
   "cell_type": "markdown",
   "metadata": {},
   "source": [
    "**Question 7**\n",
    "\n",
    "Can you consider a network of vertices, in the order of thousands and figure out the answer? You will observe that the best method to use is the random walk (with teleportation). why?"
   ]
  },
  {
   "cell_type": "markdown",
   "metadata": {},
   "source": [
    "If the number of vertices are very high like thousands, the method to calculate eigen vectors requires matrix multiplications which is $O(n^2)$, where as a random walk is a linear operation."
   ]
  }
 ],
 "metadata": {
  "kernelspec": {
   "display_name": "Python 3.10.5 ('venv': venv)",
   "language": "python",
   "name": "python3"
  },
  "language_info": {
   "name": "python",
   "version": "3.10.5"
  },
  "vscode": {
   "interpreter": {
    "hash": "ebc38b623ef32a07c0c3705cbfbfef9961b3b8ffa45410c134cd0a6baefbc95c"
   }
  }
 },
 "nbformat": 4,
 "nbformat_minor": 2
}
