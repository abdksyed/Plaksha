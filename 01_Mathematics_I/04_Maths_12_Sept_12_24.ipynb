{
 "cells": [
  {
   "cell_type": "markdown",
   "metadata": {},
   "source": [
    "# 06 Maths Assignment 12th September - 12th to 24th Question"
   ]
  },
  {
   "cell_type": "markdown",
   "metadata": {},
   "source": [
    "**Question 12**\n",
    "\n",
    "Consider a straight line $y=2x+1$ in $ℝ^2$, does it form a subspace of $ℝ^2$?"
   ]
  },
  {
   "cell_type": "markdown",
   "metadata": {},
   "source": [
    "No, the straight line doesn't pass through the origin, which mean any point on the line, when multiplied with $0$, gives $(0,0)$ which doesn't lie on the line, not making it a *subspace* of $ℝ^2$\n",
    "\n",
    "<img src=\"./images/line.png\"  width=\"30%\" height=\"30%\">"
   ]
  },
  {
   "cell_type": "markdown",
   "metadata": {},
   "source": [
    "**Question 13**\n",
    "\n",
    "Consider a unit circle in $ℝ^2$, centered at origin, is it a subspace of $ℝ^2$?"
   ]
  },
  {
   "cell_type": "markdown",
   "metadata": {},
   "source": [
    "No, a unit circle in $ℝ^2$ which is centered at origin, is not a subspace in $ℝ^2$. Since, two points in the circle, $(0,1)$ and $(1,0)$ when added together, goes beyond the circle.\n",
    "\n",
    "<img src=\"./images/circle.png\"  width=\"30%\" height=\"30%\">"
   ]
  },
  {
   "cell_type": "markdown",
   "metadata": {},
   "source": [
    "**Question 14**\n",
    "\n",
    "What are all the subspaces of $ℝ^2$?"
   ]
  },
  {
   "cell_type": "markdown",
   "metadata": {},
   "source": [
    "All the subspaces of the vector space $ℝ^2$ are:\n",
    "\n",
    "* Origin - $(0,0)$\n",
    "* Any Line passing through origin. $\\alpha x = 0$ where $x\\in ℝ^2$ and $\\alpha \\in ℝ$"
   ]
  },
  {
   "cell_type": "markdown",
   "metadata": {},
   "source": [
    "**Question 15**\n",
    "\n",
    "What are all the subspaces of ℝ3?"
   ]
  },
  {
   "cell_type": "markdown",
   "metadata": {},
   "source": [
    "All the subspaces of the vector space $ℝ^2$ are:\n",
    "\n",
    "* Origin - $(0,0)$\n",
    "* Any Line passing through the origin. $\\alpha x$ where $x \\in ℝ^3$ and $\\alpha \\in ℝ$\n",
    "* Any Plane passing through the origin. $\\alpha x + \\beta y$ where $x,y \\in ℝ^3$ and $\\alpha, \\beta \\in ℝ$ "
   ]
  },
  {
   "cell_type": "markdown",
   "metadata": {},
   "source": [
    "**Question 16**\n",
    "\n",
    "Given $ℝ^3$, pick any two points $u,v∈ℝ^3$. Note that ${αu+βv | α,β∈ℝ}$ is a subspace of $ℝ^3$. Generalize this idea!"
   ]
  },
  {
   "cell_type": "markdown",
   "metadata": {},
   "source": [
    "All the possible linear combinations of two points in $ℝ^3$ is the linear span which is the subspace of $ℝ^3$.\n",
    "\n",
    "Generalizing it, for $ℝ^n$, we have to prove the linear combinations of $(n-1)$ points in this $ℝ^n$ is the subspace of $ℝ^n$\n",
    "\n",
    "$S = \\{u_1, u_2, u_3, ...., u_{n-1}\\}$\n",
    "\n",
    "$L(S) =$ is all the possible linear combinations of S, which is known as Linear Span of S\n",
    "\n",
    "Now, we have to prove that $L(S)$ is a subspace of $ℝ^n$.\n",
    "\n",
    "$$\n",
    "x = \\alpha_1 u_1 + \\alpha_2 u_2 + \\alpha_3 u_3 + ... + \\alpha_{n-1} u_{n-1}\n",
    "$$\n",
    "\n",
    "$$\n",
    "y = \\beta_1 u_1 + \\beta_2 u_2 + \\beta_3 u_3 + ... + \\beta_{n-1} u_{n-1}\n",
    "$$\n",
    "\n",
    "$$\n",
    "x,y \\in L(S)\n",
    "$$\n",
    "\n",
    "Now, to prove that $L(S)$ is a subspace of $ℝ^n$, we have to prove two following conditions:\n",
    "\n",
    "$$\n",
    "x+y = z \\in L(S)\n",
    "$$\n",
    "\n",
    "$$\n",
    "\\lambda x \\in L(S)\n",
    "$$\n",
    "\n",
    "Proof:\n",
    "\n",
    "$$\n",
    "x + y = (\\alpha_1 u_1 + \\beta_1 u_1) + (\\alpha_2 u_2 + \\beta_2 u_2) + ... + (\\alpha_{n-1} u_{n-1} + \\beta_{n-1} u_{n-1})\n",
    "$$\n",
    "\n",
    "$$\n",
    "x + y = (\\alpha_1 + \\beta_1)u_1 + (\\alpha_1 + \\beta_1)u_2 + ... + (\\alpha_{n-1} + \\beta_{n-1})u_{n-1}\n",
    "$$\n",
    "Since, $L(S)$ contains all possible combinations, the above $x+y \\in L(S)$\n",
    "\n",
    "$$\n",
    "\\lambda x = \\lambda \\alpha_1 u_1 + \\lambda \\alpha_2 u_2 + ... + \\lambda \\alpha_{n-1} u_{n-1}\n",
    "$$\n",
    "Again, since $L(S)$ contains all possible combinations, the above $\\lambda x \\in L(S)$"
   ]
  },
  {
   "cell_type": "markdown",
   "metadata": {},
   "source": [
    "**Question 17**\n",
    "\n",
    "The set ${αu+βv|α,β∈ℝ}$ is called the linear combination of vectors $u$ and $v$. We can generalize this to $k$ vectors. Observe what this set is all about?"
   ]
  },
  {
   "cell_type": "markdown",
   "metadata": {},
   "source": [
    "The entire set when generalized to $k$ vectors, is the *linear span* of $k$ vectors, which is the subspace."
   ]
  },
  {
   "cell_type": "markdown",
   "metadata": {},
   "source": [
    "**Question 18**\n",
    "\n",
    "We say that a vector $w$ is manufactured by $u$ and $v$ if $w∈{αu+βv|α,β∈ℝ}$."
   ]
  },
  {
   "cell_type": "markdown",
   "metadata": {},
   "source": [
    "Yes, when we do $w∈{αu+βv|α,β∈ℝ}$, we get all possible vectors in $ℝ^2$, so we can manufacture any $w$ by the linear combinations of $u$ and $v$"
   ]
  },
  {
   "cell_type": "markdown",
   "metadata": {},
   "source": [
    "**Question 19**"
   ]
  },
  {
   "cell_type": "markdown",
   "metadata": {},
   "source": [
    "Show that $(1,2,3)$ and $(4,5,6)$ can manufacture $(7,8,9)$. Also $(4,5,6)$ and $(7,8,9)$ can manufacture $(1,2,3)$. Finally $(4,5,6)$ can be manufactured by the other two vectors."
   ]
  },
  {
   "cell_type": "markdown",
   "metadata": {},
   "source": [
    "For 1st case $\\alpha = -1$ and $\\beta = 2$\n",
    "\n",
    "For 2nd case $\\alpha = 2$ and $\\beta = -1$\n",
    "\n",
    "For 3rd case $\\alpha = 1/2$ and $\\beta = 1/2$"
   ]
  },
  {
   "cell_type": "markdown",
   "metadata": {},
   "source": [
    "**Question 20**\n",
    "\n",
    "Can $(2,1,0)$ and $(3,0,8)$ manufacture $(1,1,1)$ ?"
   ]
  },
  {
   "cell_type": "markdown",
   "metadata": {},
   "source": [
    "No, since we have inconsistent system, where\n",
    "$$\n",
    "2x + 3y = 1\n",
    "$$\n",
    "\n",
    "$$\n",
    "x = 1\n",
    "$$\n",
    "\n",
    "$$\n",
    "8y = 1\n",
    "$$\n",
    "\n",
    "All the three equations doesn't satisfy simultaneously."
   ]
  },
  {
   "cell_type": "markdown",
   "metadata": {},
   "source": [
    "**Question 21**\n",
    "\n",
    "Can $(0,0,1)$ and $(0,1,0)$ manufacture $(1,0,0)$?"
   ]
  },
  {
   "cell_type": "markdown",
   "metadata": {},
   "source": [
    "No, since $(0,0,1)$ and $(0,1,0)$ is the $yz$ plane, we can never get $(1,0,0)$"
   ]
  },
  {
   "cell_type": "markdown",
   "metadata": {},
   "source": [
    "**Question 22**\n",
    "\n",
    "When can two vectors in $ℝ^3$ manufacture a given third vector?"
   ]
  },
  {
   "cell_type": "markdown",
   "metadata": {},
   "source": [
    "If we have the third vector in the span of the first two vector, it can be manufactured."
   ]
  },
  {
   "cell_type": "markdown",
   "metadata": {},
   "source": [
    "**Question 23**\n",
    "\n",
    "When can two vectors in $ℝ^3$ fail to manufacture a given third vector?"
   ]
  },
  {
   "cell_type": "markdown",
   "metadata": {},
   "source": [
    "If the third vector doesn't lie in the span of the first two vectors, it can't be manufactured"
   ]
  },
  {
   "cell_type": "markdown",
   "metadata": {},
   "source": [
    "**Question 24**\n",
    "\n",
    "If $\\{u,v,w\\}$ are such that a vector in this set can be manufactured by some vectors in the same set, then such a set is called a linearly dependent set."
   ]
  },
  {
   "cell_type": "markdown",
   "metadata": {},
   "source": [
    "Yes, since one vector is the combination of the other vectors, and add NO extra value, which means it is *dependent* on other vectors, hence the set is *linearly dependent set*"
   ]
  }
 ],
 "metadata": {
  "kernelspec": {
   "display_name": "Python 3.10.5 ('venv': venv)",
   "language": "python",
   "name": "python3"
  }
 },
 "nbformat": 4,
 "nbformat_minor": 2
}
