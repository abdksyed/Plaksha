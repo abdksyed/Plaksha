{
 "cells": [
  {
   "cell_type": "markdown",
   "metadata": {},
   "source": [
    "# 07 Maths Assignment 13th Sept"
   ]
  },
  {
   "cell_type": "markdown",
   "metadata": {},
   "source": [
    "<img src=\"https://drive.google.com/uc?export=view&id=1qC2Egngjkqjpf7YaBEo72oBfd-A3io4P\"  width=\"75%\" height=\"75%\">\n",
    "\n"
   ]
  },
  {
   "cell_type": "markdown",
   "metadata": {},
   "source": [
    "\\begin{equation}\n",
    "Markov = \n",
    "\\begin{bmatrix}\n",
    "0.5 & 0.1 & 0.2\\\\\n",
    "0.3 & 0.6 & 0.4\\\\\n",
    "0.2 & 0.3 & 0.4\n",
    "\\end{bmatrix}\n",
    "\\end{equation}"
   ]
  },
  {
   "cell_type": "markdown",
   "metadata": {},
   "source": [
    "We know that the Highest Eigen Value $\\lambda$ is 1, which converges the Markov matrix towards the highest eigen value corresponding vector $V_{1}$\n",
    "So our final probability, which the Markov matrix converges to after many simulations is $[v_1, v_2, v_3]$\n",
    "\n",
    "$$\n",
    "\\begin{equation}\n",
    "\\begin{bmatrix}\n",
    "0.5 & 0.1 & 0.2\\\\\n",
    "0.3 & 0.6 & 0.4\\\\\n",
    "0.2 & 0.3 & 0.4\n",
    "\\end{bmatrix}\n",
    "\n",
    "\\begin{bmatrix}\n",
    "v_1 \\\\\n",
    "v_2 \\\\\n",
    "v_3\n",
    "\\end{bmatrix}\n",
    "\n",
    "=\n",
    "\n",
    "\\begin{bmatrix}\n",
    "v_1 \\\\\n",
    "v_2 \\\\\n",
    "v_3\n",
    "\\end{bmatrix}\n",
    "\\end{equation}\n",
    "$$"
   ]
  },
  {
   "cell_type": "markdown",
   "metadata": {},
   "source": [
    "Now we have\n",
    "$$\n",
    "\\begin{equation}\n",
    "    0.5v_1 + 0.1v_2 + 0.2v_3 = v_1 \\tag{1}\n",
    "\\end{equation}\n",
    "$$\n",
    "\n",
    "$$\n",
    "\\begin{equation} \n",
    "    0.3v_1 + 0.6v_2 + 0.4v_3 = v_2 \\tag{2}\n",
    "\\end{equation}\n",
    "$$\n",
    "\n",
    "$$\n",
    "\\begin{equation}\n",
    "0.2v_1 + 0.3v_2 + 0.4v_3 = v_3 \\tag{3}\n",
    "\\end{equation}\n",
    "$$"
   ]
  },
  {
   "cell_type": "markdown",
   "metadata": {},
   "source": [
    "Also, we know the values of the principal eigen vector, are probabilities of the states, so the sum of these values must be 1.\n",
    "\n"
   ]
  },
  {
   "cell_type": "markdown",
   "metadata": {},
   "source": [
    "$$\n",
    "\\begin{equation}\n",
    "    v_1 + v_2 + v_3 = 1 \\tag{4}\n",
    "\\end{equation}\n",
    "$$"
   ]
  },
  {
   "cell_type": "markdown",
   "metadata": {},
   "source": [
    "Solving $(1)$, $(2)$ and $(4)$ we get\n",
    "\n",
    "$$\n",
    "v_1 = 0.2181\n",
    "$$\n",
    "$$\n",
    "v_2 = 0.4727\n",
    "$$\n",
    "$$\n",
    "v_3 = 0.3090\n",
    "$$"
   ]
  },
  {
   "cell_type": "markdown",
   "metadata": {},
   "source": [
    "Now, we start with 100 people at Hostel, 100 people at Plaksha and 100 people at Sector-17"
   ]
  },
  {
   "cell_type": "code",
   "execution_count": null,
   "metadata": {},
   "outputs": [
    {
     "data": {
      "text/plain": [
       "(65.42999999999999, 141.81, 92.7)"
      ]
     },
     "execution_count": null,
     "metadata": {},
     "output_type": "execute_result"
    }
   ],
   "source": [
    ".2181*300, 0.4727*300, 0.3090*300"
   ]
  },
  {
   "cell_type": "markdown",
   "metadata": {},
   "source": [
    "After the convergence, the state the system is in:\n",
    "\n",
    "People at Hostel: $0.2181*300 = 65.5$\n",
    "\n",
    "People at Plaksha: $0.4727*300 = 141.8$\n",
    "\n",
    "People at Sector-17: $0.3090*300 = 92.7$\n"
   ]
  }
 ],
 "metadata": {
  "kernelspec": {
   "display_name": "Python 3.10.5 ('venv': venv)",
   "language": "python",
   "name": "python3"
  },
  "language_info": {
   "name": "python",
   "version": "3.10.5"
  },
  "vscode": {
   "interpreter": {
    "hash": "ebc38b623ef32a07c0c3705cbfbfef9961b3b8ffa45410c134cd0a6baefbc95c"
   }
  }
 },
 "nbformat": 4,
 "nbformat_minor": 2
}
