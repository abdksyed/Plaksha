{
 "cells": [
  {
   "cell_type": "markdown",
   "metadata": {},
   "source": [
    "# 03 Maths Assignment 09th September"
   ]
  },
  {
   "cell_type": "code",
   "execution_count": null,
   "metadata": {},
   "outputs": [],
   "source": [
    "import math\n",
    "import random\n",
    "import numpy as np\n",
    "import matplotlib.pyplot as plt"
   ]
  },
  {
   "cell_type": "code",
   "execution_count": null,
   "metadata": {},
   "outputs": [],
   "source": [
    "def findMinima(equation: callable, step_size: float, step_reduce: float, iterations: int):\n",
    "    oldX = random.random()\n",
    "    print(f\"Starting with Random Numebr of {oldX}\")\n",
    "    oldY = equation(oldX)\n",
    "\n",
    "    oldestX = oldX\n",
    "    oldestY = oldY\n",
    "\n",
    "    valuesY = [oldY]\n",
    "\n",
    "    i = 1\n",
    "    while True:\n",
    "        newX = oldX + step_size\n",
    "        newY = equation(newX)\n",
    "        if newY > oldY:\n",
    "            oldY = oldestY\n",
    "            step_size /= step_reduce\n",
    "            oldX = oldestX\n",
    "        else:\n",
    "            valuesY.append(newY)\n",
    "            oldY, oldestY = newY, oldY\n",
    "            oldX, oldestX = newX, oldX\n",
    "\n",
    "        i += 1\n",
    "        if i == iterations:\n",
    "            break\n",
    "    \n",
    "    return valuesY, newX"
   ]
  },
  {
   "cell_type": "code",
   "execution_count": null,
   "metadata": {},
   "outputs": [
    {
     "name": "stdout",
     "output_type": "stream",
     "text": [
      "Starting with Random Numebr of 0.3019662499232486\n"
     ]
    },
    {
     "data": {
      "text/plain": [
       "[<matplotlib.lines.Line2D>]"
      ]
     },
     "execution_count": null,
     "metadata": {},
     "output_type": "execute_result"
    },
    {
     "data": {
      "image/png": "[encoded data removed]",
      "text/plain": [
       "<Figure size 640x480 with 1 Axes>"
      ]
     },
     "metadata": {},
     "output_type": "display_data"
    }
   ],
   "source": [
    "iterations = 100\n",
    "distanceValues, finalX = findMinima(lambda x : math.sqrt(50*(x**2) - 142*x + 101), 0.1, 10, iterations)\n",
    "xAxis = np.log(list(range(1,iterations+1)))\n",
    "plt.plot(distanceValues)"
   ]
  },
  {
   "cell_type": "code",
   "execution_count": null,
   "metadata": {},
   "outputs": [
    {
     "name": "stdout",
     "output_type": "stream",
     "text": [
      "Final value of X is: 1.420000001024248 and Loss Value is 0.42426406871190303\n"
     ]
    }
   ],
   "source": [
    "print(f\"Final value of X is: {finalX} and Loss Value is {distanceValues[-1]}\")"
   ]
  },
  {
   "cell_type": "markdown",
   "metadata": {},
   "source": [
    "## Second Problem"
   ]
  },
  {
   "cell_type": "code",
   "execution_count": null,
   "metadata": {},
   "outputs": [],
   "source": [
    "import random\n",
    "numHeads = []\n",
    "for ball in range(1000):\n",
    "    sum = 0\n",
    "    for nail in range(50):\n",
    "        sum += random.randint(0,1)\n",
    "    numHeads.append(sum)"
   ]
  }
 ],
 "metadata": {
  "kernelspec": {
   "display_name": "Python 3.10.5 ('venv': venv)",
   "language": "python",
   "name": "python3"
  },
  "language_info": {
   "name": "python",
   "version": "3.10.5"
  },
  "vscode": {
   "interpreter": {
    "hash": "ebc38b623ef32a07c0c3705cbfbfef9961b3b8ffa45410c134cd0a6baefbc95c"
   }
  }
 },
 "nbformat": 4,
 "nbformat_minor": 2
}
