{
 "cells": [
  {
   "cell_type": "markdown",
   "metadata": {},
   "source": [
    "# 05 Maths Assignment 12th September"
   ]
  },
  {
   "cell_type": "markdown",
   "metadata": {},
   "source": [
    "**Question1**\n",
    "\n",
    "Consider the matrix \n",
    "\\begin{bmatrix}\n",
    "1 & 2\\\\\n",
    "3 & 4\n",
    "\\end{bmatrix}\n",
    "* What does it remind you of?\n",
    "* What does it denote?\n",
    "* Where and why do we use a matrix?\n",
    "* Can you enlist a few applications of matrices?\n"
   ]
  },
  {
   "cell_type": "markdown",
   "metadata": {},
   "source": [
    "The above matrix reminds of the system of equations with two equations and two unknowns.\n",
    "\n",
    "It denotes two vectors in the 2D-space ($ℝ^2$) which can also be interpreted as two equations.\n",
    "\n",
    "We use a matrix as a function, and also to solve for unknows given equations.\n",
    "\n",
    "Matrices are functions which transforms vectors from one space to another space.  \n",
    "Matrices are used to solve equations as they are represented in a simple manner.  \n",
    "Matrices helps in storing data like images where elements are values of pixel intensity.  "
   ]
  },
  {
   "cell_type": "markdown",
   "metadata": {},
   "source": [
    "**Question 2**\n",
    "\n",
    "Define a function. What is a surjective, injective and bijective function?"
   ]
  },
  {
   "cell_type": "markdown",
   "metadata": {},
   "source": [
    "A function is a mapping from one space to another space, where each element in the left space(*Domain*) can have one and only mapping to the element in the right space(*Co-domain*).  \n",
    "Function takes an input from Domain and maps it to an element in co-domain.\n",
    "\n",
    "There can be two or more elements in Domain mapping to same element in co-domain, but there can never be an element in Domain mapping multiple elements in co-domain.\n",
    "\n",
    "A Valid Function\n",
    "\n",
    "<img src=\"https://upload.wikimedia.org/wikipedia/commons/thumb/8/83/Injection_keine_Injektion_2a.svg/440px-Injection_keine_Injektion_2a.svg.png\"  width=\"20%\" height=\"20%\">\n",
    "\n",
    "An Invalid Function\n",
    "\n",
    "<img src=\"https://upload.wikimedia.org/wikipedia/commons/thumb/b/bd/Injection_keine_Injektion_1.svg/440px-Injection_keine_Injektion_1.svg.png\"  width=\"20%\" height=\"20%\">\n",
    "\n",
    "Image Credits: https://en.wikipedia.org/wiki/Function_%28mathematics%29"
   ]
  },
  {
   "cell_type": "markdown",
   "metadata": {},
   "source": [
    "**Surjective Function**\n",
    "\n",
    "The onto function, is where every element in *co-domain* has atleast one pre-image in the *domain*. \n",
    "\n",
    "<img src=\"https://upload.wikimedia.org/wikipedia/commons/thumb/6/6c/Surjection.svg/360px-Surjection.svg.png\"  width=\"20%\" height=\"20%\">\n",
    "\n",
    "Image Credits: https://en.wikipedia.org/wiki/Surjective_function"
   ]
  },
  {
   "cell_type": "markdown",
   "metadata": {},
   "source": [
    "**Injective Function**\n",
    "\n",
    "The one-one function, is where there is only one unique mapping to the element in the co-domain, there can be elements in co-domain which are not mapped, but function must map the elements of the domain to unique element in co-domain.\n",
    "\n",
    "<img src=\"https://upload.wikimedia.org/wikipedia/commons/thumb/0/02/Injection.svg/360px-Injection.svg.png\"  width=\"20%\" height=\"20%\">\n",
    "\n",
    "Image Credits: https://en.wikipedia.org/wiki/Injective_function"
   ]
  },
  {
   "cell_type": "markdown",
   "metadata": {},
   "source": [
    "**Bijective Function**\n",
    "\n",
    "It is the combination of both the **surjection** and **injection** function, where every element in X is mapped to a unique(exactly one) element in Y, and there are no unpaired elements.\n",
    "\n",
    "<img src=\"https://upload.wikimedia.org/wikipedia/commons/thumb/a/a5/Bijection.svg/360px-Bijection.svg.png\"  width=\"20%\" height=\"20%\">\n",
    "\n",
    "Image Credits: https://en.wikipedia.org/wiki/Bijection"
   ]
  },
  {
   "cell_type": "markdown",
   "metadata": {},
   "source": [
    "**Question 3**\n",
    "\n",
    "Given an example of a function $f:ℝ^2 → ℝ^2$"
   ]
  },
  {
   "cell_type": "markdown",
   "metadata": {},
   "source": [
    "A function which maps from $ℝ^2$ to $ℝ^2$ will be $(x,y)$ to $(y,x)$, where the function is mirror reflection along the $x=y$ line"
   ]
  },
  {
   "cell_type": "markdown",
   "metadata": {},
   "source": [
    "**Question 4**\n",
    "\n",
    "Given an example of a very nice function $f:ℝ^2 → ℝ^2$\n",
    "* Make extra efforts to make this function really nice.\n",
    "* Explain what is so nice about your function?\n",
    "* Why should one study such functions?"
   ]
  },
  {
   "cell_type": "markdown",
   "metadata": {},
   "source": [
    "A really nice function is the *softmax* function. The excellent property of this function is it can convert any point in $ℝ^2$ to a probability distribution, which is a vector of probabilities and they are relative to the scale of value in the original vector.\n",
    "\n",
    "$softmax = \\frac{e^{z_i}}{\\displaystyle\\sum_{j=1}^{k} e^{z_j}}$\n",
    "\n",
    "For each value in vector, it exponentiates the value, and divide it by the sum of all values being exponentiated, which gives the sum of all values after applying softmax to 1.\n",
    "\n",
    "The important reason to study such functions, is to make use of it for various applications like classification, where a binary classification problem which gives some arbitrary values can be converted to a nice probability looking value."
   ]
  },
  {
   "cell_type": "markdown",
   "metadata": {},
   "source": [
    "**Question 7**\n",
    "\n",
    "Consider $ℝ^2$. What are all the properties of this set? $ℝ^2$ is called a space of all vectors, a.k.a a vector space. Lookup for the definition of a vector space."
   ]
  },
  {
   "cell_type": "markdown",
   "metadata": {},
   "source": [
    "This set contains all the elements of the form $(x,y)$ where $x,y \\in ℝ$. Any vector from this space, when added with another vector from the same space gives a resultant vector, which will also be part of the same space($ℝ^2$). Hence it is called the space of all vectors of size 2.\n",
    "\n",
    "A vector space can be defined if a set of vectors $V$ and two operations $*, +$ which can be defined in any way, and for our purposes we consider the operatins as general addition and multiplication, must follow the following rules.\n",
    "\n",
    "1. There must be an element 0, where $x+0=x, x \\in R^2$\n",
    "2. The vector $\\alpha x$ must belong to $ℝ^2$\n",
    "3. Two vectors $x,y \\in ℝ^2$ when added $x + y$ must belong to $ℝ^2$"
   ]
  },
  {
   "cell_type": "markdown",
   "metadata": {},
   "source": [
    "**Question 8**\n",
    "\n",
    "A subset of a vector space which in itself is a vector space is caled a subspace. Given an example of a subspace of $ℝ^2$."
   ]
  },
  {
   "cell_type": "markdown",
   "metadata": {},
   "source": [
    "The subspaces of $ℝ^2$ are the zero vector $(0,0)$. Any line $\\alpha(x,y)$ and the entire $ℝ^2$ itself."
   ]
  },
  {
   "cell_type": "markdown",
   "metadata": {},
   "source": [
    "**Question 9**\n",
    "\n",
    "Given a vector $(1,7)$ what does the set ${α(1,7)|α∈ℝ}$ represent? Is it a subspace of $ℝ^2$?"
   ]
  },
  {
   "cell_type": "markdown",
   "metadata": {},
   "source": [
    "The set of all vectors $\\alpha(1,7)$ represent a line in $ℝ^2$, which is a subspace of $ℝ^2$"
   ]
  },
  {
   "cell_type": "markdown",
   "metadata": {},
   "source": [
    "**Question 10**\n",
    "\n",
    "\n",
    "Is $ℝ^3$ a vector space?"
   ]
  },
  {
   "cell_type": "markdown",
   "metadata": {},
   "source": [
    "Yes, $ℝ^3$ is a *subspace* as it follows all the 10 axioms of the vector space."
   ]
  },
  {
   "cell_type": "markdown",
   "metadata": {},
   "source": [
    "**Question 11**\n",
    "\n",
    "Conside the two points $(1,2,3)$ and $(4,5,7)∈ℝ^3$. What does the following set denote: ${α(1,2,3)+β(4,5,7)|α,β∈ℝ}$. Is this a subspace?"
   ]
  },
  {
   "cell_type": "markdown",
   "metadata": {},
   "source": [
    "The following set ${α(1,2,3)+β(4,5,7)|α,β∈ℝ}$ denotes the plane in $ℝ^3$. Since both the vectors $(1,2,3)$ and $(4,5,7)$ are indepent of each other.\n",
    "\n",
    "Yes, the above plane is a subspace of $ℝ^3$"
   ]
  },
  {
   "cell_type": "markdown",
   "metadata": {},
   "source": [
    "**Question 53**\n",
    "\n",
    "Solve the following :\n",
    "$$\n",
    "x−2y=15\n",
    "$$\n",
    "$$\n",
    "x+4y=19\n",
    "$$\n",
    "\n",
    "* Isn’t this the same as \n",
    "$$\n",
    "\\begin{equation}\n",
    "\\begin{bmatrix}\n",
    "1 & -2\\\\\n",
    "1 & 4\n",
    "\\end{bmatrix}\n",
    "\\begin{bmatrix}\n",
    "x\\\\\n",
    "y\n",
    "\\end{bmatrix}\n",
    "=\n",
    "\\begin{bmatrix}\n",
    "15\\\\\n",
    "19\n",
    "\\end{bmatrix}\n",
    "\\end{equation}\n",
    "$$\n",
    "* You are trying to find if there is an element in the domain which maps to $(15,19)$.\n",
    "* What exactly is happening here ? (Say all that you can)"
   ]
  },
  {
   "cell_type": "markdown",
   "metadata": {},
   "source": [
    "Yes, $(1)$ is just the matrix representation of the system of equations which are needed to be solved.\n",
    "\n",
    "Yes, by representing the equations in the matrix form, we are trying to find the unknown $x$ and $y$ which maps to $(15,19)$"
   ]
  }
 ],
 "metadata": {
  "kernelspec": {
   "display_name": "Python 3.10.5 ('venv': venv)",
   "language": "python",
   "name": "python3"
  },
  "language_info": {
   "name": "python",
   "version": "3.10.5"
  },
  "vscode": {
   "interpreter": {
    "hash": "ebc38b623ef32a07c0c3705cbfbfef9961b3b8ffa45410c134cd0a6baefbc95c"
   }
  }
 },
 "nbformat": 4,
 "nbformat_minor": 2
}
