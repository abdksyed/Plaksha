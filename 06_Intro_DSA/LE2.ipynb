{
 "cells": [
  {
   "attachments": {},
   "cell_type": "markdown",
   "metadata": {},
   "source": [
    "## Algorithm 1\n",
    "\n",
    "The `algo1` implementation has two `for loops`. The first loop start with `0 index` and all the way goes towards the end which is `n-1 index`, which in total is `n` iterations. \n",
    "\n",
    "The second loop which is inside the first loop runs from `0 index` to `n-i-1 index` where `i` is the first loop iteration variable. The `if` statement inside the second loop is constant.\n",
    "\n",
    "When `i=0`, the scond loop run for `n-1` times, for `i=1`, the secnod loops runs for `n-1` times and so on, for `i=n-1`, the second loop runs for `0` times.\n",
    "\n",
    "Hence the total complexity = $ (n-1) + (n-2) + ... + 0$\n",
    "\n",
    "This is the sum of `n-1` natural numbers, which is $\\frac{(n-1)(n)}{2} = \\frac{n^2 - n}{2}$\n",
    "\n",
    "Ignoring the constants and dropping the lower terms, asymptotically we have\n",
    "\n",
    "$$\n",
    "Time Complexity = \n",
    "O(n^2)\n",
    "$$"
   ]
  },
  {
   "attachments": {},
   "cell_type": "markdown",
   "metadata": {},
   "source": [
    "## Algorithm 2\n",
    "\n",
    "The `algo2` implementation is a recursion, which has two branches for every call. For the input `n`, the algorithm calls itself with the input `n-1` and `n-2`. This goes on until we reach the base case where `n=1 or n=2`. \n",
    "\n",
    "$$\n",
    "T(n) = T(n-1) + T(n-2) + 1\n",
    "$$ \n",
    "\n",
    "We assume $T(n-1) ~ T(n-2)$, we have $T(n) = 2T(n-1) + 1$.\n",
    "\n",
    "$$T(n-1) = T(n-2)+T(n-3)+1 \\approx 2T(n-2) + 1$$\n",
    "$$T(n) = 2[2T(n-2) + 1] + 1 = 2^2T(n-2) + 2^2-1$$\n",
    "$$...$$\n",
    "$$T(n) = 2^kT(n-k) + 2^k-1$$\n",
    "\n",
    "The Base case occurs when `n` is either `0` ir `1`, which is going down by `1` every oteration. Hence `k` is equal to `n`. Also We know at base case $T(0) = 1$\n",
    "\n",
    "$$\\therefore k=n, T(n) = 2^nT(0) + 2^n-1 = 2^n + 2^n-1$$\n",
    "\n",
    "$$\n",
    "Time Complexity = \n",
    "O(2^n)\n",
    "$$"
   ]
  },
  {
   "attachments": {},
   "cell_type": "markdown",
   "metadata": {},
   "source": [
    "## Algorithm 3\n",
    "\n",
    "The `algo3` is also a recursion, which is dividing the problem into `half` for every iteration.\n",
    "\n",
    "$$T(n) = T(\\frac{n}{2}) + 1$$\n",
    "$$T(n/2) = T(\\frac{n}{4}) + 1$$\n",
    "$$T(n) = (T(\\frac{n}{4}) + 1) + 1$$\n",
    "$$T(n) = T(\\frac{n}{2^2})+ 2$$\n",
    "$$...$$\n",
    "$$T(n) = T(\\frac{n}{2^k})+ k$$\n",
    "\n",
    "The base case, $T(1) = 1$\n",
    "\n",
    "$$\\frac{n}{2^k} = 1$$\n",
    "$$k = \\log_2 n$$\n",
    "\n",
    "$$T(n) = T(\\frac{n}{2^k})+ k = T(1) + k$$\n",
    "$$T(n) = 1 + log_2 n$$\n",
    "\n",
    "$$\n",
    "Time Complexity = \n",
    "O(\\log n)\n",
    "$$\n"
   ]
  },
  {
   "attachments": {},
   "cell_type": "markdown",
   "metadata": {},
   "source": [
    "## Algorithm 4\n",
    "\n",
    "The `algo4` has a loop which iterate over the enitre array of length `n`. In the worst case, when the element is not present or at last, the iteration happend for the entire `n` times. At best when the element is at first position, the algorithm returns out at first step itself. On average when the element is in the middle, the iteration is run for $\\frac{n}{2}$ times. Ignoring the constant term\n",
    "\n",
    "$$\n",
    "Time Complexity = \n",
    "O(n)\n",
    "$$"
   ]
  },
  {
   "attachments": {},
   "cell_type": "markdown",
   "metadata": {},
   "source": [
    "## Algorithm 5\n",
    "\n",
    "In this algorithm, we are diving the problem into 2 sub problems via recursion just like `algo3`. So the time complexity for the `algo5` function will $\\log n$. But we also have another function which is `algo5_helper`. The `aglo5_helper` run for the list and compare the elements, and merge two sub-arrays into one, and has the complexity of `n`. This `algo5_helper` is being run for `log n` times.\n",
    "\n",
    "$$\n",
    "Time Complexity = \n",
    "O(n.\\log n)\n",
    "$$"
   ]
  }
 ],
 "metadata": {
  "kernelspec": {
   "display_name": "venv",
   "language": "python",
   "name": "python3"
  },
  "language_info": {
   "name": "python",
   "version": "3.10.5 (main, Jul 16 2022, 07:05:41) [Clang 13.0.0 (clang-1300.0.27.3)]"
  },
  "orig_nbformat": 4,
  "vscode": {
   "interpreter": {
    "hash": "8d519ce160da629244c5fa84cf02a853bdfbd2d6722f9390c675e535dc1f1a96"
   }
  }
 },
 "nbformat": 4,
 "nbformat_minor": 2
}
