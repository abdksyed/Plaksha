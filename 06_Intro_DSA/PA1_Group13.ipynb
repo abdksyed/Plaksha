{
  "cells": [
    {
      "cell_type": "code",
      "execution_count": 1,
      "metadata": {
        "id": "Viz9UP1FESPF"
      },
      "outputs": [],
      "source": [
        "from collections import deque\n",
        "import time\n",
        "from typing import Any\n",
        "import matplotlib.pyplot as plt\n",
        "\n",
        "from PA1_test import testStack, testLinkedListStack, testTime"
      ]
    },
    {
      "cell_type": "code",
      "execution_count": 2,
      "metadata": {},
      "outputs": [],
      "source": [
        "%load_ext memory_profiler"
      ]
    },
    {
      "cell_type": "code",
      "execution_count": 3,
      "metadata": {
        "id": "uc4b56Yg3m1Y"
      },
      "outputs": [],
      "source": [
        "# Implementing Stacks using Arrays \n",
        "\n",
        "class ArrayStack:\n",
        "    \n",
        "    def __init__(self, constantSize:int = 1000) -> None:\n",
        "        \"\"\"\n",
        "        Construct a Stack ADT based on an Array, which increases with Constant size\n",
        "        whenever the stack is filled.\n",
        "\n",
        "        Arguments:\n",
        "            constantSize: int -> The constantSize number by which the array must increase when full.\n",
        "                Default: 10\n",
        "        \"\"\"\n",
        "        self.constantSize =  constantSize\n",
        "        self.pointer = -1\n",
        "        self.stack = ['GARBAGE_VALUE'] * self.constantSize\n",
        "        self.stackSize = constantSize\n",
        "\n",
        "    def push(self, element: Any) -> None:\n",
        "        \"\"\"\n",
        "        Push the `element` into the top of the stack. Here it append at the end of Array\n",
        "\n",
        "        Arguments:\n",
        "            element: -> Any Elements which needs to be pushed on top of stack.\n",
        "        \"\"\"\n",
        "        # If stack is Full, Increase size\n",
        "        if self.pointer == self.stackSize-1:\n",
        "            self._resize()\n",
        "        \n",
        "        # Move the pointer to new top position and replace garbage value with element.\n",
        "        self.pointer += 1\n",
        "        self.stack[self.pointer] = element\n",
        "\n",
        "    def pop(self) -> Any:\n",
        "        \"\"\"\n",
        "        Pop the Top element from the Stack and Returns it.\n",
        "        If the Stack is Empty it returns None\n",
        "\n",
        "        Returns:\n",
        "            element: Any|None -> Return the top element of the stack, returns None if empty stack.\n",
        "        \"\"\"\n",
        "        if self.isEmpty():\n",
        "            return\n",
        "        popped_val = self.stack[self.pointer]\n",
        "        self.stack[self.pointer] = 'GARBAGE_VALUE'\n",
        "        self.pointer -= 1\n",
        "        return popped_val\n",
        "\n",
        "    def size(self) -> int:\n",
        "        \"\"\"\n",
        "        Return the size of the stack (NOT THE ARRAY SIZE)\n",
        "\n",
        "        returns:\n",
        "            pointer+1 : int -> The index_pointer+1 at which top element resides is the size of stack\n",
        "        \"\"\"\n",
        "        return self.pointer+1\n",
        "\n",
        "    def _resize(self) -> None:\n",
        "        \"\"\"\n",
        "        Resizes the array, by creating a new array of size old_array + constant_size, \n",
        "        copying all the elements of old array.\n",
        "        Changes the stack in-place.\n",
        "        \"\"\"\n",
        "        # Copy the Old Stack All Elements, Increase the size by `constantSize`\n",
        "        self.stack = self.stack + [None] * self.constantSize\n",
        "        self.stackSize += self.constantSize\n",
        "\n",
        "    def top(self) -> Any:\n",
        "        \"\"\"\n",
        "        Returns the top most element of the stack. DOES NOT remove the top\n",
        "        element, just return the value of top element\n",
        "\n",
        "        Returns:\n",
        "            top_elements: Any -> The top element of the stack, if stack is empty returns None\n",
        "        \"\"\"\n",
        "        if self.isEmpty():\n",
        "            return\n",
        "        return self.stack[self.pointer]\n",
        "\n",
        "    def isEmpty(self) -> bool:\n",
        "        \"\"\"\n",
        "        Return True if the stack is empty, else returns False\n",
        "        This is performed by seeing the index_pointer value, if index_pointer is -1\n",
        "        it means that there are no elements in the stack.\n",
        "        \"\"\"\n",
        "        return self.pointer == -1\n",
        "\n",
        "    def printIsEmpty(self) -> None:\n",
        "        \"\"\"\n",
        "        Prints the empty status of stack.\n",
        "        \"\"\"\n",
        "        print(\"\\nStack is Empty\\n\") if self.isEmpty() else print(\"\\nStack is not Empty\\n\")\n",
        "\n",
        "\n",
        "    def printStack(self) -> None:\n",
        "        \"\"\"\n",
        "        Print the Stack\n",
        "        \"\"\"\n",
        "        print(self.stack)"
      ]
    },
    {
      "cell_type": "code",
      "execution_count": 4,
      "metadata": {},
      "outputs": [
        {
          "name": "stdout",
          "output_type": "stream",
          "text": [
            "Test Cases Passed\n"
          ]
        }
      ],
      "source": [
        "testStack(ArrayStack)"
      ]
    },
    {
      "cell_type": "code",
      "execution_count": 5,
      "metadata": {},
      "outputs": [],
      "source": [
        "# Implementing Stack using Array.\n",
        "# Double the Size of Array, when the stack is Full\n",
        "\n",
        "class DoublingArrayStack(ArrayStack):\n",
        "    \n",
        "    def __init__(self):\n",
        "        super().__init__()\n",
        "        \n",
        "    def _resize(self) -> None:\n",
        "        \"\"\"\n",
        "        Resizes the array, by creating a new array of size old_array + constant_size, \n",
        "        copying all the elements of old array.\n",
        "        Changes the stack in-place.\n",
        "        \"\"\"\n",
        "        # Copy the Old Stack All Elements, Double the size of Stack\n",
        "        self.stack = self.stack + ['GARBAGE_VALUE'] * (self.pointer+1)\n",
        "        self.stackSize += (self.pointer+1)"
      ]
    },
    {
      "cell_type": "code",
      "execution_count": 6,
      "metadata": {},
      "outputs": [
        {
          "name": "stdout",
          "output_type": "stream",
          "text": [
            "Test Cases Passed\n"
          ]
        }
      ],
      "source": [
        "testStack(DoublingArrayStack)"
      ]
    },
    {
      "cell_type": "code",
      "execution_count": 7,
      "metadata": {
        "id": "tMH7PoIpBCE0"
      },
      "outputs": [],
      "source": [
        "# Implementing Stacks Linked Lists\n",
        "\n",
        "# Node class for the individual nodes\n",
        "class Node:\n",
        "\n",
        "    def __init__(self, data: Any):\n",
        "        self.data = data\n",
        "        self.next = None\n",
        "    \n",
        "    def __repr__(self):\n",
        "        return f\"(Data:{self.data}->{str(self.next)})\"\n",
        " \n",
        "\n",
        "# Manager class to link the nodes and manage the overall list\n",
        "class LinkedListStack:\n",
        "    def __init__(self, Node=Node):\n",
        "        \"\"\"\n",
        "        Construct a Stack ADT based on a Linked List.\n",
        "\n",
        "        Arguments:\n",
        "            Node: Node -> The Node Class which is used as a Linked List Node\n",
        "        \"\"\"\n",
        "        self.Node = Node\n",
        "        self.head = None\n",
        "        self.stackSize = 0\n",
        "\n",
        "    def push(self, data: Any) -> None:\n",
        "        \"\"\"\n",
        "        Push the `data` into the top of the stack.\n",
        "        Create a node with `data` and add it to head of\n",
        "        Linked List\n",
        "\n",
        "        Arguments:\n",
        "            data: -> Any Elements which needs to be pushed on top of stack.\n",
        "        \"\"\"\n",
        "        element = self.Node(data)\n",
        "        element.next = self.head\n",
        "        self.head = element\n",
        "        self.stackSize += 1\n",
        "\n",
        "    def pop(self) -> Any:\n",
        "        \"\"\"\n",
        "        Pop the Top element from the Stack and Returns it.\n",
        "        If the Stack is Empty it returns None\n",
        "\n",
        "        Returns:\n",
        "            data: Any|None -> Return the top element of the stack, returns None if empty stack.\n",
        "        \"\"\"\n",
        "        if self.isEmpty():\n",
        "            return\n",
        "        popped_val = self.head.data\n",
        "        self.head = self.head.next\n",
        "        self.stackSize -= 1\n",
        "\n",
        "        return popped_val\n",
        "\n",
        "    def size(self) -> int:\n",
        "        \"\"\"\n",
        "        Return the size of the stack\n",
        "\n",
        "        returns:\n",
        "            stackSize : int -> The stackSize counter which keeps track of number of nodes created and deleted\n",
        "        \"\"\"\n",
        "        return self.stackSize\n",
        "\n",
        "    def top(self) -> Any:\n",
        "        \"\"\"\n",
        "        Returns the top most element of the stack. DOES NOT remove the top\n",
        "        element, just return the value of top element\n",
        "\n",
        "        Returns:\n",
        "            top_elements: Any -> The top element of the stack, if stack is empty returns None\n",
        "        \"\"\"\n",
        "        if self.isEmpty():\n",
        "            return\n",
        "        return self.head.data\n",
        "\n",
        "    def isEmpty(self) -> bool:\n",
        "        \"\"\"\n",
        "        Return True if the stack is empty, else returns False\n",
        "        This is performed by checking the stackSize, if stackSize is 0,\n",
        "        return True else False.\n",
        "        \"\"\"\n",
        "        return not bool(self.stackSize)\n",
        "\n",
        "    def printIsEmpty(self) -> None:\n",
        "        \"\"\"\n",
        "        Prints the empty status of stack.\n",
        "        \"\"\"\n",
        "        print(\"\\nStack is Empty\\n\") if self.isEmpty() else print(\n",
        "            \"\\nStack is not Empty\\n\"\n",
        "        )\n",
        "\n",
        "    def reverseList(self) -> None:\n",
        "        \"\"\"\n",
        "        Reverse the Linked List in place.\n",
        "        Where the pointers for all nodes are reversed.\n",
        "        \"\"\"\n",
        "        p1 = None\n",
        "        p2 = self.head\n",
        "        while p2 is not None:\n",
        "            # Pointing to Next Node\n",
        "            temp = p2.next\n",
        "            # Making Next Node Point to Previous\n",
        "            p2.next = p1\n",
        "            # Moving To Next Iteration\n",
        "            p1 = p2\n",
        "            p2 = temp\n",
        "\n",
        "        self.head = p1\n",
        "\n",
        "    def printStack(self):\n",
        "        \"\"\"\n",
        "        Print the Stack\n",
        "        \"\"\"\n",
        "        return self.head"
      ]
    },
    {
      "cell_type": "code",
      "execution_count": 8,
      "metadata": {},
      "outputs": [
        {
          "data": {
            "text/plain": [
              "(Data:15->(Data:13->(Data:10->None)))"
            ]
          },
          "execution_count": 8,
          "metadata": {},
          "output_type": "execute_result"
        }
      ],
      "source": [
        "a = LinkedListStack()\n",
        "a.push(10)\n",
        "a.push(13)\n",
        "a.push(15)\n",
        "a.printStack()"
      ]
    },
    {
      "cell_type": "code",
      "execution_count": 9,
      "metadata": {},
      "outputs": [
        {
          "name": "stdout",
          "output_type": "stream",
          "text": [
            "Test Cases Passed\n"
          ]
        }
      ],
      "source": [
        "testStack(LinkedListStack)"
      ]
    },
    {
      "cell_type": "code",
      "execution_count": 10,
      "metadata": {},
      "outputs": [
        {
          "name": "stdout",
          "output_type": "stream",
          "text": [
            "Linked List Specific Test Cases Passed\n"
          ]
        }
      ],
      "source": [
        "testLinkedListStack(LinkedListStack)"
      ]
    },
    {
      "cell_type": "code",
      "execution_count": 11,
      "metadata": {},
      "outputs": [],
      "source": [
        "class DequeStack(deque):\n",
        "    def __init__(self):\n",
        "        \"\"\"\n",
        "        Wrapper Class for Stack built on top of Deque.\n",
        "        \"\"\"  \n",
        "        super().__init__()\n",
        "        self.push = self.append\n",
        "    \n",
        "    def isEmpty(self):\n",
        "        \"\"\"\n",
        "        Return True if the stack is empty, else returns False\n",
        "        This is performed by checking the length. If length is 0\n",
        "        return True else False.\n",
        "        \"\"\"\n",
        "        return not bool(self.__len__())\n",
        "\n",
        "    def pop(self):\n",
        "        \"\"\"\n",
        "        Pop the Top element from the Stack and Returns it.\n",
        "        If the Stack is Empty it returns None\n",
        "\n",
        "        Returns:\n",
        "            data: Any|None -> Return the top element of the stack, returns None if empty stack.\n",
        "        \"\"\"\n",
        "        if self.isEmpty():\n",
        "            return\n",
        "        return super().pop()\n",
        "\n",
        "    def size(self):\n",
        "        \"\"\"\n",
        "        Return the size of the stack\n",
        "\n",
        "        returns:\n",
        "            __len__ : int -> Returns the length function of the Deque\n",
        "        \"\"\"\n",
        "        return self.__len__()\n",
        "\n",
        "    \n",
        "    def top(self):\n",
        "        \"\"\"\n",
        "        Returns the top most element of the stack. DOES NOT remove the top\n",
        "        element, just return the value of top element\n",
        "\n",
        "        Returns:\n",
        "            top_elements: Any -> The top element of the stack, if stack is empty returns None\n",
        "        \"\"\"\n",
        "        if self.isEmpty():\n",
        "            return\n",
        "        popped_val = super().pop()\n",
        "        super().append(popped_val)\n",
        "        return popped_val\n"
      ]
    },
    {
      "cell_type": "code",
      "execution_count": 12,
      "metadata": {},
      "outputs": [
        {
          "name": "stdout",
          "output_type": "stream",
          "text": [
            "Test Cases Passed\n"
          ]
        }
      ],
      "source": [
        "testStack(DequeStack)"
      ]
    },
    {
      "cell_type": "code",
      "execution_count": 58,
      "metadata": {},
      "outputs": [],
      "source": [
        "def test(epochs, iterations):\n",
        "    l1 = testTime(ArrayStack, epochs, iterations)\n",
        "    l2 = testTime(DoublingArrayStack, epochs, iterations)\n",
        "    l3 = testTime(LinkedListStack, epochs, iterations)\n",
        "    l4 = testTime(DequeStack, epochs, iterations)\n",
        "\n",
        "    f, (ax1) = plt.subplots(1,1, sharex=True, sharey=False, figsize=(8,8))\n",
        "\n",
        "    # plt.figure(figsize = (12,20))\n",
        "    \n",
        "    ax1.plot(l1)\n",
        "    ax1.plot(l2)\n",
        "    ax1.plot(l3)\n",
        "    ax1.plot(l4)\n",
        "    ax1.legend(['Array Constant Increase Stack', 'Array Double Increase Stack', 'Linked List Stack', 'Inbuilt Deque Stack'], loc=\"upper left\")\n",
        "    ax1.set_ylabel('Time in Seconds')\n",
        "\n",
        "    # ax2.plot(l2)\n",
        "    # ax2.plot(l3)\n",
        "    # ax2.plot(l4)\n",
        "    # ax2.legend(['Array Double Increase Stack', 'Linked List Stack', 'Inbuilt Deque Stack'], loc=\"upper left\")\n",
        "    # ax1.set_ylabel('Time in Seconds')\n",
        "\n",
        "    plt.xlabel('Number of Pushes (x1000)')\n",
        "    plt.tight_layout()\n",
        "\n",
        "    plt.show()"
      ]
    },
    {
      "cell_type": "code",
      "execution_count": 68,
      "metadata": {},
      "outputs": [
        {
          "data": {
            "text/plain": [
              "[<matplotlib.lines.Line2D at 0x1187ae740>]"
            ]
          },
          "execution_count": 68,
          "metadata": {},
          "output_type": "execute_result"
        },
        {
          "data": {
            "image/png": "[encoded data removed]",
            "text/plain": [
              "<Figure size 640x480 with 1 Axes>"
            ]
          },
          "metadata": {},
          "output_type": "display_data"
        }
      ],
      "source": [
        "b = []\n",
        "for _ in range(10000):\n",
        "    a = time.perf_counter()\n",
        "    for _ in range(1000):\n",
        "        Node(10)\n",
        "    b.append(time.perf_counter() - a)\n",
        "plt.plot(b)"
      ]
    },
    {
      "cell_type": "code",
      "execution_count": 66,
      "metadata": {},
      "outputs": [
        {
          "data": {
            "image/png": "[encoded data removed]",
            "text/plain": [
              "<Figure size 800x800 with 1 Axes>"
            ]
          },
          "metadata": {},
          "output_type": "display_data"
        }
      ],
      "source": [
        "test(100_000, 100)"
      ]
    },
    {
      "cell_type": "code",
      "execution_count": null,
      "metadata": {},
      "outputs": [],
      "source": []
    }
  ],
  "metadata": {
    "colab": {
      "provenance": []
    },
    "kernelspec": {
      "display_name": "venv",
      "language": "python",
      "name": "python3"
    },
    "language_info": {
      "codemirror_mode": {
        "name": "ipython",
        "version": 3
      },
      "file_extension": ".py",
      "mimetype": "text/x-python",
      "name": "python",
      "nbconvert_exporter": "python",
      "pygments_lexer": "ipython3",
      "version": "3.10.5 (main, Jul 16 2022, 07:05:41) [Clang 13.0.0 (clang-1300.0.27.3)]"
    },
    "vscode": {
      "interpreter": {
        "hash": "62a0415e7032510b619319a826f4abc4d6933f4674bdbd2bc68d2b604436de5a"
      }
    }
  },
  "nbformat": 4,
  "nbformat_minor": 0
}
